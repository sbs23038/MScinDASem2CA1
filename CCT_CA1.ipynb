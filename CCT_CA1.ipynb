{
 "cells": [
  {
   "cell_type": "code",
   "execution_count": 2,
   "id": "fff49a68",
   "metadata": {},
   "outputs": [
    {
     "data": {
      "text/plain": [
       "'local[*]'"
      ]
     },
     "execution_count": 2,
     "metadata": {},
     "output_type": "execute_result"
    }
   ],
   "source": [
    "sc.master"
   ]
  },
  {
   "cell_type": "code",
   "execution_count": 3,
   "id": "230dafdd",
   "metadata": {},
   "outputs": [],
   "source": [
    "import warnings\n",
    "warnings.filterwarnings(\"ignore\")"
   ]
  },
  {
   "cell_type": "code",
   "execution_count": 68,
   "id": "9bc1f543",
   "metadata": {},
   "outputs": [
    {
     "data": {
      "text/plain": [
       "'/Economics_submissions.txt'"
      ]
     },
     "execution_count": 68,
     "metadata": {},
     "output_type": "execute_result"
    }
   ],
   "source": [
    "path"
   ]
  },
  {
   "cell_type": "code",
   "execution_count": 4,
   "id": "a5c92526",
   "metadata": {},
   "outputs": [],
   "source": [
    "# spark is from the previous example.\n",
    "sc = spark.sparkContext\n",
    "\n",
    "# A JSON dataset is pointed to by path.\n",
    "# Move the 'people.json' file to hadoop /user1\n",
    "\n",
    "path = \"/Economics_submissions.txt\"\n",
    "#peopleDF = spark.read.json(path)"
   ]
  },
  {
   "cell_type": "code",
   "execution_count": 6,
   "id": "0b4336c3",
   "metadata": {},
   "outputs": [],
   "source": [
    "df = spark.read.text(path)"
   ]
  },
  {
   "cell_type": "code",
   "execution_count": 9,
   "id": "67345a23",
   "metadata": {},
   "outputs": [
    {
     "name": "stderr",
     "output_type": "stream",
     "text": [
      "                                                                                \r"
     ]
    }
   ],
   "source": [
    "total_rows = df.count()"
   ]
  },
  {
   "cell_type": "code",
   "execution_count": 10,
   "id": "58a3a431",
   "metadata": {},
   "outputs": [],
   "source": [
    "from pyspark.sql.functions import col"
   ]
  },
  {
   "cell_type": "code",
   "execution_count": 11,
   "id": "432ba83e",
   "metadata": {},
   "outputs": [],
   "source": [
    "chunk_list = []"
   ]
  },
  {
   "cell_type": "code",
   "execution_count": 28,
   "id": "4deea171",
   "metadata": {},
   "outputs": [],
   "source": [
    "import json"
   ]
  },
  {
   "cell_type": "code",
   "execution_count": 36,
   "id": "ad4bc55d",
   "metadata": {},
   "outputs": [],
   "source": [
    "def extract_title(json_str):\n",
    "    try:\n",
    "        json_obj = json.loads(json_str)\n",
    "        title = json_obj.get('title', None)\n",
    "        if title and isinstance(title,str):\n",
    "            return title\n",
    "    except Exception as e:\n",
    "        pass\n",
    "        return None"
   ]
  },
  {
   "cell_type": "code",
   "execution_count": 37,
   "id": "5b31812d",
   "metadata": {},
   "outputs": [],
   "source": [
    "from pyspark.sql.functions import udf\n",
    "from pyspark.sql.types import StringType"
   ]
  },
  {
   "cell_type": "code",
   "execution_count": 38,
   "id": "2812ae0f",
   "metadata": {},
   "outputs": [],
   "source": [
    "extract_title_udf = udf(extract_title, StringType())"
   ]
  },
  {
   "cell_type": "code",
   "execution_count": 39,
   "id": "423780bc",
   "metadata": {},
   "outputs": [],
   "source": [
    "df_titles = df.withColumn('title',extract_title_udf(col('value')))"
   ]
  },
  {
   "cell_type": "code",
   "execution_count": 40,
   "id": "deef6cd0",
   "metadata": {},
   "outputs": [],
   "source": [
    "df_valid_title = df_titles.filter(col('title').isNotNull())"
   ]
  },
  {
   "cell_type": "code",
   "execution_count": 42,
   "id": "084e7269",
   "metadata": {},
   "outputs": [
    {
     "name": "stderr",
     "output_type": "stream",
     "text": [
      "                                                                                \r"
     ]
    },
    {
     "name": "stdout",
     "output_type": "stream",
     "text": [
      "+--------------------+--------------------+\n",
      "|               value|               title|\n",
      "+--------------------+--------------------+\n",
      "|{\"archived\":true,...|The Best Economic...|\n",
      "|{\"archived\":true,...|Meta: Seed The Ec...|\n",
      "|{\"archived\":true,...|Meta: Seed The Ec...|\n",
      "|{\"archived\":true,...|     Calculated Risk|\n",
      "|{\"archived\":true,...|Chris Blattman's ...|\n",
      "|{\"archived\":true,...|Consider the Evid...|\n",
      "|{\"archived\":true,...|Dani Rodrik's weblog|\n",
      "|{\"archived\":true,...|Freakonomics - Op...|\n",
      "|{\"archived\":true,...|        gladwell.com|\n",
      "|{\"archived\":true,...|Apple: Sandbaggin...|\n",
      "|{\"archived\":true,...|When Iceland was ...|\n",
      "|{\"archived\":true,...|My jaw just hit t...|\n",
      "|{\"archived\":true,...|   Stimulus Gone Bad|\n",
      "|{\"archived\":true,...|Stimulant or Hall...|\n",
      "|{\"archived\":true,...|P.J. O'Rourke Tak...|\n",
      "|{\"archived\":true,...|To fix economy, p...|\n",
      "|{\"archived\":true,...|Update on Societe...|\n",
      "|{\"archived\":true,...|Welfare for Wall ...|\n",
      "|{\"archived\":true,...|Stimulus plan may...|\n",
      "|{\"archived\":true,...|Delinquencies Up ...|\n",
      "+--------------------+--------------------+\n",
      "only showing top 20 rows\n",
      "\n"
     ]
    }
   ],
   "source": [
    "df_valid_title.show()"
   ]
  },
  {
   "cell_type": "code",
   "execution_count": 89,
   "id": "0df9d796",
   "metadata": {},
   "outputs": [],
   "source": [
    "def extract_date(json_str):\n",
    "    try:\n",
    "        json_obj = json.loads(json_str)\n",
    "        utc = json_obj.get('created_utc', None)\n",
    "        if utc and isinstance(utc,int):\n",
    "            return utc\n",
    "    except Exception as e:\n",
    "        pass\n",
    "        return None"
   ]
  },
  {
   "cell_type": "code",
   "execution_count": 92,
   "id": "bc92f55e",
   "metadata": {},
   "outputs": [],
   "source": [
    "extract_date_udf = udf(extract_date, IntegerType())"
   ]
  },
  {
   "cell_type": "code",
   "execution_count": 93,
   "id": "597fa7a2",
   "metadata": {},
   "outputs": [],
   "source": [
    "df_date = df.withColumn('created_utc',extract_date_udf(col('value')))"
   ]
  },
  {
   "cell_type": "code",
   "execution_count": 94,
   "id": "d02c3754",
   "metadata": {},
   "outputs": [],
   "source": [
    "df_valid_date = df_date.filter(col('created_utc').isNotNull())"
   ]
  },
  {
   "cell_type": "code",
   "execution_count": 95,
   "id": "227812b7",
   "metadata": {},
   "outputs": [
    {
     "name": "stderr",
     "output_type": "stream",
     "text": [
      "\r",
      "[Stage 1921:>                                                       (0 + 1) / 1]\r"
     ]
    },
    {
     "name": "stdout",
     "output_type": "stream",
     "text": [
      "+--------------------+-----------+\n",
      "|               value|created_utc|\n",
      "+--------------------+-----------+\n",
      "|{\"archived\":true,...| 1201236548|\n",
      "|{\"archived\":true,...| 1201236599|\n",
      "|{\"archived\":true,...| 1201236626|\n",
      "|{\"archived\":true,...| 1201236662|\n",
      "|{\"archived\":true,...| 1201236696|\n",
      "|{\"archived\":true,...| 1201236717|\n",
      "|{\"archived\":true,...| 1201236732|\n",
      "|{\"archived\":true,...| 1201237559|\n",
      "|{\"archived\":true,...| 1201237783|\n",
      "|{\"archived\":true,...| 1201239067|\n",
      "|{\"archived\":true,...| 1201270599|\n",
      "|{\"archived\":true,...| 1201270753|\n",
      "|{\"archived\":true,...| 1201271556|\n",
      "|{\"archived\":true,...| 1201295011|\n",
      "|{\"archived\":true,...| 1201312246|\n",
      "|{\"archived\":true,...| 1201319383|\n",
      "|{\"archived\":true,...| 1201323100|\n",
      "|{\"archived\":true,...| 1201323505|\n",
      "|{\"archived\":true,...| 1201323675|\n",
      "|{\"archived\":true,...| 1201323782|\n",
      "+--------------------+-----------+\n",
      "only showing top 20 rows\n",
      "\n"
     ]
    },
    {
     "name": "stderr",
     "output_type": "stream",
     "text": [
      "\r",
      "                                                                                \r"
     ]
    }
   ],
   "source": [
    "df_valid_date.show()"
   ]
  },
  {
   "cell_type": "code",
   "execution_count": 96,
   "id": "ead731da",
   "metadata": {},
   "outputs": [],
   "source": [
    "selected_date = df_valid_date.select(\"created_utc\")"
   ]
  },
  {
   "cell_type": "code",
   "execution_count": 97,
   "id": "61e97739",
   "metadata": {},
   "outputs": [],
   "source": [
    "selected_title = df_valid_title.select(\"title\")"
   ]
  },
  {
   "cell_type": "code",
   "execution_count": 98,
   "id": "b772b4fa",
   "metadata": {},
   "outputs": [],
   "source": [
    "output_path = \"/date_df_2.csv\""
   ]
  },
  {
   "cell_type": "code",
   "execution_count": 82,
   "id": "bab72c02",
   "metadata": {},
   "outputs": [],
   "source": [
    "output_path_title = \"/title_df_1.csv\""
   ]
  },
  {
   "cell_type": "code",
   "execution_count": 99,
   "id": "4aa84032",
   "metadata": {},
   "outputs": [
    {
     "name": "stderr",
     "output_type": "stream",
     "text": [
      "                                                                                \r"
     ]
    }
   ],
   "source": [
    "selected_date.write.csv(output_path,header=True, mode = 'overwrite')"
   ]
  },
  {
   "cell_type": "code",
   "execution_count": 84,
   "id": "7e18d7ef",
   "metadata": {},
   "outputs": [
    {
     "name": "stderr",
     "output_type": "stream",
     "text": [
      "                                                                                \r"
     ]
    }
   ],
   "source": [
    "selected_title.write.csv(output_path_title, header=True, mode = 'overwrite')"
   ]
  },
  {
   "cell_type": "code",
   "execution_count": null,
   "id": "357b5eb5",
   "metadata": {},
   "outputs": [],
   "source": []
  }
 ],
 "metadata": {
  "kernelspec": {
   "display_name": "Python 3 (ipykernel)",
   "language": "python",
   "name": "python3"
  },
  "language_info": {
   "codemirror_mode": {
    "name": "ipython",
    "version": 3
   },
   "file_extension": ".py",
   "mimetype": "text/x-python",
   "name": "python",
   "nbconvert_exporter": "python",
   "pygments_lexer": "ipython3",
   "version": "3.10.12"
  }
 },
 "nbformat": 4,
 "nbformat_minor": 5
}
