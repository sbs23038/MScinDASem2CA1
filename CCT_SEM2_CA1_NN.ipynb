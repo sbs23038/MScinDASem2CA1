{
 "cells": [
  {
   "cell_type": "markdown",
   "metadata": {},
   "source": [
    "## An Exploration of the Predictive Power of Social News Sentiment on Stock Market Prices"
   ]
  },
  {
   "cell_type": "code",
   "execution_count": 225,
   "metadata": {},
   "outputs": [
    {
     "name": "stderr",
     "output_type": "stream",
     "text": [
      "[nltk_data] Downloading package vader_lexicon to\n",
      "[nltk_data]     C:\\Users\\hp\\AppData\\Roaming\\nltk_data...\n",
      "[nltk_data]   Package vader_lexicon is already up-to-date!\n"
     ]
    }
   ],
   "source": [
    "# importing various libraries\n",
    "import pandas as pd\n",
    "import numpy as np\n",
    "import matplotlib.pyplot as plt\n",
    "import datetime\n",
    "import nltk\n",
    "nltk.download('vader_lexicon')\n",
    "from nltk.sentiment.vader import SentimentIntensityAnalyzer\n",
    "import tensorflow as tf\n",
    "from tensorflow import keras\n",
    "from keras.models import Sequential\n",
    "from keras.layers import Dense\n",
    "from sklearn.model_selection import train_test_split\n",
    "from sklearn.preprocessing import StandardScaler\n",
    "from sklearn.model_selection import GridSearchCV\n",
    "from sklearn.metrics import accuracy_score, precision_score, recall_score\n",
    "from sklearn.metrics import make_scorer\n",
    "from keras.layers import SimpleRNN\n",
    "from keras.utils import np_utils\n",
    "from tensorflow.keras.metrics import Precision, Recall"
   ]
  },
  {
   "cell_type": "markdown",
   "metadata": {},
   "source": [
    "## Data Preparation"
   ]
  },
  {
   "cell_type": "code",
   "execution_count": 226,
   "metadata": {},
   "outputs": [],
   "source": [
    "# reading in the date csv files shared between VM and local machine\n",
    "date_1 = pd.read_csv(\"date_1.csv\")\n",
    "date_2 = pd.read_csv(\"date_2.csv\")\n",
    "date_3 = pd.read_csv(\"date_3.csv\")\n",
    "date_4 = pd.read_csv(\"date_4.csv\")\n",
    "date_5 = pd.read_csv(\"date_5.csv\")\n",
    "\n",
    "full_date_df = pd.concat([date_1,date_2,date_3,date_4,date_5])"
   ]
  },
  {
   "cell_type": "code",
   "execution_count": 227,
   "metadata": {},
   "outputs": [
    {
     "data": {
      "text/html": [
       "<div>\n",
       "<style scoped>\n",
       "    .dataframe tbody tr th:only-of-type {\n",
       "        vertical-align: middle;\n",
       "    }\n",
       "\n",
       "    .dataframe tbody tr th {\n",
       "        vertical-align: top;\n",
       "    }\n",
       "\n",
       "    .dataframe thead th {\n",
       "        text-align: right;\n",
       "    }\n",
       "</style>\n",
       "<table border=\"1\" class=\"dataframe\">\n",
       "  <thead>\n",
       "    <tr style=\"text-align: right;\">\n",
       "      <th></th>\n",
       "      <th>created_utc</th>\n",
       "    </tr>\n",
       "  </thead>\n",
       "  <tbody>\n",
       "    <tr>\n",
       "      <th>0</th>\n",
       "      <td>1201236548</td>\n",
       "    </tr>\n",
       "    <tr>\n",
       "      <th>1</th>\n",
       "      <td>1201236599</td>\n",
       "    </tr>\n",
       "    <tr>\n",
       "      <th>2</th>\n",
       "      <td>1201236626</td>\n",
       "    </tr>\n",
       "    <tr>\n",
       "      <th>3</th>\n",
       "      <td>1201236662</td>\n",
       "    </tr>\n",
       "    <tr>\n",
       "      <th>4</th>\n",
       "      <td>1201236696</td>\n",
       "    </tr>\n",
       "  </tbody>\n",
       "</table>\n",
       "</div>"
      ],
      "text/plain": [
       "   created_utc\n",
       "0   1201236548\n",
       "1   1201236599\n",
       "2   1201236626\n",
       "3   1201236662\n",
       "4   1201236696"
      ]
     },
     "execution_count": 227,
     "metadata": {},
     "output_type": "execute_result"
    }
   ],
   "source": [
    "full_date_df.head()"
   ]
  },
  {
   "cell_type": "code",
   "execution_count": 228,
   "metadata": {},
   "outputs": [],
   "source": [
    "# reading in the reddit thread title files shared between VM and local machine\n",
    "title_1 = pd.read_csv(\"title_1.csv\")\n",
    "title_2 = pd.read_csv(\"title_2.csv\")\n",
    "title_3 = pd.read_csv(\"title_3.csv\")\n",
    "title_4 = pd.read_csv(\"title_4.csv\")\n",
    "title_5 = pd.read_csv(\"title_5.csv\")\n",
    "\n",
    "full_title_df = pd.concat([title_1,title_2,title_3,title_4,title_5])"
   ]
  },
  {
   "cell_type": "code",
   "execution_count": 229,
   "metadata": {},
   "outputs": [
    {
     "data": {
      "text/html": [
       "<div>\n",
       "<style scoped>\n",
       "    .dataframe tbody tr th:only-of-type {\n",
       "        vertical-align: middle;\n",
       "    }\n",
       "\n",
       "    .dataframe tbody tr th {\n",
       "        vertical-align: top;\n",
       "    }\n",
       "\n",
       "    .dataframe thead th {\n",
       "        text-align: right;\n",
       "    }\n",
       "</style>\n",
       "<table border=\"1\" class=\"dataframe\">\n",
       "  <thead>\n",
       "    <tr style=\"text-align: right;\">\n",
       "      <th></th>\n",
       "      <th>title</th>\n",
       "    </tr>\n",
       "  </thead>\n",
       "  <tbody>\n",
       "    <tr>\n",
       "      <th>0</th>\n",
       "      <td>The Best Economics Blog Going</td>\n",
       "    </tr>\n",
       "    <tr>\n",
       "      <th>1</th>\n",
       "      <td>Meta: Seed The Economics blog with direct link...</td>\n",
       "    </tr>\n",
       "    <tr>\n",
       "      <th>2</th>\n",
       "      <td>Meta: Seed The Economics subreddit with direct...</td>\n",
       "    </tr>\n",
       "    <tr>\n",
       "      <th>3</th>\n",
       "      <td>Calculated Risk</td>\n",
       "    </tr>\n",
       "    <tr>\n",
       "      <th>4</th>\n",
       "      <td>Chris Blattman's Blog</td>\n",
       "    </tr>\n",
       "  </tbody>\n",
       "</table>\n",
       "</div>"
      ],
      "text/plain": [
       "                                               title\n",
       "0                      The Best Economics Blog Going\n",
       "1  Meta: Seed The Economics blog with direct link...\n",
       "2  Meta: Seed The Economics subreddit with direct...\n",
       "3                                    Calculated Risk\n",
       "4                              Chris Blattman's Blog"
      ]
     },
     "execution_count": 229,
     "metadata": {},
     "output_type": "execute_result"
    }
   ],
   "source": [
    "full_title_df.head()"
   ]
  },
  {
   "cell_type": "code",
   "execution_count": 230,
   "metadata": {},
   "outputs": [],
   "source": [
    "# combining the date and titles dataframes\n",
    "full_df = pd.concat([full_date_df.reset_index(), full_title_df.reset_index()], axis=1)"
   ]
  },
  {
   "cell_type": "code",
   "execution_count": 231,
   "metadata": {},
   "outputs": [],
   "source": [
    "# removing NA values\n",
    "full_df_clean = full_df.dropna()"
   ]
  },
  {
   "cell_type": "code",
   "execution_count": 232,
   "metadata": {},
   "outputs": [
    {
     "name": "stdout",
     "output_type": "stream",
     "text": [
      "(263650, 4)\n"
     ]
    }
   ],
   "source": [
    "print(full_df_clean.shape)"
   ]
  },
  {
   "cell_type": "code",
   "execution_count": 233,
   "metadata": {},
   "outputs": [
    {
     "data": {
      "text/html": [
       "<div>\n",
       "<style scoped>\n",
       "    .dataframe tbody tr th:only-of-type {\n",
       "        vertical-align: middle;\n",
       "    }\n",
       "\n",
       "    .dataframe tbody tr th {\n",
       "        vertical-align: top;\n",
       "    }\n",
       "\n",
       "    .dataframe thead th {\n",
       "        text-align: right;\n",
       "    }\n",
       "</style>\n",
       "<table border=\"1\" class=\"dataframe\">\n",
       "  <thead>\n",
       "    <tr style=\"text-align: right;\">\n",
       "      <th></th>\n",
       "      <th>index</th>\n",
       "      <th>created_utc</th>\n",
       "      <th>index</th>\n",
       "      <th>title</th>\n",
       "    </tr>\n",
       "  </thead>\n",
       "  <tbody>\n",
       "    <tr>\n",
       "      <th>0</th>\n",
       "      <td>0.0</td>\n",
       "      <td>1.201237e+09</td>\n",
       "      <td>0</td>\n",
       "      <td>The Best Economics Blog Going</td>\n",
       "    </tr>\n",
       "    <tr>\n",
       "      <th>1</th>\n",
       "      <td>1.0</td>\n",
       "      <td>1.201237e+09</td>\n",
       "      <td>1</td>\n",
       "      <td>Meta: Seed The Economics blog with direct link...</td>\n",
       "    </tr>\n",
       "    <tr>\n",
       "      <th>2</th>\n",
       "      <td>2.0</td>\n",
       "      <td>1.201237e+09</td>\n",
       "      <td>2</td>\n",
       "      <td>Meta: Seed The Economics subreddit with direct...</td>\n",
       "    </tr>\n",
       "    <tr>\n",
       "      <th>3</th>\n",
       "      <td>3.0</td>\n",
       "      <td>1.201237e+09</td>\n",
       "      <td>3</td>\n",
       "      <td>Calculated Risk</td>\n",
       "    </tr>\n",
       "    <tr>\n",
       "      <th>4</th>\n",
       "      <td>4.0</td>\n",
       "      <td>1.201237e+09</td>\n",
       "      <td>4</td>\n",
       "      <td>Chris Blattman's Blog</td>\n",
       "    </tr>\n",
       "  </tbody>\n",
       "</table>\n",
       "</div>"
      ],
      "text/plain": [
       "   index   created_utc  index  \\\n",
       "0    0.0  1.201237e+09      0   \n",
       "1    1.0  1.201237e+09      1   \n",
       "2    2.0  1.201237e+09      2   \n",
       "3    3.0  1.201237e+09      3   \n",
       "4    4.0  1.201237e+09      4   \n",
       "\n",
       "                                               title  \n",
       "0                      The Best Economics Blog Going  \n",
       "1  Meta: Seed The Economics blog with direct link...  \n",
       "2  Meta: Seed The Economics subreddit with direct...  \n",
       "3                                    Calculated Risk  \n",
       "4                              Chris Blattman's Blog  "
      ]
     },
     "execution_count": 233,
     "metadata": {},
     "output_type": "execute_result"
    }
   ],
   "source": [
    "full_df_clean.head()"
   ]
  },
  {
   "cell_type": "code",
   "execution_count": 234,
   "metadata": {},
   "outputs": [],
   "source": [
    "# removing the index column\n",
    "full_df_clean = full_df_clean[['created_utc','title']]"
   ]
  },
  {
   "cell_type": "code",
   "execution_count": 235,
   "metadata": {},
   "outputs": [
    {
     "data": {
      "text/html": [
       "<div>\n",
       "<style scoped>\n",
       "    .dataframe tbody tr th:only-of-type {\n",
       "        vertical-align: middle;\n",
       "    }\n",
       "\n",
       "    .dataframe tbody tr th {\n",
       "        vertical-align: top;\n",
       "    }\n",
       "\n",
       "    .dataframe thead th {\n",
       "        text-align: right;\n",
       "    }\n",
       "</style>\n",
       "<table border=\"1\" class=\"dataframe\">\n",
       "  <thead>\n",
       "    <tr style=\"text-align: right;\">\n",
       "      <th></th>\n",
       "      <th>created_utc</th>\n",
       "      <th>title</th>\n",
       "      <th>date</th>\n",
       "    </tr>\n",
       "  </thead>\n",
       "  <tbody>\n",
       "    <tr>\n",
       "      <th>0</th>\n",
       "      <td>1.201237e+09</td>\n",
       "      <td>The Best Economics Blog Going</td>\n",
       "      <td>2008-01-25 04:49:08</td>\n",
       "    </tr>\n",
       "    <tr>\n",
       "      <th>1</th>\n",
       "      <td>1.201237e+09</td>\n",
       "      <td>Meta: Seed The Economics blog with direct link...</td>\n",
       "      <td>2008-01-25 04:49:59</td>\n",
       "    </tr>\n",
       "    <tr>\n",
       "      <th>2</th>\n",
       "      <td>1.201237e+09</td>\n",
       "      <td>Meta: Seed The Economics subreddit with direct...</td>\n",
       "      <td>2008-01-25 04:50:26</td>\n",
       "    </tr>\n",
       "    <tr>\n",
       "      <th>3</th>\n",
       "      <td>1.201237e+09</td>\n",
       "      <td>Calculated Risk</td>\n",
       "      <td>2008-01-25 04:51:02</td>\n",
       "    </tr>\n",
       "    <tr>\n",
       "      <th>4</th>\n",
       "      <td>1.201237e+09</td>\n",
       "      <td>Chris Blattman's Blog</td>\n",
       "      <td>2008-01-25 04:51:36</td>\n",
       "    </tr>\n",
       "  </tbody>\n",
       "</table>\n",
       "</div>"
      ],
      "text/plain": [
       "    created_utc                                              title  \\\n",
       "0  1.201237e+09                      The Best Economics Blog Going   \n",
       "1  1.201237e+09  Meta: Seed The Economics blog with direct link...   \n",
       "2  1.201237e+09  Meta: Seed The Economics subreddit with direct...   \n",
       "3  1.201237e+09                                    Calculated Risk   \n",
       "4  1.201237e+09                              Chris Blattman's Blog   \n",
       "\n",
       "                 date  \n",
       "0 2008-01-25 04:49:08  \n",
       "1 2008-01-25 04:49:59  \n",
       "2 2008-01-25 04:50:26  \n",
       "3 2008-01-25 04:51:02  \n",
       "4 2008-01-25 04:51:36  "
      ]
     },
     "execution_count": 235,
     "metadata": {},
     "output_type": "execute_result"
    }
   ],
   "source": [
    "# transforming the UTC timestamp to a datetime object\n",
    "full_df_clean['date'] = pd.to_datetime(full_df_clean['created_utc'], unit = \"s\")\n",
    "full_df_clean.head()"
   ]
  },
  {
   "cell_type": "code",
   "execution_count": 236,
   "metadata": {},
   "outputs": [
    {
     "data": {
      "text/html": [
       "<div>\n",
       "<style scoped>\n",
       "    .dataframe tbody tr th:only-of-type {\n",
       "        vertical-align: middle;\n",
       "    }\n",
       "\n",
       "    .dataframe tbody tr th {\n",
       "        vertical-align: top;\n",
       "    }\n",
       "\n",
       "    .dataframe thead th {\n",
       "        text-align: right;\n",
       "    }\n",
       "</style>\n",
       "<table border=\"1\" class=\"dataframe\">\n",
       "  <thead>\n",
       "    <tr style=\"text-align: right;\">\n",
       "      <th></th>\n",
       "      <th>created_utc</th>\n",
       "      <th>title</th>\n",
       "      <th>date</th>\n",
       "    </tr>\n",
       "  </thead>\n",
       "  <tbody>\n",
       "    <tr>\n",
       "      <th>0</th>\n",
       "      <td>1.201237e+09</td>\n",
       "      <td>The Best Economics Blog Going</td>\n",
       "      <td>2008-01-25</td>\n",
       "    </tr>\n",
       "    <tr>\n",
       "      <th>1</th>\n",
       "      <td>1.201237e+09</td>\n",
       "      <td>Meta: Seed The Economics blog with direct link...</td>\n",
       "      <td>2008-01-25</td>\n",
       "    </tr>\n",
       "    <tr>\n",
       "      <th>2</th>\n",
       "      <td>1.201237e+09</td>\n",
       "      <td>Meta: Seed The Economics subreddit with direct...</td>\n",
       "      <td>2008-01-25</td>\n",
       "    </tr>\n",
       "    <tr>\n",
       "      <th>3</th>\n",
       "      <td>1.201237e+09</td>\n",
       "      <td>Calculated Risk</td>\n",
       "      <td>2008-01-25</td>\n",
       "    </tr>\n",
       "    <tr>\n",
       "      <th>4</th>\n",
       "      <td>1.201237e+09</td>\n",
       "      <td>Chris Blattman's Blog</td>\n",
       "      <td>2008-01-25</td>\n",
       "    </tr>\n",
       "  </tbody>\n",
       "</table>\n",
       "</div>"
      ],
      "text/plain": [
       "    created_utc                                              title        date\n",
       "0  1.201237e+09                      The Best Economics Blog Going  2008-01-25\n",
       "1  1.201237e+09  Meta: Seed The Economics blog with direct link...  2008-01-25\n",
       "2  1.201237e+09  Meta: Seed The Economics subreddit with direct...  2008-01-25\n",
       "3  1.201237e+09                                    Calculated Risk  2008-01-25\n",
       "4  1.201237e+09                              Chris Blattman's Blog  2008-01-25"
      ]
     },
     "execution_count": 236,
     "metadata": {},
     "output_type": "execute_result"
    }
   ],
   "source": [
    "# removing the time component\n",
    "full_df_clean['date'] = full_df_clean['date'].dt.date\n",
    "full_df_clean.head()"
   ]
  },
  {
   "cell_type": "code",
   "execution_count": 237,
   "metadata": {},
   "outputs": [
    {
     "data": {
      "text/html": [
       "<div>\n",
       "<style scoped>\n",
       "    .dataframe tbody tr th:only-of-type {\n",
       "        vertical-align: middle;\n",
       "    }\n",
       "\n",
       "    .dataframe tbody tr th {\n",
       "        vertical-align: top;\n",
       "    }\n",
       "\n",
       "    .dataframe thead th {\n",
       "        text-align: right;\n",
       "    }\n",
       "</style>\n",
       "<table border=\"1\" class=\"dataframe\">\n",
       "  <thead>\n",
       "    <tr style=\"text-align: right;\">\n",
       "      <th></th>\n",
       "      <th>date</th>\n",
       "      <th>title</th>\n",
       "    </tr>\n",
       "  </thead>\n",
       "  <tbody>\n",
       "    <tr>\n",
       "      <th>0</th>\n",
       "      <td>2008-01-25</td>\n",
       "      <td>The Best Economics Blog Going</td>\n",
       "    </tr>\n",
       "    <tr>\n",
       "      <th>1</th>\n",
       "      <td>2008-01-25</td>\n",
       "      <td>Meta: Seed The Economics blog with direct link...</td>\n",
       "    </tr>\n",
       "    <tr>\n",
       "      <th>2</th>\n",
       "      <td>2008-01-25</td>\n",
       "      <td>Meta: Seed The Economics subreddit with direct...</td>\n",
       "    </tr>\n",
       "    <tr>\n",
       "      <th>3</th>\n",
       "      <td>2008-01-25</td>\n",
       "      <td>Calculated Risk</td>\n",
       "    </tr>\n",
       "    <tr>\n",
       "      <th>4</th>\n",
       "      <td>2008-01-25</td>\n",
       "      <td>Chris Blattman's Blog</td>\n",
       "    </tr>\n",
       "  </tbody>\n",
       "</table>\n",
       "</div>"
      ],
      "text/plain": [
       "         date                                              title\n",
       "0  2008-01-25                      The Best Economics Blog Going\n",
       "1  2008-01-25  Meta: Seed The Economics blog with direct link...\n",
       "2  2008-01-25  Meta: Seed The Economics subreddit with direct...\n",
       "3  2008-01-25                                    Calculated Risk\n",
       "4  2008-01-25                              Chris Blattman's Blog"
      ]
     },
     "execution_count": 237,
     "metadata": {},
     "output_type": "execute_result"
    }
   ],
   "source": [
    "full_df_clean = full_df_clean[['date', 'title']]\n",
    "full_df_clean.head()"
   ]
  },
  {
   "cell_type": "code",
   "execution_count": 238,
   "metadata": {},
   "outputs": [],
   "source": [
    "# vader word analyser\n",
    "analyzer = SentimentIntensityAnalyzer()"
   ]
  },
  {
   "cell_type": "code",
   "execution_count": 239,
   "metadata": {},
   "outputs": [],
   "source": [
    "# loop through the titles and assigning raw VADER scores\n",
    "scores = []\n",
    "for i in range(0,len(full_df_clean['title'])):\n",
    "    row_index = i\n",
    "    text_to_analyse = full_df_clean.loc[row_index,'title']\n",
    "    sentiment_scores = analyzer.polarity_scores(text_to_analyse)\n",
    "    compound_score = sentiment_scores['compound']\n",
    "    scores.append(compound_score)"
   ]
  },
  {
   "cell_type": "code",
   "execution_count": 240,
   "metadata": {},
   "outputs": [
    {
     "data": {
      "text/plain": [
       "263650"
      ]
     },
     "execution_count": 240,
     "metadata": {},
     "output_type": "execute_result"
    }
   ],
   "source": [
    "len(scores)"
   ]
  },
  {
   "cell_type": "code",
   "execution_count": 241,
   "metadata": {},
   "outputs": [
    {
     "data": {
      "text/html": [
       "<div>\n",
       "<style scoped>\n",
       "    .dataframe tbody tr th:only-of-type {\n",
       "        vertical-align: middle;\n",
       "    }\n",
       "\n",
       "    .dataframe tbody tr th {\n",
       "        vertical-align: top;\n",
       "    }\n",
       "\n",
       "    .dataframe thead th {\n",
       "        text-align: right;\n",
       "    }\n",
       "</style>\n",
       "<table border=\"1\" class=\"dataframe\">\n",
       "  <thead>\n",
       "    <tr style=\"text-align: right;\">\n",
       "      <th></th>\n",
       "      <th>date</th>\n",
       "      <th>title</th>\n",
       "      <th>scores</th>\n",
       "    </tr>\n",
       "  </thead>\n",
       "  <tbody>\n",
       "    <tr>\n",
       "      <th>0</th>\n",
       "      <td>2008-01-25</td>\n",
       "      <td>The Best Economics Blog Going</td>\n",
       "      <td>0.6369</td>\n",
       "    </tr>\n",
       "    <tr>\n",
       "      <th>1</th>\n",
       "      <td>2008-01-25</td>\n",
       "      <td>Meta: Seed The Economics blog with direct link...</td>\n",
       "      <td>0.4588</td>\n",
       "    </tr>\n",
       "    <tr>\n",
       "      <th>2</th>\n",
       "      <td>2008-01-25</td>\n",
       "      <td>Meta: Seed The Economics subreddit with direct...</td>\n",
       "      <td>0.4588</td>\n",
       "    </tr>\n",
       "    <tr>\n",
       "      <th>3</th>\n",
       "      <td>2008-01-25</td>\n",
       "      <td>Calculated Risk</td>\n",
       "      <td>-0.2732</td>\n",
       "    </tr>\n",
       "    <tr>\n",
       "      <th>4</th>\n",
       "      <td>2008-01-25</td>\n",
       "      <td>Chris Blattman's Blog</td>\n",
       "      <td>0.0000</td>\n",
       "    </tr>\n",
       "  </tbody>\n",
       "</table>\n",
       "</div>"
      ],
      "text/plain": [
       "         date                                              title  scores\n",
       "0  2008-01-25                      The Best Economics Blog Going  0.6369\n",
       "1  2008-01-25  Meta: Seed The Economics blog with direct link...  0.4588\n",
       "2  2008-01-25  Meta: Seed The Economics subreddit with direct...  0.4588\n",
       "3  2008-01-25                                    Calculated Risk -0.2732\n",
       "4  2008-01-25                              Chris Blattman's Blog  0.0000"
      ]
     },
     "execution_count": 241,
     "metadata": {},
     "output_type": "execute_result"
    }
   ],
   "source": [
    "full_df_clean['scores'] = scores\n",
    "full_df_clean.head()"
   ]
  },
  {
   "cell_type": "code",
   "execution_count": 242,
   "metadata": {},
   "outputs": [
    {
     "name": "stdout",
     "output_type": "stream",
     "text": [
      "<class 'pandas.core.frame.DataFrame'>\n",
      "Int64Index: 263650 entries, 0 to 263649\n",
      "Data columns (total 3 columns):\n",
      " #   Column  Non-Null Count   Dtype  \n",
      "---  ------  --------------   -----  \n",
      " 0   date    263650 non-null  object \n",
      " 1   title   263650 non-null  object \n",
      " 2   scores  263650 non-null  float64\n",
      "dtypes: float64(1), object(2)\n",
      "memory usage: 18.0+ MB\n"
     ]
    }
   ],
   "source": [
    "full_df_clean.info()"
   ]
  },
  {
   "cell_type": "code",
   "execution_count": 243,
   "metadata": {},
   "outputs": [],
   "source": [
    "full_df_clean['date'] = pd.to_datetime(full_df_clean['date'])"
   ]
  },
  {
   "cell_type": "code",
   "execution_count": 244,
   "metadata": {},
   "outputs": [
    {
     "name": "stdout",
     "output_type": "stream",
     "text": [
      "<class 'pandas.core.frame.DataFrame'>\n",
      "Int64Index: 263650 entries, 0 to 263649\n",
      "Data columns (total 3 columns):\n",
      " #   Column  Non-Null Count   Dtype         \n",
      "---  ------  --------------   -----         \n",
      " 0   date    263650 non-null  datetime64[ns]\n",
      " 1   title   263650 non-null  object        \n",
      " 2   scores  263650 non-null  float64       \n",
      "dtypes: datetime64[ns](1), float64(1), object(1)\n",
      "memory usage: 18.0+ MB\n"
     ]
    }
   ],
   "source": [
    "full_df_clean.info()"
   ]
  },
  {
   "cell_type": "code",
   "execution_count": 245,
   "metadata": {},
   "outputs": [
    {
     "data": {
      "text/html": [
       "<div>\n",
       "<style scoped>\n",
       "    .dataframe tbody tr th:only-of-type {\n",
       "        vertical-align: middle;\n",
       "    }\n",
       "\n",
       "    .dataframe tbody tr th {\n",
       "        vertical-align: top;\n",
       "    }\n",
       "\n",
       "    .dataframe thead th {\n",
       "        text-align: right;\n",
       "    }\n",
       "</style>\n",
       "<table border=\"1\" class=\"dataframe\">\n",
       "  <thead>\n",
       "    <tr style=\"text-align: right;\">\n",
       "      <th></th>\n",
       "      <th>date</th>\n",
       "      <th>title</th>\n",
       "      <th>scores</th>\n",
       "    </tr>\n",
       "  </thead>\n",
       "  <tbody>\n",
       "    <tr>\n",
       "      <th>0</th>\n",
       "      <td>2008-01-25</td>\n",
       "      <td>The Best Economics Blog Going</td>\n",
       "      <td>0.6369</td>\n",
       "    </tr>\n",
       "    <tr>\n",
       "      <th>1</th>\n",
       "      <td>2008-01-25</td>\n",
       "      <td>Meta: Seed The Economics blog with direct link...</td>\n",
       "      <td>0.4588</td>\n",
       "    </tr>\n",
       "    <tr>\n",
       "      <th>2</th>\n",
       "      <td>2008-01-25</td>\n",
       "      <td>Meta: Seed The Economics subreddit with direct...</td>\n",
       "      <td>0.4588</td>\n",
       "    </tr>\n",
       "    <tr>\n",
       "      <th>3</th>\n",
       "      <td>2008-01-25</td>\n",
       "      <td>Calculated Risk</td>\n",
       "      <td>-0.2732</td>\n",
       "    </tr>\n",
       "    <tr>\n",
       "      <th>4</th>\n",
       "      <td>2008-01-25</td>\n",
       "      <td>Chris Blattman's Blog</td>\n",
       "      <td>0.0000</td>\n",
       "    </tr>\n",
       "  </tbody>\n",
       "</table>\n",
       "</div>"
      ],
      "text/plain": [
       "        date                                              title  scores\n",
       "0 2008-01-25                      The Best Economics Blog Going  0.6369\n",
       "1 2008-01-25  Meta: Seed The Economics blog with direct link...  0.4588\n",
       "2 2008-01-25  Meta: Seed The Economics subreddit with direct...  0.4588\n",
       "3 2008-01-25                                    Calculated Risk -0.2732\n",
       "4 2008-01-25                              Chris Blattman's Blog  0.0000"
      ]
     },
     "execution_count": 245,
     "metadata": {},
     "output_type": "execute_result"
    }
   ],
   "source": [
    "full_df_clean.head()"
   ]
  },
  {
   "cell_type": "code",
   "execution_count": 246,
   "metadata": {},
   "outputs": [],
   "source": [
    "# aggregating the scores for each date in the dataset by computing the average\n",
    "sentiment_df = full_df_clean.groupby('date')['scores'].mean().reset_index()"
   ]
  },
  {
   "cell_type": "code",
   "execution_count": 247,
   "metadata": {},
   "outputs": [
    {
     "data": {
      "text/html": [
       "<div>\n",
       "<style scoped>\n",
       "    .dataframe tbody tr th:only-of-type {\n",
       "        vertical-align: middle;\n",
       "    }\n",
       "\n",
       "    .dataframe tbody tr th {\n",
       "        vertical-align: top;\n",
       "    }\n",
       "\n",
       "    .dataframe thead th {\n",
       "        text-align: right;\n",
       "    }\n",
       "</style>\n",
       "<table border=\"1\" class=\"dataframe\">\n",
       "  <thead>\n",
       "    <tr style=\"text-align: right;\">\n",
       "      <th></th>\n",
       "      <th>date</th>\n",
       "      <th>scores</th>\n",
       "    </tr>\n",
       "  </thead>\n",
       "  <tbody>\n",
       "    <tr>\n",
       "      <th>0</th>\n",
       "      <td>2008-01-25</td>\n",
       "      <td>0.084243</td>\n",
       "    </tr>\n",
       "    <tr>\n",
       "      <th>1</th>\n",
       "      <td>2008-01-26</td>\n",
       "      <td>0.003900</td>\n",
       "    </tr>\n",
       "    <tr>\n",
       "      <th>2</th>\n",
       "      <td>2008-01-27</td>\n",
       "      <td>0.075342</td>\n",
       "    </tr>\n",
       "    <tr>\n",
       "      <th>3</th>\n",
       "      <td>2008-01-28</td>\n",
       "      <td>-0.027604</td>\n",
       "    </tr>\n",
       "    <tr>\n",
       "      <th>4</th>\n",
       "      <td>2008-01-29</td>\n",
       "      <td>0.030093</td>\n",
       "    </tr>\n",
       "  </tbody>\n",
       "</table>\n",
       "</div>"
      ],
      "text/plain": [
       "        date    scores\n",
       "0 2008-01-25  0.084243\n",
       "1 2008-01-26  0.003900\n",
       "2 2008-01-27  0.075342\n",
       "3 2008-01-28 -0.027604\n",
       "4 2008-01-29  0.030093"
      ]
     },
     "execution_count": 247,
     "metadata": {},
     "output_type": "execute_result"
    }
   ],
   "source": [
    "sentiment_df.head()"
   ]
  },
  {
   "cell_type": "code",
   "execution_count": 248,
   "metadata": {},
   "outputs": [
    {
     "data": {
      "text/html": [
       "<div>\n",
       "<style scoped>\n",
       "    .dataframe tbody tr th:only-of-type {\n",
       "        vertical-align: middle;\n",
       "    }\n",
       "\n",
       "    .dataframe tbody tr th {\n",
       "        vertical-align: top;\n",
       "    }\n",
       "\n",
       "    .dataframe thead th {\n",
       "        text-align: right;\n",
       "    }\n",
       "</style>\n",
       "<table border=\"1\" class=\"dataframe\">\n",
       "  <thead>\n",
       "    <tr style=\"text-align: right;\">\n",
       "      <th></th>\n",
       "      <th>date</th>\n",
       "      <th>scores</th>\n",
       "    </tr>\n",
       "  </thead>\n",
       "  <tbody>\n",
       "    <tr>\n",
       "      <th>4751</th>\n",
       "      <td>2022-12-27</td>\n",
       "      <td>0.083791</td>\n",
       "    </tr>\n",
       "    <tr>\n",
       "      <th>4752</th>\n",
       "      <td>2022-12-28</td>\n",
       "      <td>-0.019761</td>\n",
       "    </tr>\n",
       "    <tr>\n",
       "      <th>4753</th>\n",
       "      <td>2022-12-29</td>\n",
       "      <td>0.011074</td>\n",
       "    </tr>\n",
       "    <tr>\n",
       "      <th>4754</th>\n",
       "      <td>2022-12-30</td>\n",
       "      <td>0.020986</td>\n",
       "    </tr>\n",
       "    <tr>\n",
       "      <th>4755</th>\n",
       "      <td>2022-12-31</td>\n",
       "      <td>-0.193041</td>\n",
       "    </tr>\n",
       "  </tbody>\n",
       "</table>\n",
       "</div>"
      ],
      "text/plain": [
       "           date    scores\n",
       "4751 2022-12-27  0.083791\n",
       "4752 2022-12-28 -0.019761\n",
       "4753 2022-12-29  0.011074\n",
       "4754 2022-12-30  0.020986\n",
       "4755 2022-12-31 -0.193041"
      ]
     },
     "execution_count": 248,
     "metadata": {},
     "output_type": "execute_result"
    }
   ],
   "source": [
    "sentiment_df.tail()"
   ]
  },
  {
   "cell_type": "code",
   "execution_count": 249,
   "metadata": {},
   "outputs": [],
   "source": [
    "# classifying the scores into three different groups\n",
    "for i in range(0,len(sentiment_df['scores'])):\n",
    "    if sentiment_df.loc[i,'scores'] >= 0.05:\n",
    "        sentiment_df.loc[i,'sentiment'] = 'Positive'\n",
    "    elif sentiment_df.loc[i,'scores'] <= -0.05:\n",
    "        sentiment_df.loc[i,'sentiment'] = 'Negative'\n",
    "    else:\n",
    "        sentiment_df.loc[i,'sentiment'] = 'Neutral'"
   ]
  },
  {
   "cell_type": "code",
   "execution_count": 250,
   "metadata": {},
   "outputs": [
    {
     "data": {
      "text/html": [
       "<div>\n",
       "<style scoped>\n",
       "    .dataframe tbody tr th:only-of-type {\n",
       "        vertical-align: middle;\n",
       "    }\n",
       "\n",
       "    .dataframe tbody tr th {\n",
       "        vertical-align: top;\n",
       "    }\n",
       "\n",
       "    .dataframe thead th {\n",
       "        text-align: right;\n",
       "    }\n",
       "</style>\n",
       "<table border=\"1\" class=\"dataframe\">\n",
       "  <thead>\n",
       "    <tr style=\"text-align: right;\">\n",
       "      <th></th>\n",
       "      <th>date</th>\n",
       "      <th>scores</th>\n",
       "      <th>sentiment</th>\n",
       "    </tr>\n",
       "  </thead>\n",
       "  <tbody>\n",
       "    <tr>\n",
       "      <th>0</th>\n",
       "      <td>2008-01-25</td>\n",
       "      <td>0.084243</td>\n",
       "      <td>Positive</td>\n",
       "    </tr>\n",
       "    <tr>\n",
       "      <th>1</th>\n",
       "      <td>2008-01-26</td>\n",
       "      <td>0.003900</td>\n",
       "      <td>Neutral</td>\n",
       "    </tr>\n",
       "    <tr>\n",
       "      <th>2</th>\n",
       "      <td>2008-01-27</td>\n",
       "      <td>0.075342</td>\n",
       "      <td>Positive</td>\n",
       "    </tr>\n",
       "    <tr>\n",
       "      <th>3</th>\n",
       "      <td>2008-01-28</td>\n",
       "      <td>-0.027604</td>\n",
       "      <td>Neutral</td>\n",
       "    </tr>\n",
       "    <tr>\n",
       "      <th>4</th>\n",
       "      <td>2008-01-29</td>\n",
       "      <td>0.030093</td>\n",
       "      <td>Neutral</td>\n",
       "    </tr>\n",
       "  </tbody>\n",
       "</table>\n",
       "</div>"
      ],
      "text/plain": [
       "        date    scores sentiment\n",
       "0 2008-01-25  0.084243  Positive\n",
       "1 2008-01-26  0.003900   Neutral\n",
       "2 2008-01-27  0.075342  Positive\n",
       "3 2008-01-28 -0.027604   Neutral\n",
       "4 2008-01-29  0.030093   Neutral"
      ]
     },
     "execution_count": 250,
     "metadata": {},
     "output_type": "execute_result"
    }
   ],
   "source": [
    "sentiment_df.head()"
   ]
  },
  {
   "cell_type": "code",
   "execution_count": 251,
   "metadata": {},
   "outputs": [
    {
     "data": {
      "text/html": [
       "<div>\n",
       "<style scoped>\n",
       "    .dataframe tbody tr th:only-of-type {\n",
       "        vertical-align: middle;\n",
       "    }\n",
       "\n",
       "    .dataframe tbody tr th {\n",
       "        vertical-align: top;\n",
       "    }\n",
       "\n",
       "    .dataframe thead th {\n",
       "        text-align: right;\n",
       "    }\n",
       "</style>\n",
       "<table border=\"1\" class=\"dataframe\">\n",
       "  <thead>\n",
       "    <tr style=\"text-align: right;\">\n",
       "      <th></th>\n",
       "      <th>Dates</th>\n",
       "      <th>PX_LAST</th>\n",
       "    </tr>\n",
       "  </thead>\n",
       "  <tbody>\n",
       "    <tr>\n",
       "      <th>0</th>\n",
       "      <td>2008-01-25</td>\n",
       "      <td>1330.61</td>\n",
       "    </tr>\n",
       "    <tr>\n",
       "      <th>1</th>\n",
       "      <td>2008-01-28</td>\n",
       "      <td>1353.97</td>\n",
       "    </tr>\n",
       "    <tr>\n",
       "      <th>2</th>\n",
       "      <td>2008-01-29</td>\n",
       "      <td>1362.30</td>\n",
       "    </tr>\n",
       "    <tr>\n",
       "      <th>3</th>\n",
       "      <td>2008-01-30</td>\n",
       "      <td>1355.81</td>\n",
       "    </tr>\n",
       "    <tr>\n",
       "      <th>4</th>\n",
       "      <td>2008-01-31</td>\n",
       "      <td>1378.55</td>\n",
       "    </tr>\n",
       "  </tbody>\n",
       "</table>\n",
       "</div>"
      ],
      "text/plain": [
       "       Dates  PX_LAST\n",
       "0 2008-01-25  1330.61\n",
       "1 2008-01-28  1353.97\n",
       "2 2008-01-29  1362.30\n",
       "3 2008-01-30  1355.81\n",
       "4 2008-01-31  1378.55"
      ]
     },
     "execution_count": 251,
     "metadata": {},
     "output_type": "execute_result"
    }
   ],
   "source": [
    "# reading in the S&P 500 index closing prices\n",
    "sp_500 = pd.read_excel(\"SP_500_prices.xlsx\")\n",
    "sp_500.head()"
   ]
  },
  {
   "cell_type": "code",
   "execution_count": 252,
   "metadata": {},
   "outputs": [
    {
     "data": {
      "image/png": "[encoded data removed]",
      "text/plain": [
       "<Figure size 720x432 with 1 Axes>"
      ]
     },
     "metadata": {
      "needs_background": "light"
     },
     "output_type": "display_data"
    }
   ],
   "source": [
    "# using matplotlib.pyplot to create a plot of the index for the dates \n",
    "plt.figure(figsize=(10,6))\n",
    "plt.plot(sp_500['Dates'], sp_500['PX_LAST'], marker = 'o', color = 'b', label = 'S&P 500 Index')\n",
    "plt.xlabel('Date')\n",
    "plt.ylabel('Closing Price')\n",
    "plt.title('S&P 500 Index - Closing Prices')\n",
    "plt.legend()\n",
    "plt.grid(True)\n",
    "plt.show()"
   ]
  },
  {
   "cell_type": "code",
   "execution_count": 253,
   "metadata": {},
   "outputs": [
    {
     "data": {
      "text/html": [
       "<div>\n",
       "<style scoped>\n",
       "    .dataframe tbody tr th:only-of-type {\n",
       "        vertical-align: middle;\n",
       "    }\n",
       "\n",
       "    .dataframe tbody tr th {\n",
       "        vertical-align: top;\n",
       "    }\n",
       "\n",
       "    .dataframe thead th {\n",
       "        text-align: right;\n",
       "    }\n",
       "</style>\n",
       "<table border=\"1\" class=\"dataframe\">\n",
       "  <thead>\n",
       "    <tr style=\"text-align: right;\">\n",
       "      <th></th>\n",
       "      <th>Dates</th>\n",
       "      <th>PX_LAST</th>\n",
       "      <th>date</th>\n",
       "      <th>scores</th>\n",
       "      <th>sentiment</th>\n",
       "    </tr>\n",
       "  </thead>\n",
       "  <tbody>\n",
       "    <tr>\n",
       "      <th>0</th>\n",
       "      <td>2008-01-25</td>\n",
       "      <td>1330.61</td>\n",
       "      <td>2008-01-25</td>\n",
       "      <td>0.084243</td>\n",
       "      <td>Positive</td>\n",
       "    </tr>\n",
       "    <tr>\n",
       "      <th>1</th>\n",
       "      <td>2008-01-28</td>\n",
       "      <td>1353.97</td>\n",
       "      <td>2008-01-28</td>\n",
       "      <td>-0.027604</td>\n",
       "      <td>Neutral</td>\n",
       "    </tr>\n",
       "    <tr>\n",
       "      <th>2</th>\n",
       "      <td>2008-01-29</td>\n",
       "      <td>1362.30</td>\n",
       "      <td>2008-01-29</td>\n",
       "      <td>0.030093</td>\n",
       "      <td>Neutral</td>\n",
       "    </tr>\n",
       "    <tr>\n",
       "      <th>3</th>\n",
       "      <td>2008-01-30</td>\n",
       "      <td>1355.81</td>\n",
       "      <td>2008-01-30</td>\n",
       "      <td>-0.115100</td>\n",
       "      <td>Negative</td>\n",
       "    </tr>\n",
       "    <tr>\n",
       "      <th>4</th>\n",
       "      <td>2008-01-31</td>\n",
       "      <td>1378.55</td>\n",
       "      <td>2008-01-31</td>\n",
       "      <td>-0.014772</td>\n",
       "      <td>Neutral</td>\n",
       "    </tr>\n",
       "  </tbody>\n",
       "</table>\n",
       "</div>"
      ],
      "text/plain": [
       "       Dates  PX_LAST       date    scores sentiment\n",
       "0 2008-01-25  1330.61 2008-01-25  0.084243  Positive\n",
       "1 2008-01-28  1353.97 2008-01-28 -0.027604   Neutral\n",
       "2 2008-01-29  1362.30 2008-01-29  0.030093   Neutral\n",
       "3 2008-01-30  1355.81 2008-01-30 -0.115100  Negative\n",
       "4 2008-01-31  1378.55 2008-01-31 -0.014772   Neutral"
      ]
     },
     "execution_count": 253,
     "metadata": {},
     "output_type": "execute_result"
    }
   ],
   "source": [
    "# joining the price data onto the sentiment dataset\n",
    "sp_sentiment = pd.merge(sp_500, sentiment_df, left_on = \"Dates\", right_on = \"date\", how = \"left\")\n",
    "sp_sentiment.head()"
   ]
  },
  {
   "cell_type": "code",
   "execution_count": 254,
   "metadata": {},
   "outputs": [],
   "source": [
    "# classifying upward and downward movement in the index price\n",
    "for i in range(0,len(sp_sentiment.scores) - 1):\n",
    "    if sp_sentiment.loc[i+1,'PX_LAST'] > sp_sentiment.loc[i,'PX_LAST']:\n",
    "        sp_sentiment.loc[i+1,'Direction'] = 'Up'\n",
    "    else:\n",
    "        sp_sentiment.loc[i+1,'Direction'] = 'Down'"
   ]
  },
  {
   "cell_type": "code",
   "execution_count": 255,
   "metadata": {},
   "outputs": [
    {
     "data": {
      "text/html": [
       "<div>\n",
       "<style scoped>\n",
       "    .dataframe tbody tr th:only-of-type {\n",
       "        vertical-align: middle;\n",
       "    }\n",
       "\n",
       "    .dataframe tbody tr th {\n",
       "        vertical-align: top;\n",
       "    }\n",
       "\n",
       "    .dataframe thead th {\n",
       "        text-align: right;\n",
       "    }\n",
       "</style>\n",
       "<table border=\"1\" class=\"dataframe\">\n",
       "  <thead>\n",
       "    <tr style=\"text-align: right;\">\n",
       "      <th></th>\n",
       "      <th>Dates</th>\n",
       "      <th>PX_LAST</th>\n",
       "      <th>date</th>\n",
       "      <th>scores</th>\n",
       "      <th>sentiment</th>\n",
       "      <th>Direction</th>\n",
       "    </tr>\n",
       "  </thead>\n",
       "  <tbody>\n",
       "    <tr>\n",
       "      <th>0</th>\n",
       "      <td>2008-01-25</td>\n",
       "      <td>1330.61</td>\n",
       "      <td>2008-01-25</td>\n",
       "      <td>0.084243</td>\n",
       "      <td>Positive</td>\n",
       "      <td>NaN</td>\n",
       "    </tr>\n",
       "    <tr>\n",
       "      <th>1</th>\n",
       "      <td>2008-01-28</td>\n",
       "      <td>1353.97</td>\n",
       "      <td>2008-01-28</td>\n",
       "      <td>-0.027604</td>\n",
       "      <td>Neutral</td>\n",
       "      <td>Up</td>\n",
       "    </tr>\n",
       "    <tr>\n",
       "      <th>2</th>\n",
       "      <td>2008-01-29</td>\n",
       "      <td>1362.30</td>\n",
       "      <td>2008-01-29</td>\n",
       "      <td>0.030093</td>\n",
       "      <td>Neutral</td>\n",
       "      <td>Up</td>\n",
       "    </tr>\n",
       "    <tr>\n",
       "      <th>3</th>\n",
       "      <td>2008-01-30</td>\n",
       "      <td>1355.81</td>\n",
       "      <td>2008-01-30</td>\n",
       "      <td>-0.115100</td>\n",
       "      <td>Negative</td>\n",
       "      <td>Down</td>\n",
       "    </tr>\n",
       "    <tr>\n",
       "      <th>4</th>\n",
       "      <td>2008-01-31</td>\n",
       "      <td>1378.55</td>\n",
       "      <td>2008-01-31</td>\n",
       "      <td>-0.014772</td>\n",
       "      <td>Neutral</td>\n",
       "      <td>Up</td>\n",
       "    </tr>\n",
       "  </tbody>\n",
       "</table>\n",
       "</div>"
      ],
      "text/plain": [
       "       Dates  PX_LAST       date    scores sentiment Direction\n",
       "0 2008-01-25  1330.61 2008-01-25  0.084243  Positive       NaN\n",
       "1 2008-01-28  1353.97 2008-01-28 -0.027604   Neutral        Up\n",
       "2 2008-01-29  1362.30 2008-01-29  0.030093   Neutral        Up\n",
       "3 2008-01-30  1355.81 2008-01-30 -0.115100  Negative      Down\n",
       "4 2008-01-31  1378.55 2008-01-31 -0.014772   Neutral        Up"
      ]
     },
     "execution_count": 255,
     "metadata": {},
     "output_type": "execute_result"
    }
   ],
   "source": [
    "sp_sentiment.head()"
   ]
  },
  {
   "cell_type": "code",
   "execution_count": 256,
   "metadata": {},
   "outputs": [
    {
     "data": {
      "text/html": [
       "<div>\n",
       "<style scoped>\n",
       "    .dataframe tbody tr th:only-of-type {\n",
       "        vertical-align: middle;\n",
       "    }\n",
       "\n",
       "    .dataframe tbody tr th {\n",
       "        vertical-align: top;\n",
       "    }\n",
       "\n",
       "    .dataframe thead th {\n",
       "        text-align: right;\n",
       "    }\n",
       "</style>\n",
       "<table border=\"1\" class=\"dataframe\">\n",
       "  <thead>\n",
       "    <tr style=\"text-align: right;\">\n",
       "      <th></th>\n",
       "      <th>Dates</th>\n",
       "      <th>PX_LAST</th>\n",
       "      <th>date</th>\n",
       "      <th>scores</th>\n",
       "      <th>sentiment</th>\n",
       "      <th>Direction</th>\n",
       "    </tr>\n",
       "  </thead>\n",
       "  <tbody>\n",
       "    <tr>\n",
       "      <th>3756</th>\n",
       "      <td>2022-12-23</td>\n",
       "      <td>3844.82</td>\n",
       "      <td>2022-12-23</td>\n",
       "      <td>-0.131208</td>\n",
       "      <td>Negative</td>\n",
       "      <td>Up</td>\n",
       "    </tr>\n",
       "    <tr>\n",
       "      <th>3757</th>\n",
       "      <td>2022-12-27</td>\n",
       "      <td>3829.25</td>\n",
       "      <td>2022-12-27</td>\n",
       "      <td>0.083791</td>\n",
       "      <td>Positive</td>\n",
       "      <td>Down</td>\n",
       "    </tr>\n",
       "    <tr>\n",
       "      <th>3758</th>\n",
       "      <td>2022-12-28</td>\n",
       "      <td>3783.22</td>\n",
       "      <td>2022-12-28</td>\n",
       "      <td>-0.019761</td>\n",
       "      <td>Neutral</td>\n",
       "      <td>Down</td>\n",
       "    </tr>\n",
       "    <tr>\n",
       "      <th>3759</th>\n",
       "      <td>2022-12-29</td>\n",
       "      <td>3849.28</td>\n",
       "      <td>2022-12-29</td>\n",
       "      <td>0.011074</td>\n",
       "      <td>Neutral</td>\n",
       "      <td>Up</td>\n",
       "    </tr>\n",
       "    <tr>\n",
       "      <th>3760</th>\n",
       "      <td>2022-12-30</td>\n",
       "      <td>3839.50</td>\n",
       "      <td>2022-12-30</td>\n",
       "      <td>0.020986</td>\n",
       "      <td>Neutral</td>\n",
       "      <td>Down</td>\n",
       "    </tr>\n",
       "  </tbody>\n",
       "</table>\n",
       "</div>"
      ],
      "text/plain": [
       "          Dates  PX_LAST       date    scores sentiment Direction\n",
       "3756 2022-12-23  3844.82 2022-12-23 -0.131208  Negative        Up\n",
       "3757 2022-12-27  3829.25 2022-12-27  0.083791  Positive      Down\n",
       "3758 2022-12-28  3783.22 2022-12-28 -0.019761   Neutral      Down\n",
       "3759 2022-12-29  3849.28 2022-12-29  0.011074   Neutral        Up\n",
       "3760 2022-12-30  3839.50 2022-12-30  0.020986   Neutral      Down"
      ]
     },
     "execution_count": 256,
     "metadata": {},
     "output_type": "execute_result"
    }
   ],
   "source": [
    "sp_sentiment.tail()"
   ]
  },
  {
   "cell_type": "code",
   "execution_count": 257,
   "metadata": {},
   "outputs": [],
   "source": [
    "# matching the sentiment of a particular day \n",
    "sp_sentiment['sentiment_lead'] = sp_sentiment['sentiment'].shift(periods=1, fill_value=None)"
   ]
  },
  {
   "cell_type": "code",
   "execution_count": 258,
   "metadata": {},
   "outputs": [
    {
     "data": {
      "text/html": [
       "<div>\n",
       "<style scoped>\n",
       "    .dataframe tbody tr th:only-of-type {\n",
       "        vertical-align: middle;\n",
       "    }\n",
       "\n",
       "    .dataframe tbody tr th {\n",
       "        vertical-align: top;\n",
       "    }\n",
       "\n",
       "    .dataframe thead th {\n",
       "        text-align: right;\n",
       "    }\n",
       "</style>\n",
       "<table border=\"1\" class=\"dataframe\">\n",
       "  <thead>\n",
       "    <tr style=\"text-align: right;\">\n",
       "      <th></th>\n",
       "      <th>Dates</th>\n",
       "      <th>PX_LAST</th>\n",
       "      <th>date</th>\n",
       "      <th>scores</th>\n",
       "      <th>sentiment</th>\n",
       "      <th>Direction</th>\n",
       "      <th>sentiment_lead</th>\n",
       "    </tr>\n",
       "  </thead>\n",
       "  <tbody>\n",
       "    <tr>\n",
       "      <th>0</th>\n",
       "      <td>2008-01-25</td>\n",
       "      <td>1330.61</td>\n",
       "      <td>2008-01-25</td>\n",
       "      <td>0.084243</td>\n",
       "      <td>Positive</td>\n",
       "      <td>NaN</td>\n",
       "      <td>NaN</td>\n",
       "    </tr>\n",
       "    <tr>\n",
       "      <th>1</th>\n",
       "      <td>2008-01-28</td>\n",
       "      <td>1353.97</td>\n",
       "      <td>2008-01-28</td>\n",
       "      <td>-0.027604</td>\n",
       "      <td>Neutral</td>\n",
       "      <td>Up</td>\n",
       "      <td>Positive</td>\n",
       "    </tr>\n",
       "    <tr>\n",
       "      <th>2</th>\n",
       "      <td>2008-01-29</td>\n",
       "      <td>1362.30</td>\n",
       "      <td>2008-01-29</td>\n",
       "      <td>0.030093</td>\n",
       "      <td>Neutral</td>\n",
       "      <td>Up</td>\n",
       "      <td>Neutral</td>\n",
       "    </tr>\n",
       "    <tr>\n",
       "      <th>3</th>\n",
       "      <td>2008-01-30</td>\n",
       "      <td>1355.81</td>\n",
       "      <td>2008-01-30</td>\n",
       "      <td>-0.115100</td>\n",
       "      <td>Negative</td>\n",
       "      <td>Down</td>\n",
       "      <td>Neutral</td>\n",
       "    </tr>\n",
       "    <tr>\n",
       "      <th>4</th>\n",
       "      <td>2008-01-31</td>\n",
       "      <td>1378.55</td>\n",
       "      <td>2008-01-31</td>\n",
       "      <td>-0.014772</td>\n",
       "      <td>Neutral</td>\n",
       "      <td>Up</td>\n",
       "      <td>Negative</td>\n",
       "    </tr>\n",
       "  </tbody>\n",
       "</table>\n",
       "</div>"
      ],
      "text/plain": [
       "       Dates  PX_LAST       date    scores sentiment Direction sentiment_lead\n",
       "0 2008-01-25  1330.61 2008-01-25  0.084243  Positive       NaN            NaN\n",
       "1 2008-01-28  1353.97 2008-01-28 -0.027604   Neutral        Up       Positive\n",
       "2 2008-01-29  1362.30 2008-01-29  0.030093   Neutral        Up        Neutral\n",
       "3 2008-01-30  1355.81 2008-01-30 -0.115100  Negative      Down        Neutral\n",
       "4 2008-01-31  1378.55 2008-01-31 -0.014772   Neutral        Up       Negative"
      ]
     },
     "execution_count": 258,
     "metadata": {},
     "output_type": "execute_result"
    }
   ],
   "source": [
    "sp_sentiment.head()"
   ]
  },
  {
   "cell_type": "code",
   "execution_count": 259,
   "metadata": {},
   "outputs": [
    {
     "data": {
      "text/html": [
       "<div>\n",
       "<style scoped>\n",
       "    .dataframe tbody tr th:only-of-type {\n",
       "        vertical-align: middle;\n",
       "    }\n",
       "\n",
       "    .dataframe tbody tr th {\n",
       "        vertical-align: top;\n",
       "    }\n",
       "\n",
       "    .dataframe thead th {\n",
       "        text-align: right;\n",
       "    }\n",
       "</style>\n",
       "<table border=\"1\" class=\"dataframe\">\n",
       "  <thead>\n",
       "    <tr style=\"text-align: right;\">\n",
       "      <th></th>\n",
       "      <th>Dates</th>\n",
       "      <th>PX_LAST</th>\n",
       "      <th>date</th>\n",
       "      <th>scores</th>\n",
       "      <th>sentiment</th>\n",
       "      <th>Direction</th>\n",
       "      <th>sentiment_lead</th>\n",
       "    </tr>\n",
       "  </thead>\n",
       "  <tbody>\n",
       "    <tr>\n",
       "      <th>1</th>\n",
       "      <td>2008-01-28</td>\n",
       "      <td>1353.97</td>\n",
       "      <td>2008-01-28</td>\n",
       "      <td>-0.027604</td>\n",
       "      <td>Neutral</td>\n",
       "      <td>Up</td>\n",
       "      <td>Positive</td>\n",
       "    </tr>\n",
       "    <tr>\n",
       "      <th>2</th>\n",
       "      <td>2008-01-29</td>\n",
       "      <td>1362.30</td>\n",
       "      <td>2008-01-29</td>\n",
       "      <td>0.030093</td>\n",
       "      <td>Neutral</td>\n",
       "      <td>Up</td>\n",
       "      <td>Neutral</td>\n",
       "    </tr>\n",
       "    <tr>\n",
       "      <th>3</th>\n",
       "      <td>2008-01-30</td>\n",
       "      <td>1355.81</td>\n",
       "      <td>2008-01-30</td>\n",
       "      <td>-0.115100</td>\n",
       "      <td>Negative</td>\n",
       "      <td>Down</td>\n",
       "      <td>Neutral</td>\n",
       "    </tr>\n",
       "    <tr>\n",
       "      <th>4</th>\n",
       "      <td>2008-01-31</td>\n",
       "      <td>1378.55</td>\n",
       "      <td>2008-01-31</td>\n",
       "      <td>-0.014772</td>\n",
       "      <td>Neutral</td>\n",
       "      <td>Up</td>\n",
       "      <td>Negative</td>\n",
       "    </tr>\n",
       "    <tr>\n",
       "      <th>5</th>\n",
       "      <td>2008-02-01</td>\n",
       "      <td>1395.42</td>\n",
       "      <td>2008-02-01</td>\n",
       "      <td>-0.237369</td>\n",
       "      <td>Negative</td>\n",
       "      <td>Up</td>\n",
       "      <td>Neutral</td>\n",
       "    </tr>\n",
       "  </tbody>\n",
       "</table>\n",
       "</div>"
      ],
      "text/plain": [
       "       Dates  PX_LAST       date    scores sentiment Direction sentiment_lead\n",
       "1 2008-01-28  1353.97 2008-01-28 -0.027604   Neutral        Up       Positive\n",
       "2 2008-01-29  1362.30 2008-01-29  0.030093   Neutral        Up        Neutral\n",
       "3 2008-01-30  1355.81 2008-01-30 -0.115100  Negative      Down        Neutral\n",
       "4 2008-01-31  1378.55 2008-01-31 -0.014772   Neutral        Up       Negative\n",
       "5 2008-02-01  1395.42 2008-02-01 -0.237369  Negative        Up        Neutral"
      ]
     },
     "execution_count": 259,
     "metadata": {},
     "output_type": "execute_result"
    }
   ],
   "source": [
    "sp_sent_df_clean = sp_sentiment.dropna()\n",
    "sp_sent_df_clean.head()"
   ]
  },
  {
   "cell_type": "code",
   "execution_count": 260,
   "metadata": {},
   "outputs": [
    {
     "data": {
      "text/html": [
       "<div>\n",
       "<style scoped>\n",
       "    .dataframe tbody tr th:only-of-type {\n",
       "        vertical-align: middle;\n",
       "    }\n",
       "\n",
       "    .dataframe tbody tr th {\n",
       "        vertical-align: top;\n",
       "    }\n",
       "\n",
       "    .dataframe thead th {\n",
       "        text-align: right;\n",
       "    }\n",
       "</style>\n",
       "<table border=\"1\" class=\"dataframe\">\n",
       "  <thead>\n",
       "    <tr style=\"text-align: right;\">\n",
       "      <th></th>\n",
       "      <th>Dates</th>\n",
       "      <th>PX_LAST</th>\n",
       "      <th>date</th>\n",
       "      <th>scores</th>\n",
       "      <th>sentiment</th>\n",
       "      <th>Direction</th>\n",
       "      <th>sentiment_lead</th>\n",
       "    </tr>\n",
       "  </thead>\n",
       "  <tbody>\n",
       "    <tr>\n",
       "      <th>1</th>\n",
       "      <td>2008-01-28</td>\n",
       "      <td>1353.97</td>\n",
       "      <td>2008-01-28</td>\n",
       "      <td>-0.027604</td>\n",
       "      <td>Neutral</td>\n",
       "      <td>Up</td>\n",
       "      <td>Positive</td>\n",
       "    </tr>\n",
       "    <tr>\n",
       "      <th>2</th>\n",
       "      <td>2008-01-29</td>\n",
       "      <td>1362.30</td>\n",
       "      <td>2008-01-29</td>\n",
       "      <td>0.030093</td>\n",
       "      <td>Neutral</td>\n",
       "      <td>Up</td>\n",
       "      <td>Neutral</td>\n",
       "    </tr>\n",
       "    <tr>\n",
       "      <th>3</th>\n",
       "      <td>2008-01-30</td>\n",
       "      <td>1355.81</td>\n",
       "      <td>2008-01-30</td>\n",
       "      <td>-0.115100</td>\n",
       "      <td>Negative</td>\n",
       "      <td>Down</td>\n",
       "      <td>Neutral</td>\n",
       "    </tr>\n",
       "    <tr>\n",
       "      <th>4</th>\n",
       "      <td>2008-01-31</td>\n",
       "      <td>1378.55</td>\n",
       "      <td>2008-01-31</td>\n",
       "      <td>-0.014772</td>\n",
       "      <td>Neutral</td>\n",
       "      <td>Up</td>\n",
       "      <td>Negative</td>\n",
       "    </tr>\n",
       "    <tr>\n",
       "      <th>5</th>\n",
       "      <td>2008-02-01</td>\n",
       "      <td>1395.42</td>\n",
       "      <td>2008-02-01</td>\n",
       "      <td>-0.237369</td>\n",
       "      <td>Negative</td>\n",
       "      <td>Up</td>\n",
       "      <td>Neutral</td>\n",
       "    </tr>\n",
       "  </tbody>\n",
       "</table>\n",
       "</div>"
      ],
      "text/plain": [
       "       Dates  PX_LAST       date    scores sentiment Direction sentiment_lead\n",
       "1 2008-01-28  1353.97 2008-01-28 -0.027604   Neutral        Up       Positive\n",
       "2 2008-01-29  1362.30 2008-01-29  0.030093   Neutral        Up        Neutral\n",
       "3 2008-01-30  1355.81 2008-01-30 -0.115100  Negative      Down        Neutral\n",
       "4 2008-01-31  1378.55 2008-01-31 -0.014772   Neutral        Up       Negative\n",
       "5 2008-02-01  1395.42 2008-02-01 -0.237369  Negative        Up        Neutral"
      ]
     },
     "execution_count": 260,
     "metadata": {},
     "output_type": "execute_result"
    }
   ],
   "source": [
    "sp_sent_df_clean.head()"
   ]
  },
  {
   "cell_type": "code",
   "execution_count": 261,
   "metadata": {},
   "outputs": [
    {
     "name": "stderr",
     "output_type": "stream",
     "text": [
      "<ipython-input-261-cbe22c7359af>:2: SettingWithCopyWarning: \n",
      "A value is trying to be set on a copy of a slice from a DataFrame.\n",
      "Try using .loc[row_indexer,col_indexer] = value instead\n",
      "\n",
      "See the caveats in the documentation: https://pandas.pydata.org/pandas-docs/stable/user_guide/indexing.html#returning-a-view-versus-a-copy\n",
      "  sp_sent_df_clean['Direction_lag'] = sp_sent_df_clean['Direction'].shift(periods=-1, fill_value=None)\n"
     ]
    },
    {
     "data": {
      "text/html": [
       "<div>\n",
       "<style scoped>\n",
       "    .dataframe tbody tr th:only-of-type {\n",
       "        vertical-align: middle;\n",
       "    }\n",
       "\n",
       "    .dataframe tbody tr th {\n",
       "        vertical-align: top;\n",
       "    }\n",
       "\n",
       "    .dataframe thead th {\n",
       "        text-align: right;\n",
       "    }\n",
       "</style>\n",
       "<table border=\"1\" class=\"dataframe\">\n",
       "  <thead>\n",
       "    <tr style=\"text-align: right;\">\n",
       "      <th></th>\n",
       "      <th>Dates</th>\n",
       "      <th>PX_LAST</th>\n",
       "      <th>date</th>\n",
       "      <th>scores</th>\n",
       "      <th>sentiment</th>\n",
       "      <th>Direction</th>\n",
       "      <th>sentiment_lead</th>\n",
       "      <th>Direction_lag</th>\n",
       "    </tr>\n",
       "  </thead>\n",
       "  <tbody>\n",
       "    <tr>\n",
       "      <th>1</th>\n",
       "      <td>2008-01-28</td>\n",
       "      <td>1353.97</td>\n",
       "      <td>2008-01-28</td>\n",
       "      <td>-0.027604</td>\n",
       "      <td>Neutral</td>\n",
       "      <td>Up</td>\n",
       "      <td>Positive</td>\n",
       "      <td>Up</td>\n",
       "    </tr>\n",
       "    <tr>\n",
       "      <th>2</th>\n",
       "      <td>2008-01-29</td>\n",
       "      <td>1362.30</td>\n",
       "      <td>2008-01-29</td>\n",
       "      <td>0.030093</td>\n",
       "      <td>Neutral</td>\n",
       "      <td>Up</td>\n",
       "      <td>Neutral</td>\n",
       "      <td>Down</td>\n",
       "    </tr>\n",
       "    <tr>\n",
       "      <th>3</th>\n",
       "      <td>2008-01-30</td>\n",
       "      <td>1355.81</td>\n",
       "      <td>2008-01-30</td>\n",
       "      <td>-0.115100</td>\n",
       "      <td>Negative</td>\n",
       "      <td>Down</td>\n",
       "      <td>Neutral</td>\n",
       "      <td>Up</td>\n",
       "    </tr>\n",
       "    <tr>\n",
       "      <th>4</th>\n",
       "      <td>2008-01-31</td>\n",
       "      <td>1378.55</td>\n",
       "      <td>2008-01-31</td>\n",
       "      <td>-0.014772</td>\n",
       "      <td>Neutral</td>\n",
       "      <td>Up</td>\n",
       "      <td>Negative</td>\n",
       "      <td>Up</td>\n",
       "    </tr>\n",
       "    <tr>\n",
       "      <th>5</th>\n",
       "      <td>2008-02-01</td>\n",
       "      <td>1395.42</td>\n",
       "      <td>2008-02-01</td>\n",
       "      <td>-0.237369</td>\n",
       "      <td>Negative</td>\n",
       "      <td>Up</td>\n",
       "      <td>Neutral</td>\n",
       "      <td>Down</td>\n",
       "    </tr>\n",
       "  </tbody>\n",
       "</table>\n",
       "</div>"
      ],
      "text/plain": [
       "       Dates  PX_LAST       date    scores sentiment Direction sentiment_lead  \\\n",
       "1 2008-01-28  1353.97 2008-01-28 -0.027604   Neutral        Up       Positive   \n",
       "2 2008-01-29  1362.30 2008-01-29  0.030093   Neutral        Up        Neutral   \n",
       "3 2008-01-30  1355.81 2008-01-30 -0.115100  Negative      Down        Neutral   \n",
       "4 2008-01-31  1378.55 2008-01-31 -0.014772   Neutral        Up       Negative   \n",
       "5 2008-02-01  1395.42 2008-02-01 -0.237369  Negative        Up        Neutral   \n",
       "\n",
       "  Direction_lag  \n",
       "1            Up  \n",
       "2          Down  \n",
       "3            Up  \n",
       "4            Up  \n",
       "5          Down  "
      ]
     },
     "execution_count": 261,
     "metadata": {},
     "output_type": "execute_result"
    }
   ],
   "source": [
    "# lagging the direction to include as a feature for neural network\n",
    "sp_sent_df_clean['Direction_lag'] = sp_sent_df_clean['Direction'].shift(periods=-1, fill_value=None)\n",
    "sp_sent_df_clean.head()"
   ]
  },
  {
   "cell_type": "code",
   "execution_count": 262,
   "metadata": {},
   "outputs": [
    {
     "data": {
      "text/html": [
       "<div>\n",
       "<style scoped>\n",
       "    .dataframe tbody tr th:only-of-type {\n",
       "        vertical-align: middle;\n",
       "    }\n",
       "\n",
       "    .dataframe tbody tr th {\n",
       "        vertical-align: top;\n",
       "    }\n",
       "\n",
       "    .dataframe thead th {\n",
       "        text-align: right;\n",
       "    }\n",
       "</style>\n",
       "<table border=\"1\" class=\"dataframe\">\n",
       "  <thead>\n",
       "    <tr style=\"text-align: right;\">\n",
       "      <th></th>\n",
       "      <th>index</th>\n",
       "      <th>Dates</th>\n",
       "      <th>PX_LAST</th>\n",
       "      <th>date</th>\n",
       "      <th>scores</th>\n",
       "      <th>sentiment</th>\n",
       "      <th>Direction</th>\n",
       "      <th>sentiment_lead</th>\n",
       "      <th>Direction_lag</th>\n",
       "    </tr>\n",
       "  </thead>\n",
       "  <tbody>\n",
       "    <tr>\n",
       "      <th>0</th>\n",
       "      <td>1</td>\n",
       "      <td>2008-01-28</td>\n",
       "      <td>1353.97</td>\n",
       "      <td>2008-01-28</td>\n",
       "      <td>-0.027604</td>\n",
       "      <td>Neutral</td>\n",
       "      <td>Up</td>\n",
       "      <td>Positive</td>\n",
       "      <td>Up</td>\n",
       "    </tr>\n",
       "    <tr>\n",
       "      <th>1</th>\n",
       "      <td>2</td>\n",
       "      <td>2008-01-29</td>\n",
       "      <td>1362.30</td>\n",
       "      <td>2008-01-29</td>\n",
       "      <td>0.030093</td>\n",
       "      <td>Neutral</td>\n",
       "      <td>Up</td>\n",
       "      <td>Neutral</td>\n",
       "      <td>Down</td>\n",
       "    </tr>\n",
       "    <tr>\n",
       "      <th>2</th>\n",
       "      <td>3</td>\n",
       "      <td>2008-01-30</td>\n",
       "      <td>1355.81</td>\n",
       "      <td>2008-01-30</td>\n",
       "      <td>-0.115100</td>\n",
       "      <td>Negative</td>\n",
       "      <td>Down</td>\n",
       "      <td>Neutral</td>\n",
       "      <td>Up</td>\n",
       "    </tr>\n",
       "    <tr>\n",
       "      <th>3</th>\n",
       "      <td>4</td>\n",
       "      <td>2008-01-31</td>\n",
       "      <td>1378.55</td>\n",
       "      <td>2008-01-31</td>\n",
       "      <td>-0.014772</td>\n",
       "      <td>Neutral</td>\n",
       "      <td>Up</td>\n",
       "      <td>Negative</td>\n",
       "      <td>Up</td>\n",
       "    </tr>\n",
       "    <tr>\n",
       "      <th>4</th>\n",
       "      <td>5</td>\n",
       "      <td>2008-02-01</td>\n",
       "      <td>1395.42</td>\n",
       "      <td>2008-02-01</td>\n",
       "      <td>-0.237369</td>\n",
       "      <td>Negative</td>\n",
       "      <td>Up</td>\n",
       "      <td>Neutral</td>\n",
       "      <td>Down</td>\n",
       "    </tr>\n",
       "  </tbody>\n",
       "</table>\n",
       "</div>"
      ],
      "text/plain": [
       "   index      Dates  PX_LAST       date    scores sentiment Direction  \\\n",
       "0      1 2008-01-28  1353.97 2008-01-28 -0.027604   Neutral        Up   \n",
       "1      2 2008-01-29  1362.30 2008-01-29  0.030093   Neutral        Up   \n",
       "2      3 2008-01-30  1355.81 2008-01-30 -0.115100  Negative      Down   \n",
       "3      4 2008-01-31  1378.55 2008-01-31 -0.014772   Neutral        Up   \n",
       "4      5 2008-02-01  1395.42 2008-02-01 -0.237369  Negative        Up   \n",
       "\n",
       "  sentiment_lead Direction_lag  \n",
       "0       Positive            Up  \n",
       "1        Neutral          Down  \n",
       "2        Neutral            Up  \n",
       "3       Negative            Up  \n",
       "4        Neutral          Down  "
      ]
     },
     "execution_count": 262,
     "metadata": {},
     "output_type": "execute_result"
    }
   ],
   "source": [
    "sp_sent_df_clean = sp_sent_df_clean.reset_index()\n",
    "sp_sent_df_clean.head()"
   ]
  },
  {
   "cell_type": "code",
   "execution_count": 263,
   "metadata": {},
   "outputs": [],
   "source": [
    "# encoding the variable sentiment_lag\n",
    "sentiment_lag = []\n",
    "\n",
    "for i in range(0,len(sp_sent_df_clean.scores)):\n",
    "    if sp_sent_df_clean.loc[i,'sentiment'] == 'Negative':\n",
    "        sentiment_lag.append(0)\n",
    "    elif sp_sent_df_clean.loc[i,'sentiment'] == 'Neutral':\n",
    "        sentiment_lag.append(1)\n",
    "    elif sp_sent_df_clean.loc[i,'sentiment'] == 'Positive':\n",
    "        sentiment_lag.append(2)"
   ]
  },
  {
   "cell_type": "code",
   "execution_count": 264,
   "metadata": {},
   "outputs": [],
   "source": [
    "# encoding the variable sentiment_lead\n",
    "sentiment_lead = []\n",
    "\n",
    "for i in range(0,len(sp_sent_df_clean.scores)):\n",
    "    if sp_sent_df_clean.loc[i,'sentiment_lead'] == 'Negative':\n",
    "        sentiment_lead.append(0)\n",
    "    elif sp_sent_df_clean.loc[i,'sentiment_lead'] == 'Neutral':\n",
    "        sentiment_lead.append(1)\n",
    "    elif sp_sent_df_clean.loc[i,'sentiment_lead'] == 'Positive':\n",
    "        sentiment_lead.append(2)"
   ]
  },
  {
   "cell_type": "code",
   "execution_count": 265,
   "metadata": {},
   "outputs": [],
   "source": [
    "# encoding the variable direction\n",
    "direction = []\n",
    "\n",
    "for i in range(0,len(sp_sent_df_clean.scores)):\n",
    "    if sp_sent_df_clean.loc[i,'Direction'] == 'Up':\n",
    "        direction.append(1)\n",
    "    else:\n",
    "        direction.append(0)"
   ]
  },
  {
   "cell_type": "code",
   "execution_count": 266,
   "metadata": {},
   "outputs": [],
   "source": [
    "# encoding the variable direction_lag\n",
    "direction_lag = []\n",
    "\n",
    "for i in range(0,len(sp_sent_df_clean.scores)):\n",
    "    if sp_sent_df_clean.loc[i,'Direction_lag'] == 'Up':\n",
    "        direction_lag.append(1)\n",
    "    else:\n",
    "        direction_lag.append(0)"
   ]
  },
  {
   "cell_type": "code",
   "execution_count": 267,
   "metadata": {},
   "outputs": [
    {
     "data": {
      "text/html": [
       "<div>\n",
       "<style scoped>\n",
       "    .dataframe tbody tr th:only-of-type {\n",
       "        vertical-align: middle;\n",
       "    }\n",
       "\n",
       "    .dataframe tbody tr th {\n",
       "        vertical-align: top;\n",
       "    }\n",
       "\n",
       "    .dataframe thead th {\n",
       "        text-align: right;\n",
       "    }\n",
       "</style>\n",
       "<table border=\"1\" class=\"dataframe\">\n",
       "  <thead>\n",
       "    <tr style=\"text-align: right;\">\n",
       "      <th></th>\n",
       "      <th>date</th>\n",
       "      <th>sentiment_lag</th>\n",
       "      <th>sentiment_lead</th>\n",
       "      <th>direction_lag</th>\n",
       "      <th>direction</th>\n",
       "    </tr>\n",
       "  </thead>\n",
       "  <tbody>\n",
       "    <tr>\n",
       "      <th>0</th>\n",
       "      <td>2008-01-28</td>\n",
       "      <td>1</td>\n",
       "      <td>2</td>\n",
       "      <td>1</td>\n",
       "      <td>1</td>\n",
       "    </tr>\n",
       "    <tr>\n",
       "      <th>1</th>\n",
       "      <td>2008-01-29</td>\n",
       "      <td>1</td>\n",
       "      <td>1</td>\n",
       "      <td>0</td>\n",
       "      <td>1</td>\n",
       "    </tr>\n",
       "    <tr>\n",
       "      <th>2</th>\n",
       "      <td>2008-01-30</td>\n",
       "      <td>0</td>\n",
       "      <td>1</td>\n",
       "      <td>1</td>\n",
       "      <td>0</td>\n",
       "    </tr>\n",
       "    <tr>\n",
       "      <th>3</th>\n",
       "      <td>2008-01-31</td>\n",
       "      <td>1</td>\n",
       "      <td>0</td>\n",
       "      <td>1</td>\n",
       "      <td>1</td>\n",
       "    </tr>\n",
       "    <tr>\n",
       "      <th>4</th>\n",
       "      <td>2008-02-01</td>\n",
       "      <td>0</td>\n",
       "      <td>1</td>\n",
       "      <td>0</td>\n",
       "      <td>1</td>\n",
       "    </tr>\n",
       "  </tbody>\n",
       "</table>\n",
       "</div>"
      ],
      "text/plain": [
       "        date  sentiment_lag  sentiment_lead  direction_lag  direction\n",
       "0 2008-01-28              1               2              1          1\n",
       "1 2008-01-29              1               1              0          1\n",
       "2 2008-01-30              0               1              1          0\n",
       "3 2008-01-31              1               0              1          1\n",
       "4 2008-02-01              0               1              0          1"
      ]
     },
     "execution_count": 267,
     "metadata": {},
     "output_type": "execute_result"
    }
   ],
   "source": [
    "# creating a dataset\n",
    "data = {'date': sp_sent_df_clean.Dates, 'sentiment_lag': sentiment_lag, 'sentiment_lead': sentiment_lead, \n",
    "        'direction_lag': direction_lag, 'direction': direction}\n",
    "df = pd.DataFrame(data)\n",
    "df.head()"
   ]
  },
  {
   "cell_type": "markdown",
   "metadata": {},
   "source": [
    "## Modelling"
   ]
  },
  {
   "cell_type": "code",
   "execution_count": 268,
   "metadata": {},
   "outputs": [],
   "source": [
    "X = np.array(df[['sentiment_lag', 'sentiment_lead', 'direction_lag']])\n",
    "y = np.array(df.direction)"
   ]
  },
  {
   "cell_type": "code",
   "execution_count": 269,
   "metadata": {},
   "outputs": [],
   "source": [
    "X_train, X_test, y_train, y_test = train_test_split(X, y, test_size=0.3, random_state=42)"
   ]
  },
  {
   "cell_type": "code",
   "execution_count": 270,
   "metadata": {},
   "outputs": [],
   "source": [
    "scaler = StandardScaler()\n",
    "\n",
    "X_train_scaled = scaler.fit_transform(X_train)\n",
    "X_test_scaled = scaler.transform(X_test)"
   ]
  },
  {
   "cell_type": "markdown",
   "metadata": {},
   "source": [
    "### ANN"
   ]
  },
  {
   "cell_type": "code",
   "execution_count": 271,
   "metadata": {},
   "outputs": [],
   "source": [
    "# defining a function for the creation of an ANN to be used for hyperparamter tuning\n",
    "def create_model(optimizer='adam', hidden_units=12,activation='relu'):\n",
    "    model = Sequential()\n",
    "    model.add(Dense(hidden_units, activation=activation, input_dim=3))\n",
    "    model.add(Dense(1, activation='sigmoid')) \n",
    "    model.compile(loss='binary_crossentropy', optimizer=optimizer, metrics=['accuracy', Precision(), Recall()])\n",
    "    return model"
   ]
  },
  {
   "cell_type": "code",
   "execution_count": 272,
   "metadata": {},
   "outputs": [
    {
     "name": "stderr",
     "output_type": "stream",
     "text": [
      "<ipython-input-272-8dc1a02b4106>:1: DeprecationWarning: KerasClassifier is deprecated, use Sci-Keras (https://github.com/adriangb/scikeras) instead. See https://www.adriangb.com/scikeras/stable/migration.html for help migrating.\n",
      "  model = keras.wrappers.scikit_learn.KerasClassifier(build_fn=create_model, verbose=0)\n"
     ]
    }
   ],
   "source": [
    "model = keras.wrappers.scikit_learn.KerasClassifier(build_fn=create_model, verbose=0)"
   ]
  },
  {
   "cell_type": "code",
   "execution_count": 273,
   "metadata": {},
   "outputs": [],
   "source": [
    "# the grid to tune relevant hyperparameters\n",
    "param_grid = {\n",
    "    'batch_size': [10, 20],\n",
    "    'epochs': [10,20],\n",
    "    'hidden_units': [8, 12, 24],\n",
    "    'activation': ['relu', 'sigmoid'],\n",
    "    'optimizer': ['adam', 'sgd', 'rmsprop']\n",
    "}"
   ]
  },
  {
   "cell_type": "code",
   "execution_count": 274,
   "metadata": {},
   "outputs": [],
   "source": [
    "# cross-validation grid search for the grid previously defined\n",
    "grid = GridSearchCV(estimator=model, param_grid=param_grid, cv=3, n_jobs=-1, verbose=2)"
   ]
  },
  {
   "cell_type": "code",
   "execution_count": 275,
   "metadata": {},
   "outputs": [
    {
     "name": "stdout",
     "output_type": "stream",
     "text": [
      "Fitting 3 folds for each of 72 candidates, totalling 216 fits\n"
     ]
    }
   ],
   "source": [
    "# perform the grid search\n",
    "grid_result = grid.fit(X_train_scaled, y_train)"
   ]
  },
  {
   "cell_type": "code",
   "execution_count": 276,
   "metadata": {},
   "outputs": [
    {
     "name": "stdout",
     "output_type": "stream",
     "text": [
      "Best Hyperparameters: {'activation': 'sigmoid', 'batch_size': 10, 'epochs': 10, 'hidden_units': 8, 'optimizer': 'rmsprop'}\n"
     ]
    }
   ],
   "source": [
    "# get the best hyperparameters\n",
    "best_params = grid_result.best_params_\n",
    "print(f'Best Hyperparameters: {best_params}')"
   ]
  },
  {
   "cell_type": "code",
   "execution_count": 277,
   "metadata": {},
   "outputs": [
    {
     "name": "stdout",
     "output_type": "stream",
     "text": [
      "31/31 [==============================] - 0s 4ms/step\n",
      "Accuracy on Test Set: 53.66%\n"
     ]
    }
   ],
   "source": [
    "# obtains the best model from the grid search and computes the accuracy on the test data\n",
    "best_model = grid_result.best_estimator_\n",
    "y_pred = best_model.predict(X_test_scaled)\n",
    "accuracy = accuracy_score(y_test, y_pred)\n",
    "print(f'Accuracy on Test Set: {accuracy * 100:.2f}%')"
   ]
  },
  {
   "cell_type": "code",
   "execution_count": 278,
   "metadata": {},
   "outputs": [
    {
     "name": "stdout",
     "output_type": "stream",
     "text": [
      "Precision on Test Set: 53.66%\n"
     ]
    }
   ],
   "source": [
    "precision = precision_score(y_test, y_pred)\n",
    "print(f'Precision on Test Set: {precision * 100:.2f}%')"
   ]
  },
  {
   "cell_type": "code",
   "execution_count": 279,
   "metadata": {},
   "outputs": [
    {
     "name": "stdout",
     "output_type": "stream",
     "text": [
      "Recall on Test Set: 100.00%\n"
     ]
    }
   ],
   "source": [
    "recall = recall_score(y_test, y_pred)\n",
    "print(f'Recall on Test Set: {recall * 100:.2f}%')"
   ]
  },
  {
   "cell_type": "code",
   "execution_count": 303,
   "metadata": {},
   "outputs": [],
   "source": [
    "# the architecture of the best model\n",
    "model = Sequential()\n",
    "model.add(Dense(8, input_dim=3, activation='sigmoid'))\n",
    "model.add(Dense(1, activation='sigmoid')) \n",
    "model.compile(loss='binary_crossentropy', optimizer='rmsprop', metrics = ['accuracy', Precision(), Recall()])"
   ]
  },
  {
   "cell_type": "code",
   "execution_count": 304,
   "metadata": {},
   "outputs": [
    {
     "name": "stdout",
     "output_type": "stream",
     "text": [
      "Epoch 1/10\n",
      "230/230 [==============================] - 3s 5ms/step - loss: 0.6983 - accuracy: 0.4972 - precision_149: 0.5515 - recall_149: 0.5200\n",
      "Epoch 2/10\n",
      "230/230 [==============================] - 1s 5ms/step - loss: 0.6891 - accuracy: 0.5560 - precision_149: 0.5566 - recall_149: 0.9969\n",
      "Epoch 3/10\n",
      "230/230 [==============================] - 1s 5ms/step - loss: 0.6879 - accuracy: 0.5569 - precision_149: 0.5569 - recall_149: 1.0000\n",
      "Epoch 4/10\n",
      "230/230 [==============================] - 1s 5ms/step - loss: 0.6872 - accuracy: 0.5569 - precision_149: 0.5569 - recall_149: 1.0000\n",
      "Epoch 5/10\n",
      "230/230 [==============================] - 1s 5ms/step - loss: 0.6868 - accuracy: 0.5569 - precision_149: 0.5569 - recall_149: 1.0000\n",
      "Epoch 6/10\n",
      "230/230 [==============================] - 1s 6ms/step - loss: 0.6864 - accuracy: 0.5569 - precision_149: 0.5569 - recall_149: 1.0000\n",
      "Epoch 7/10\n",
      "230/230 [==============================] - 1s 5ms/step - loss: 0.6863 - accuracy: 0.5569 - precision_149: 0.5569 - recall_149: 1.0000\n",
      "Epoch 8/10\n",
      "230/230 [==============================] - 1s 5ms/step - loss: 0.6859 - accuracy: 0.5569 - precision_149: 0.5569 - recall_149: 1.0000\n",
      "Epoch 9/10\n",
      "230/230 [==============================] - 1s 6ms/step - loss: 0.6862 - accuracy: 0.5569 - precision_149: 0.5569 - recall_149: 1.0000\n",
      "Epoch 10/10\n",
      "230/230 [==============================] - 1s 6ms/step - loss: 0.6860 - accuracy: 0.5569 - precision_149: 0.5569 - recall_149: 1.0000\n"
     ]
    },
    {
     "data": {
      "text/plain": [
       "<keras.callbacks.History at 0x1940fe5ea00>"
      ]
     },
     "execution_count": 304,
     "metadata": {},
     "output_type": "execute_result"
    }
   ],
   "source": [
    "model.fit(X_train_scaled, y_train, epochs=10, batch_size=10) "
   ]
  },
  {
   "cell_type": "code",
   "execution_count": 305,
   "metadata": {},
   "outputs": [
    {
     "name": "stdout",
     "output_type": "stream",
     "text": [
      "72/72 [==============================] - 1s 5ms/step - loss: 0.6854 - accuracy: 0.5569 - precision_149: 0.5569 - recall_149: 1.0000\n",
      "Accuracy: 55.69 Precision: 55.69 Recall: 100.00\n"
     ]
    }
   ],
   "source": [
    "# training accuracy\n",
    "_, accuracy, precision, recall = model.evaluate(X_train_scaled, y_train)\n",
    "print('Accuracy: %.2f' % (accuracy*100), 'Precision: %.2f' % (precision*100), 'Recall: %.2f' % (recall*100)) "
   ]
  },
  {
   "cell_type": "markdown",
   "metadata": {},
   "source": [
    "### RNN"
   ]
  },
  {
   "cell_type": "code",
   "execution_count": 283,
   "metadata": {},
   "outputs": [],
   "source": [
    "X = np.array(df[['sentiment_lag', 'sentiment_lead', 'direction_lag']])\n",
    "y = np.array(df.direction)"
   ]
  },
  {
   "cell_type": "code",
   "execution_count": 284,
   "metadata": {},
   "outputs": [],
   "source": [
    "X_train, X_test, y_train, y_test = train_test_split(X, y, test_size=0.3, random_state=21)"
   ]
  },
  {
   "cell_type": "code",
   "execution_count": 285,
   "metadata": {},
   "outputs": [],
   "source": [
    "scaler = StandardScaler()\n",
    "\n",
    "X_train_scaled = scaler.fit_transform(X_train)\n",
    "X_test_scaled = scaler.transform(X_test)"
   ]
  },
  {
   "cell_type": "code",
   "execution_count": 286,
   "metadata": {},
   "outputs": [
    {
     "data": {
      "text/plain": [
       "array([[[ 0.23907182],\n",
       "        [ 0.21456481],\n",
       "        [ 0.92557018]],\n",
       "\n",
       "       [[-1.35915467],\n",
       "        [ 0.21456481],\n",
       "        [ 0.92557018]],\n",
       "\n",
       "       [[ 0.23907182],\n",
       "        [ 0.21456481],\n",
       "        [ 0.92557018]],\n",
       "\n",
       "       ...,\n",
       "\n",
       "       [[ 0.23907182],\n",
       "        [ 0.21456481],\n",
       "        [ 0.92557018]],\n",
       "\n",
       "       [[ 0.23907182],\n",
       "        [ 1.81195806],\n",
       "        [ 0.92557018]],\n",
       "\n",
       "       [[-1.35915467],\n",
       "        [-1.38282843],\n",
       "        [ 0.92557018]]])"
      ]
     },
     "execution_count": 286,
     "metadata": {},
     "output_type": "execute_result"
    }
   ],
   "source": [
    "# rehsaping the training data to allow for RNN fit\n",
    "X_r_train = X_train_scaled.reshape(-1,3,1)\n",
    "X_r_train"
   ]
  },
  {
   "cell_type": "code",
   "execution_count": 287,
   "metadata": {},
   "outputs": [
    {
     "data": {
      "text/plain": [
       "array([[[ 0.23907182],\n",
       "        [ 0.21456481],\n",
       "        [ 0.92557018]],\n",
       "\n",
       "       [[-1.35915467],\n",
       "        [-1.38282843],\n",
       "        [ 0.92557018]],\n",
       "\n",
       "       [[ 1.83729831],\n",
       "        [ 0.21456481],\n",
       "        [-1.0804151 ]],\n",
       "\n",
       "       ...,\n",
       "\n",
       "       [[ 0.23907182],\n",
       "        [ 0.21456481],\n",
       "        [ 0.92557018]],\n",
       "\n",
       "       [[ 0.23907182],\n",
       "        [ 0.21456481],\n",
       "        [-1.0804151 ]],\n",
       "\n",
       "       [[ 0.23907182],\n",
       "        [ 0.21456481],\n",
       "        [ 0.92557018]]])"
      ]
     },
     "execution_count": 287,
     "metadata": {},
     "output_type": "execute_result"
    }
   ],
   "source": [
    "# refitting test data\n",
    "X_r_test = X_test_scaled.reshape(-1,3,1)\n",
    "X_r_test"
   ]
  },
  {
   "cell_type": "code",
   "execution_count": 288,
   "metadata": {},
   "outputs": [],
   "source": [
    "# defining a function to allow for model build for gridsearch hyperparameter tuning\n",
    "def create_rnn_model(units=50, optimizer = 'adam', activation = 'relu'):\n",
    "    model = Sequential()\n",
    "    model.add(SimpleRNN(units, activation = activation, input_shape=(X_r_train.shape[1], X_r_train.shape[2])))\n",
    "    model.add(Dense(1, activation='sigmoid'))\n",
    "    model.compile(loss='binary_crossentropy', optimizer = optimizer, metrics=['accuracy', Precision(), Recall()])\n",
    "    return model"
   ]
  },
  {
   "cell_type": "code",
   "execution_count": 289,
   "metadata": {},
   "outputs": [
    {
     "name": "stderr",
     "output_type": "stream",
     "text": [
      "<ipython-input-289-3a4eae250d27>:1: DeprecationWarning: KerasClassifier is deprecated, use Sci-Keras (https://github.com/adriangb/scikeras) instead. See https://www.adriangb.com/scikeras/stable/migration.html for help migrating.\n",
      "  rnn_model = keras.wrappers.scikit_learn.KerasClassifier(build_fn=create_rnn_model, verbose=0)\n"
     ]
    }
   ],
   "source": [
    "rnn_model = keras.wrappers.scikit_learn.KerasClassifier(build_fn=create_rnn_model, verbose=0)"
   ]
  },
  {
   "cell_type": "code",
   "execution_count": 290,
   "metadata": {},
   "outputs": [],
   "source": [
    "param_grid = {\n",
    "    'units': [50,100],\n",
    "    'epochs': [10,20],\n",
    "    'batch_size': [10, 20],\n",
    "    'activation': ['relu', 'sigmoid'],\n",
    "    'optimizer': ['adam', 'sgd', 'rmsprop']\n",
    "}"
   ]
  },
  {
   "cell_type": "code",
   "execution_count": 291,
   "metadata": {},
   "outputs": [],
   "source": [
    "grid_search = GridSearchCV(estimator=rnn_model, param_grid=param_grid, cv=3, n_jobs=1, verbose=2)"
   ]
  },
  {
   "cell_type": "code",
   "execution_count": 292,
   "metadata": {
    "scrolled": true
   },
   "outputs": [
    {
     "name": "stdout",
     "output_type": "stream",
     "text": [
      "Fitting 3 folds for each of 48 candidates, totalling 144 fits\n",
      "[CV] END activation=relu, batch_size=10, epochs=10, optimizer=adam, units=50; total time=  11.7s\n",
      "[CV] END activation=relu, batch_size=10, epochs=10, optimizer=adam, units=50; total time=  11.8s\n",
      "[CV] END activation=relu, batch_size=10, epochs=10, optimizer=adam, units=50; total time=  11.7s\n",
      "[CV] END activation=relu, batch_size=10, epochs=10, optimizer=adam, units=100; total time=  12.2s\n",
      "[CV] END activation=relu, batch_size=10, epochs=10, optimizer=adam, units=100; total time=  11.8s\n",
      "[CV] END activation=relu, batch_size=10, epochs=10, optimizer=adam, units=100; total time=  12.4s\n",
      "[CV] END activation=relu, batch_size=10, epochs=10, optimizer=sgd, units=50; total time=  11.8s\n",
      "[CV] END activation=relu, batch_size=10, epochs=10, optimizer=sgd, units=50; total time=  10.8s\n",
      "[CV] END activation=relu, batch_size=10, epochs=10, optimizer=sgd, units=50; total time=  10.3s\n",
      "[CV] END activation=relu, batch_size=10, epochs=10, optimizer=sgd, units=100; total time=  12.2s\n",
      "[CV] END activation=relu, batch_size=10, epochs=10, optimizer=sgd, units=100; total time=  12.0s\n",
      "[CV] END activation=relu, batch_size=10, epochs=10, optimizer=sgd, units=100; total time=  11.1s\n",
      "[CV] END activation=relu, batch_size=10, epochs=10, optimizer=rmsprop, units=50; total time=  11.0s\n",
      "[CV] END activation=relu, batch_size=10, epochs=10, optimizer=rmsprop, units=50; total time=  10.9s\n",
      "[CV] END activation=relu, batch_size=10, epochs=10, optimizer=rmsprop, units=50; total time=  12.0s\n",
      "[CV] END activation=relu, batch_size=10, epochs=10, optimizer=rmsprop, units=100; total time=  11.2s\n",
      "[CV] END activation=relu, batch_size=10, epochs=10, optimizer=rmsprop, units=100; total time=  11.6s\n",
      "[CV] END activation=relu, batch_size=10, epochs=10, optimizer=rmsprop, units=100; total time=  11.5s\n",
      "[CV] END activation=relu, batch_size=10, epochs=20, optimizer=adam, units=50; total time=  17.9s\n",
      "[CV] END activation=relu, batch_size=10, epochs=20, optimizer=adam, units=50; total time=  18.1s\n",
      "[CV] END activation=relu, batch_size=10, epochs=20, optimizer=adam, units=50; total time=  18.0s\n",
      "[CV] END activation=relu, batch_size=10, epochs=20, optimizer=adam, units=100; total time=  18.9s\n",
      "[CV] END activation=relu, batch_size=10, epochs=20, optimizer=adam, units=100; total time=  20.5s\n",
      "[CV] END activation=relu, batch_size=10, epochs=20, optimizer=adam, units=100; total time=  19.1s\n",
      "[CV] END activation=relu, batch_size=10, epochs=20, optimizer=sgd, units=50; total time=  16.8s\n",
      "[CV] END activation=relu, batch_size=10, epochs=20, optimizer=sgd, units=50; total time=  17.3s\n",
      "[CV] END activation=relu, batch_size=10, epochs=20, optimizer=sgd, units=50; total time=  16.8s\n",
      "[CV] END activation=relu, batch_size=10, epochs=20, optimizer=sgd, units=100; total time=  18.1s\n",
      "[CV] END activation=relu, batch_size=10, epochs=20, optimizer=sgd, units=100; total time=  17.8s\n",
      "[CV] END activation=relu, batch_size=10, epochs=20, optimizer=sgd, units=100; total time=  17.8s\n",
      "[CV] END activation=relu, batch_size=10, epochs=20, optimizer=rmsprop, units=50; total time=  17.8s\n",
      "[CV] END activation=relu, batch_size=10, epochs=20, optimizer=rmsprop, units=50; total time=  18.3s\n",
      "[CV] END activation=relu, batch_size=10, epochs=20, optimizer=rmsprop, units=50; total time=  17.6s\n",
      "[CV] END activation=relu, batch_size=10, epochs=20, optimizer=rmsprop, units=100; total time=  18.3s\n",
      "[CV] END activation=relu, batch_size=10, epochs=20, optimizer=rmsprop, units=100; total time=  18.3s\n",
      "[CV] END activation=relu, batch_size=10, epochs=20, optimizer=rmsprop, units=100; total time=  18.2s\n",
      "[CV] END activation=relu, batch_size=20, epochs=10, optimizer=adam, units=50; total time=   8.3s\n",
      "[CV] END activation=relu, batch_size=20, epochs=10, optimizer=adam, units=50; total time=   8.0s\n",
      "[CV] END activation=relu, batch_size=20, epochs=10, optimizer=adam, units=50; total time=   8.3s\n",
      "[CV] END activation=relu, batch_size=20, epochs=10, optimizer=adam, units=100; total time=   9.5s\n",
      "[CV] END activation=relu, batch_size=20, epochs=10, optimizer=adam, units=100; total time=   9.0s\n",
      "[CV] END activation=relu, batch_size=20, epochs=10, optimizer=adam, units=100; total time=   8.7s\n",
      "[CV] END activation=relu, batch_size=20, epochs=10, optimizer=sgd, units=50; total time=   7.8s\n",
      "[CV] END activation=relu, batch_size=20, epochs=10, optimizer=sgd, units=50; total time=   7.5s\n",
      "[CV] END activation=relu, batch_size=20, epochs=10, optimizer=sgd, units=50; total time=   7.8s\n",
      "[CV] END activation=relu, batch_size=20, epochs=10, optimizer=sgd, units=100; total time=   7.8s\n",
      "[CV] END activation=relu, batch_size=20, epochs=10, optimizer=sgd, units=100; total time=   8.2s\n",
      "[CV] END activation=relu, batch_size=20, epochs=10, optimizer=sgd, units=100; total time=   7.8s\n",
      "[CV] END activation=relu, batch_size=20, epochs=10, optimizer=rmsprop, units=50; total time=   8.8s\n",
      "[CV] END activation=relu, batch_size=20, epochs=10, optimizer=rmsprop, units=50; total time=   7.8s\n",
      "[CV] END activation=relu, batch_size=20, epochs=10, optimizer=rmsprop, units=50; total time=   7.8s\n",
      "[CV] END activation=relu, batch_size=20, epochs=10, optimizer=rmsprop, units=100; total time=   8.3s\n",
      "[CV] END activation=relu, batch_size=20, epochs=10, optimizer=rmsprop, units=100; total time=   8.1s\n",
      "[CV] END activation=relu, batch_size=20, epochs=10, optimizer=rmsprop, units=100; total time=   8.4s\n",
      "[CV] END activation=relu, batch_size=20, epochs=20, optimizer=adam, units=50; total time=  11.3s\n",
      "[CV] END activation=relu, batch_size=20, epochs=20, optimizer=adam, units=50; total time=  11.7s\n",
      "[CV] END activation=relu, batch_size=20, epochs=20, optimizer=adam, units=50; total time=  12.8s\n",
      "[CV] END activation=relu, batch_size=20, epochs=20, optimizer=adam, units=100; total time=  12.5s\n",
      "[CV] END activation=relu, batch_size=20, epochs=20, optimizer=adam, units=100; total time=  12.2s\n",
      "[CV] END activation=relu, batch_size=20, epochs=20, optimizer=adam, units=100; total time=  12.7s\n",
      "[CV] END activation=relu, batch_size=20, epochs=20, optimizer=sgd, units=50; total time=  10.8s\n",
      "[CV] END activation=relu, batch_size=20, epochs=20, optimizer=sgd, units=50; total time=  11.0s\n",
      "[CV] END activation=relu, batch_size=20, epochs=20, optimizer=sgd, units=50; total time=  10.6s\n",
      "[CV] END activation=relu, batch_size=20, epochs=20, optimizer=sgd, units=100; total time=  11.5s\n",
      "[CV] END activation=relu, batch_size=20, epochs=20, optimizer=sgd, units=100; total time=  12.5s\n",
      "[CV] END activation=relu, batch_size=20, epochs=20, optimizer=sgd, units=100; total time=  11.3s\n",
      "[CV] END activation=relu, batch_size=20, epochs=20, optimizer=rmsprop, units=50; total time=  11.4s\n",
      "[CV] END activation=relu, batch_size=20, epochs=20, optimizer=rmsprop, units=50; total time=  11.1s\n",
      "[CV] END activation=relu, batch_size=20, epochs=20, optimizer=rmsprop, units=50; total time=  11.4s\n",
      "[CV] END activation=relu, batch_size=20, epochs=20, optimizer=rmsprop, units=100; total time=  11.6s\n",
      "[CV] END activation=relu, batch_size=20, epochs=20, optimizer=rmsprop, units=100; total time=  12.2s\n",
      "[CV] END activation=relu, batch_size=20, epochs=20, optimizer=rmsprop, units=100; total time=  11.8s\n",
      "[CV] END activation=sigmoid, batch_size=10, epochs=10, optimizer=adam, units=50; total time=  11.5s\n",
      "[CV] END activation=sigmoid, batch_size=10, epochs=10, optimizer=adam, units=50; total time=  12.5s\n",
      "[CV] END activation=sigmoid, batch_size=10, epochs=10, optimizer=adam, units=50; total time=  11.8s\n",
      "[CV] END activation=sigmoid, batch_size=10, epochs=10, optimizer=adam, units=100; total time=  12.1s\n",
      "[CV] END activation=sigmoid, batch_size=10, epochs=10, optimizer=adam, units=100; total time=  12.3s\n",
      "[CV] END activation=sigmoid, batch_size=10, epochs=10, optimizer=adam, units=100; total time=  11.8s\n",
      "[CV] END activation=sigmoid, batch_size=10, epochs=10, optimizer=sgd, units=50; total time=  11.0s\n",
      "[CV] END activation=sigmoid, batch_size=10, epochs=10, optimizer=sgd, units=50; total time=  10.7s\n",
      "[CV] END activation=sigmoid, batch_size=10, epochs=10, optimizer=sgd, units=50; total time=  10.4s\n",
      "[CV] END activation=sigmoid, batch_size=10, epochs=10, optimizer=sgd, units=100; total time=  12.5s\n",
      "[CV] END activation=sigmoid, batch_size=10, epochs=10, optimizer=sgd, units=100; total time=  11.2s\n"
     ]
    },
    {
     "name": "stdout",
     "output_type": "stream",
     "text": [
      "[CV] END activation=sigmoid, batch_size=10, epochs=10, optimizer=sgd, units=100; total time=  11.3s\n",
      "[CV] END activation=sigmoid, batch_size=10, epochs=10, optimizer=rmsprop, units=50; total time=  10.6s\n",
      "[CV] END activation=sigmoid, batch_size=10, epochs=10, optimizer=rmsprop, units=50; total time=  10.9s\n",
      "[CV] END activation=sigmoid, batch_size=10, epochs=10, optimizer=rmsprop, units=50; total time=  11.1s\n",
      "[CV] END activation=sigmoid, batch_size=10, epochs=10, optimizer=rmsprop, units=100; total time=  11.3s\n",
      "[CV] END activation=sigmoid, batch_size=10, epochs=10, optimizer=rmsprop, units=100; total time=  11.7s\n",
      "[CV] END activation=sigmoid, batch_size=10, epochs=10, optimizer=rmsprop, units=100; total time=  11.4s\n",
      "[CV] END activation=sigmoid, batch_size=10, epochs=20, optimizer=adam, units=50; total time=  19.2s\n",
      "[CV] END activation=sigmoid, batch_size=10, epochs=20, optimizer=adam, units=50; total time=  17.9s\n",
      "[CV] END activation=sigmoid, batch_size=10, epochs=20, optimizer=adam, units=50; total time=  18.0s\n",
      "[CV] END activation=sigmoid, batch_size=10, epochs=20, optimizer=adam, units=100; total time=  19.4s\n",
      "[CV] END activation=sigmoid, batch_size=10, epochs=20, optimizer=adam, units=100; total time=  19.2s\n",
      "[CV] END activation=sigmoid, batch_size=10, epochs=20, optimizer=adam, units=100; total time=  19.0s\n",
      "[CV] END activation=sigmoid, batch_size=10, epochs=20, optimizer=sgd, units=50; total time=  16.8s\n",
      "[CV] END activation=sigmoid, batch_size=10, epochs=20, optimizer=sgd, units=50; total time=  17.1s\n",
      "[CV] END activation=sigmoid, batch_size=10, epochs=20, optimizer=sgd, units=50; total time=  17.8s\n",
      "[CV] END activation=sigmoid, batch_size=10, epochs=20, optimizer=sgd, units=100; total time=  17.8s\n",
      "[CV] END activation=sigmoid, batch_size=10, epochs=20, optimizer=sgd, units=100; total time=  17.8s\n",
      "[CV] END activation=sigmoid, batch_size=10, epochs=20, optimizer=sgd, units=100; total time=  18.5s\n",
      "[CV] END activation=sigmoid, batch_size=10, epochs=20, optimizer=rmsprop, units=50; total time=  17.2s\n",
      "[CV] END activation=sigmoid, batch_size=10, epochs=20, optimizer=rmsprop, units=50; total time=  17.1s\n",
      "[CV] END activation=sigmoid, batch_size=10, epochs=20, optimizer=rmsprop, units=50; total time=  17.0s\n",
      "[CV] END activation=sigmoid, batch_size=10, epochs=20, optimizer=rmsprop, units=100; total time=  18.1s\n",
      "[CV] END activation=sigmoid, batch_size=10, epochs=20, optimizer=rmsprop, units=100; total time=  18.1s\n",
      "[CV] END activation=sigmoid, batch_size=10, epochs=20, optimizer=rmsprop, units=100; total time=  19.3s\n",
      "[CV] END activation=sigmoid, batch_size=20, epochs=10, optimizer=adam, units=50; total time=   8.3s\n",
      "[CV] END activation=sigmoid, batch_size=20, epochs=10, optimizer=adam, units=50; total time=   8.0s\n",
      "[CV] END activation=sigmoid, batch_size=20, epochs=10, optimizer=adam, units=50; total time=   8.4s\n",
      "[CV] END activation=sigmoid, batch_size=20, epochs=10, optimizer=adam, units=100; total time=   8.4s\n",
      "[CV] END activation=sigmoid, batch_size=20, epochs=10, optimizer=adam, units=100; total time=   9.0s\n",
      "[CV] END activation=sigmoid, batch_size=20, epochs=10, optimizer=adam, units=100; total time=   8.4s\n",
      "[CV] END activation=sigmoid, batch_size=20, epochs=10, optimizer=sgd, units=50; total time=   7.7s\n",
      "[CV] END activation=sigmoid, batch_size=20, epochs=10, optimizer=sgd, units=50; total time=   8.6s\n",
      "[CV] END activation=sigmoid, batch_size=20, epochs=10, optimizer=sgd, units=50; total time=   7.6s\n",
      "[CV] END activation=sigmoid, batch_size=20, epochs=10, optimizer=sgd, units=100; total time=   8.1s\n",
      "[CV] END activation=sigmoid, batch_size=20, epochs=10, optimizer=sgd, units=100; total time=   8.2s\n",
      "[CV] END activation=sigmoid, batch_size=20, epochs=10, optimizer=sgd, units=100; total time=   9.4s\n",
      "[CV] END activation=sigmoid, batch_size=20, epochs=10, optimizer=rmsprop, units=50; total time=   7.5s\n",
      "[CV] END activation=sigmoid, batch_size=20, epochs=10, optimizer=rmsprop, units=50; total time=   7.9s\n",
      "[CV] END activation=sigmoid, batch_size=20, epochs=10, optimizer=rmsprop, units=50; total time=   7.5s\n",
      "[CV] END activation=sigmoid, batch_size=20, epochs=10, optimizer=rmsprop, units=100; total time=   9.2s\n",
      "[CV] END activation=sigmoid, batch_size=20, epochs=10, optimizer=rmsprop, units=100; total time=   7.9s\n",
      "[CV] END activation=sigmoid, batch_size=20, epochs=10, optimizer=rmsprop, units=100; total time=   8.4s\n",
      "[CV] END activation=sigmoid, batch_size=20, epochs=20, optimizer=adam, units=50; total time=  11.3s\n",
      "[CV] END activation=sigmoid, batch_size=20, epochs=20, optimizer=adam, units=50; total time=  11.9s\n",
      "[CV] END activation=sigmoid, batch_size=20, epochs=20, optimizer=adam, units=50; total time=  12.9s\n",
      "[CV] END activation=sigmoid, batch_size=20, epochs=20, optimizer=adam, units=100; total time=  13.3s\n",
      "[CV] END activation=sigmoid, batch_size=20, epochs=20, optimizer=adam, units=100; total time=  12.9s\n",
      "[CV] END activation=sigmoid, batch_size=20, epochs=20, optimizer=adam, units=100; total time=  13.0s\n",
      "[CV] END activation=sigmoid, batch_size=20, epochs=20, optimizer=sgd, units=50; total time=  12.8s\n",
      "[CV] END activation=sigmoid, batch_size=20, epochs=20, optimizer=sgd, units=50; total time=  11.9s\n",
      "[CV] END activation=sigmoid, batch_size=20, epochs=20, optimizer=sgd, units=50; total time=  11.2s\n",
      "[CV] END activation=sigmoid, batch_size=20, epochs=20, optimizer=sgd, units=100; total time=  11.5s\n",
      "[CV] END activation=sigmoid, batch_size=20, epochs=20, optimizer=sgd, units=100; total time=  12.1s\n",
      "[CV] END activation=sigmoid, batch_size=20, epochs=20, optimizer=sgd, units=100; total time=  11.9s\n",
      "[CV] END activation=sigmoid, batch_size=20, epochs=20, optimizer=rmsprop, units=50; total time=  11.4s\n",
      "[CV] END activation=sigmoid, batch_size=20, epochs=20, optimizer=rmsprop, units=50; total time=  11.0s\n",
      "[CV] END activation=sigmoid, batch_size=20, epochs=20, optimizer=rmsprop, units=50; total time=  12.6s\n",
      "[CV] END activation=sigmoid, batch_size=20, epochs=20, optimizer=rmsprop, units=100; total time=  12.8s\n",
      "[CV] END activation=sigmoid, batch_size=20, epochs=20, optimizer=rmsprop, units=100; total time=  12.2s\n",
      "[CV] END activation=sigmoid, batch_size=20, epochs=20, optimizer=rmsprop, units=100; total time=  12.2s\n"
     ]
    }
   ],
   "source": [
    "grid_result_rnn = grid_search.fit(X_r_train, y_train)"
   ]
  },
  {
   "cell_type": "code",
   "execution_count": 293,
   "metadata": {},
   "outputs": [
    {
     "name": "stdout",
     "output_type": "stream",
     "text": [
      "Best Hyperparameters: {'activation': 'relu', 'batch_size': 20, 'epochs': 10, 'optimizer': 'sgd', 'units': 100}\n"
     ]
    }
   ],
   "source": [
    "best_params = grid_result_rnn.best_params_\n",
    "print(f'Best Hyperparameters: {best_params}')"
   ]
  },
  {
   "cell_type": "code",
   "execution_count": 294,
   "metadata": {},
   "outputs": [
    {
     "name": "stdout",
     "output_type": "stream",
     "text": [
      "31/31 [==============================] - 1s 5ms/step\n",
      "Accuracy on Test Set: 51.32%\n"
     ]
    }
   ],
   "source": [
    "best_model = grid_result_rnn.best_estimator_\n",
    "y_pred = best_model.predict(X_r_test)\n",
    "accuracy = accuracy_score(y_test, y_pred)\n",
    "print(f'Accuracy on Test Set: {accuracy * 100:.2f}%')"
   ]
  },
  {
   "cell_type": "code",
   "execution_count": 295,
   "metadata": {},
   "outputs": [
    {
     "name": "stdout",
     "output_type": "stream",
     "text": [
      "Precision on Test Set: 51.32%\n"
     ]
    }
   ],
   "source": [
    "precision = precision_score(y_test, y_pred)\n",
    "print(f'Precision on Test Set: {precision * 100:.2f}%')"
   ]
  },
  {
   "cell_type": "code",
   "execution_count": 296,
   "metadata": {},
   "outputs": [
    {
     "name": "stdout",
     "output_type": "stream",
     "text": [
      "Recall on Test Set: 100.00%\n"
     ]
    }
   ],
   "source": [
    "recall = recall_score(y_test, y_pred)\n",
    "print(f'Recall on Test Set: {recall * 100:.2f}%')"
   ]
  },
  {
   "cell_type": "code",
   "execution_count": 300,
   "metadata": {},
   "outputs": [],
   "source": [
    "model = Sequential()\n",
    "model.add(SimpleRNN(100, activation = 'relu', input_shape=(X_r_train.shape[1], X_r_train.shape[2])))\n",
    "model.add(Dense(1, activation='sigmoid'))\n",
    "model.compile(loss='binary_crossentropy', optimizer = 'sgd', metrics=['accuracy', Precision(), Recall()])"
   ]
  },
  {
   "cell_type": "code",
   "execution_count": 301,
   "metadata": {},
   "outputs": [
    {
     "name": "stdout",
     "output_type": "stream",
     "text": [
      "Epoch 1/10\n",
      "115/115 [==============================] - 4s 8ms/step - loss: 0.6966 - accuracy: 0.4697 - precision_148: 0.5301 - recall_148: 0.4205\n",
      "Epoch 2/10\n",
      "115/115 [==============================] - 1s 8ms/step - loss: 0.6884 - accuracy: 0.5543 - precision_148: 0.5563 - recall_148: 0.9867\n",
      "Epoch 3/10\n",
      "115/115 [==============================] - 1s 7ms/step - loss: 0.6871 - accuracy: 0.5569 - precision_148: 0.5569 - recall_148: 1.0000\n",
      "Epoch 4/10\n",
      "115/115 [==============================] - 1s 7ms/step - loss: 0.6866 - accuracy: 0.5569 - precision_148: 0.5569 - recall_148: 1.0000\n",
      "Epoch 5/10\n",
      "115/115 [==============================] - 1s 7ms/step - loss: 0.6864 - accuracy: 0.5569 - precision_148: 0.5569 - recall_148: 1.0000\n",
      "Epoch 6/10\n",
      "115/115 [==============================] - 1s 8ms/step - loss: 0.6861 - accuracy: 0.5569 - precision_148: 0.5569 - recall_148: 1.0000\n",
      "Epoch 7/10\n",
      "115/115 [==============================] - 1s 7ms/step - loss: 0.6859 - accuracy: 0.5569 - precision_148: 0.5569 - recall_148: 1.0000\n",
      "Epoch 8/10\n",
      "115/115 [==============================] - 1s 7ms/step - loss: 0.6858 - accuracy: 0.5569 - precision_148: 0.5569 - recall_148: 1.0000\n",
      "Epoch 9/10\n",
      "115/115 [==============================] - 1s 7ms/step - loss: 0.6856 - accuracy: 0.5569 - precision_148: 0.5569 - recall_148: 1.0000\n",
      "Epoch 10/10\n",
      "115/115 [==============================] - 1s 7ms/step - loss: 0.6855 - accuracy: 0.5569 - precision_148: 0.5569 - recall_148: 1.0000\n"
     ]
    },
    {
     "data": {
      "text/plain": [
       "<keras.callbacks.History at 0x19415893a00>"
      ]
     },
     "execution_count": 301,
     "metadata": {},
     "output_type": "execute_result"
    }
   ],
   "source": [
    "model.fit(X_r_train, y_train, epochs=10, batch_size=20) "
   ]
  },
  {
   "cell_type": "code",
   "execution_count": 302,
   "metadata": {},
   "outputs": [
    {
     "name": "stdout",
     "output_type": "stream",
     "text": [
      "72/72 [==============================] - 1s 6ms/step - loss: 0.6850 - accuracy: 0.5569 - precision_148: 0.5569 - recall_148: 1.0000\n",
      "Accuracy: 55.69 Precision: 55.69 Recall: 100.00\n"
     ]
    }
   ],
   "source": [
    "_, accuracy, precision, recall = model.evaluate(X_r_train, y_train)\n",
    "print('Accuracy: %.2f' % (accuracy*100), 'Precision: %.2f' % (precision*100), 'Recall: %.2f' % (recall*100)) "
   ]
  },
  {
   "cell_type": "code",
   "execution_count": null,
   "metadata": {},
   "outputs": [],
   "source": []
  }
 ],
 "metadata": {
  "kernelspec": {
   "display_name": "Python 3",
   "language": "python",
   "name": "python3"
  },
  "language_info": {
   "codemirror_mode": {
    "name": "ipython",
    "version": 3
   },
   "file_extension": ".py",
   "mimetype": "text/x-python",
   "name": "python",
   "nbconvert_exporter": "python",
   "pygments_lexer": "ipython3",
   "version": "3.8.5"
  }
 },
 "nbformat": 4,
 "nbformat_minor": 5
}
