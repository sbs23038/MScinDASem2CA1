{
 "cells": [
  {
   "cell_type": "code",
   "execution_count": 1,
   "metadata": {},
   "outputs": [],
   "source": [
    "import pandas as pd\n",
    "import numpy as np"
   ]
  },
  {
   "cell_type": "code",
   "execution_count": 2,
   "metadata": {},
   "outputs": [
    {
     "data": {
      "text/plain": [
       "263650"
      ]
     },
     "execution_count": 2,
     "metadata": {},
     "output_type": "execute_result"
    }
   ],
   "source": [
    "date_1 = pd.read_csv(\"date_1.csv\")\n",
    "date_2 = pd.read_csv(\"date_2.csv\")\n",
    "date_3 = pd.read_csv(\"date_3.csv\")\n",
    "date_4 = pd.read_csv(\"date_4.csv\")\n",
    "date_5 = pd.read_csv(\"date_5.csv\")\n",
    "\n",
    "full_date_df = pd.concat([date_1,date_2,date_3,date_4,date_5])\n",
    "\n",
    "len(full_date_df)"
   ]
  },
  {
   "cell_type": "code",
   "execution_count": 3,
   "metadata": {},
   "outputs": [
    {
     "data": {
      "text/html": [
       "<div>\n",
       "<style scoped>\n",
       "    .dataframe tbody tr th:only-of-type {\n",
       "        vertical-align: middle;\n",
       "    }\n",
       "\n",
       "    .dataframe tbody tr th {\n",
       "        vertical-align: top;\n",
       "    }\n",
       "\n",
       "    .dataframe thead th {\n",
       "        text-align: right;\n",
       "    }\n",
       "</style>\n",
       "<table border=\"1\" class=\"dataframe\">\n",
       "  <thead>\n",
       "    <tr style=\"text-align: right;\">\n",
       "      <th></th>\n",
       "      <th>created_utc</th>\n",
       "    </tr>\n",
       "  </thead>\n",
       "  <tbody>\n",
       "    <tr>\n",
       "      <th>0</th>\n",
       "      <td>1201236548</td>\n",
       "    </tr>\n",
       "    <tr>\n",
       "      <th>1</th>\n",
       "      <td>1201236599</td>\n",
       "    </tr>\n",
       "    <tr>\n",
       "      <th>2</th>\n",
       "      <td>1201236626</td>\n",
       "    </tr>\n",
       "    <tr>\n",
       "      <th>3</th>\n",
       "      <td>1201236662</td>\n",
       "    </tr>\n",
       "    <tr>\n",
       "      <th>4</th>\n",
       "      <td>1201236696</td>\n",
       "    </tr>\n",
       "  </tbody>\n",
       "</table>\n",
       "</div>"
      ],
      "text/plain": [
       "   created_utc\n",
       "0   1201236548\n",
       "1   1201236599\n",
       "2   1201236626\n",
       "3   1201236662\n",
       "4   1201236696"
      ]
     },
     "execution_count": 3,
     "metadata": {},
     "output_type": "execute_result"
    }
   ],
   "source": [
    "full_date_df.head()"
   ]
  },
  {
   "cell_type": "code",
   "execution_count": 4,
   "metadata": {},
   "outputs": [
    {
     "data": {
      "text/plain": [
       "314924"
      ]
     },
     "execution_count": 4,
     "metadata": {},
     "output_type": "execute_result"
    }
   ],
   "source": [
    "title_1 = pd.read_csv(\"title_1.csv\")\n",
    "title_2 = pd.read_csv(\"title_2.csv\")\n",
    "title_3 = pd.read_csv(\"title_3.csv\")\n",
    "title_4 = pd.read_csv(\"title_4.csv\")\n",
    "title_5 = pd.read_csv(\"title_5.csv\")\n",
    "\n",
    "full_title_df = pd.concat([title_1,title_2,title_3,title_4,title_5])\n",
    "\n",
    "len(full_title_df)"
   ]
  },
  {
   "cell_type": "code",
   "execution_count": 5,
   "metadata": {},
   "outputs": [
    {
     "data": {
      "text/html": [
       "<div>\n",
       "<style scoped>\n",
       "    .dataframe tbody tr th:only-of-type {\n",
       "        vertical-align: middle;\n",
       "    }\n",
       "\n",
       "    .dataframe tbody tr th {\n",
       "        vertical-align: top;\n",
       "    }\n",
       "\n",
       "    .dataframe thead th {\n",
       "        text-align: right;\n",
       "    }\n",
       "</style>\n",
       "<table border=\"1\" class=\"dataframe\">\n",
       "  <thead>\n",
       "    <tr style=\"text-align: right;\">\n",
       "      <th></th>\n",
       "      <th>title</th>\n",
       "    </tr>\n",
       "  </thead>\n",
       "  <tbody>\n",
       "    <tr>\n",
       "      <th>0</th>\n",
       "      <td>The Best Economics Blog Going</td>\n",
       "    </tr>\n",
       "    <tr>\n",
       "      <th>1</th>\n",
       "      <td>Meta: Seed The Economics blog with direct link...</td>\n",
       "    </tr>\n",
       "    <tr>\n",
       "      <th>2</th>\n",
       "      <td>Meta: Seed The Economics subreddit with direct...</td>\n",
       "    </tr>\n",
       "    <tr>\n",
       "      <th>3</th>\n",
       "      <td>Calculated Risk</td>\n",
       "    </tr>\n",
       "    <tr>\n",
       "      <th>4</th>\n",
       "      <td>Chris Blattman's Blog</td>\n",
       "    </tr>\n",
       "  </tbody>\n",
       "</table>\n",
       "</div>"
      ],
      "text/plain": [
       "                                               title\n",
       "0                      The Best Economics Blog Going\n",
       "1  Meta: Seed The Economics blog with direct link...\n",
       "2  Meta: Seed The Economics subreddit with direct...\n",
       "3                                    Calculated Risk\n",
       "4                              Chris Blattman's Blog"
      ]
     },
     "execution_count": 5,
     "metadata": {},
     "output_type": "execute_result"
    }
   ],
   "source": [
    "full_title_df.head()"
   ]
  },
  {
   "cell_type": "code",
   "execution_count": 6,
   "metadata": {},
   "outputs": [],
   "source": [
    "full_df = pd.concat([full_date_df.reset_index(), full_title_df.reset_index()], axis=1)"
   ]
  },
  {
   "cell_type": "code",
   "execution_count": 7,
   "metadata": {},
   "outputs": [],
   "source": [
    "full_df_clean = full_df.dropna()"
   ]
  },
  {
   "cell_type": "code",
   "execution_count": 8,
   "metadata": {},
   "outputs": [
    {
     "name": "stdout",
     "output_type": "stream",
     "text": [
      "(263650, 4)\n"
     ]
    }
   ],
   "source": [
    "print(full_df_clean.shape)"
   ]
  },
  {
   "cell_type": "code",
   "execution_count": 9,
   "metadata": {},
   "outputs": [
    {
     "data": {
      "text/html": [
       "<div>\n",
       "<style scoped>\n",
       "    .dataframe tbody tr th:only-of-type {\n",
       "        vertical-align: middle;\n",
       "    }\n",
       "\n",
       "    .dataframe tbody tr th {\n",
       "        vertical-align: top;\n",
       "    }\n",
       "\n",
       "    .dataframe thead th {\n",
       "        text-align: right;\n",
       "    }\n",
       "</style>\n",
       "<table border=\"1\" class=\"dataframe\">\n",
       "  <thead>\n",
       "    <tr style=\"text-align: right;\">\n",
       "      <th></th>\n",
       "      <th>index</th>\n",
       "      <th>created_utc</th>\n",
       "      <th>index</th>\n",
       "      <th>title</th>\n",
       "    </tr>\n",
       "  </thead>\n",
       "  <tbody>\n",
       "    <tr>\n",
       "      <th>0</th>\n",
       "      <td>0.0</td>\n",
       "      <td>1.201237e+09</td>\n",
       "      <td>0</td>\n",
       "      <td>The Best Economics Blog Going</td>\n",
       "    </tr>\n",
       "    <tr>\n",
       "      <th>1</th>\n",
       "      <td>1.0</td>\n",
       "      <td>1.201237e+09</td>\n",
       "      <td>1</td>\n",
       "      <td>Meta: Seed The Economics blog with direct link...</td>\n",
       "    </tr>\n",
       "    <tr>\n",
       "      <th>2</th>\n",
       "      <td>2.0</td>\n",
       "      <td>1.201237e+09</td>\n",
       "      <td>2</td>\n",
       "      <td>Meta: Seed The Economics subreddit with direct...</td>\n",
       "    </tr>\n",
       "    <tr>\n",
       "      <th>3</th>\n",
       "      <td>3.0</td>\n",
       "      <td>1.201237e+09</td>\n",
       "      <td>3</td>\n",
       "      <td>Calculated Risk</td>\n",
       "    </tr>\n",
       "    <tr>\n",
       "      <th>4</th>\n",
       "      <td>4.0</td>\n",
       "      <td>1.201237e+09</td>\n",
       "      <td>4</td>\n",
       "      <td>Chris Blattman's Blog</td>\n",
       "    </tr>\n",
       "  </tbody>\n",
       "</table>\n",
       "</div>"
      ],
      "text/plain": [
       "   index   created_utc  index  \\\n",
       "0    0.0  1.201237e+09      0   \n",
       "1    1.0  1.201237e+09      1   \n",
       "2    2.0  1.201237e+09      2   \n",
       "3    3.0  1.201237e+09      3   \n",
       "4    4.0  1.201237e+09      4   \n",
       "\n",
       "                                               title  \n",
       "0                      The Best Economics Blog Going  \n",
       "1  Meta: Seed The Economics blog with direct link...  \n",
       "2  Meta: Seed The Economics subreddit with direct...  \n",
       "3                                    Calculated Risk  \n",
       "4                              Chris Blattman's Blog  "
      ]
     },
     "execution_count": 9,
     "metadata": {},
     "output_type": "execute_result"
    }
   ],
   "source": [
    "full_df_clean.head()"
   ]
  },
  {
   "cell_type": "code",
   "execution_count": 10,
   "metadata": {},
   "outputs": [],
   "source": [
    "full_df_clean = full_df_clean[['created_utc','title']]"
   ]
  },
  {
   "cell_type": "code",
   "execution_count": 11,
   "metadata": {},
   "outputs": [],
   "source": [
    "import datetime"
   ]
  },
  {
   "cell_type": "code",
   "execution_count": 12,
   "metadata": {},
   "outputs": [
    {
     "data": {
      "text/html": [
       "<div>\n",
       "<style scoped>\n",
       "    .dataframe tbody tr th:only-of-type {\n",
       "        vertical-align: middle;\n",
       "    }\n",
       "\n",
       "    .dataframe tbody tr th {\n",
       "        vertical-align: top;\n",
       "    }\n",
       "\n",
       "    .dataframe thead th {\n",
       "        text-align: right;\n",
       "    }\n",
       "</style>\n",
       "<table border=\"1\" class=\"dataframe\">\n",
       "  <thead>\n",
       "    <tr style=\"text-align: right;\">\n",
       "      <th></th>\n",
       "      <th>created_utc</th>\n",
       "      <th>title</th>\n",
       "      <th>date</th>\n",
       "    </tr>\n",
       "  </thead>\n",
       "  <tbody>\n",
       "    <tr>\n",
       "      <th>0</th>\n",
       "      <td>1.201237e+09</td>\n",
       "      <td>The Best Economics Blog Going</td>\n",
       "      <td>2008-01-25 04:49:08</td>\n",
       "    </tr>\n",
       "    <tr>\n",
       "      <th>1</th>\n",
       "      <td>1.201237e+09</td>\n",
       "      <td>Meta: Seed The Economics blog with direct link...</td>\n",
       "      <td>2008-01-25 04:49:59</td>\n",
       "    </tr>\n",
       "    <tr>\n",
       "      <th>2</th>\n",
       "      <td>1.201237e+09</td>\n",
       "      <td>Meta: Seed The Economics subreddit with direct...</td>\n",
       "      <td>2008-01-25 04:50:26</td>\n",
       "    </tr>\n",
       "    <tr>\n",
       "      <th>3</th>\n",
       "      <td>1.201237e+09</td>\n",
       "      <td>Calculated Risk</td>\n",
       "      <td>2008-01-25 04:51:02</td>\n",
       "    </tr>\n",
       "    <tr>\n",
       "      <th>4</th>\n",
       "      <td>1.201237e+09</td>\n",
       "      <td>Chris Blattman's Blog</td>\n",
       "      <td>2008-01-25 04:51:36</td>\n",
       "    </tr>\n",
       "  </tbody>\n",
       "</table>\n",
       "</div>"
      ],
      "text/plain": [
       "    created_utc                                              title  \\\n",
       "0  1.201237e+09                      The Best Economics Blog Going   \n",
       "1  1.201237e+09  Meta: Seed The Economics blog with direct link...   \n",
       "2  1.201237e+09  Meta: Seed The Economics subreddit with direct...   \n",
       "3  1.201237e+09                                    Calculated Risk   \n",
       "4  1.201237e+09                              Chris Blattman's Blog   \n",
       "\n",
       "                 date  \n",
       "0 2008-01-25 04:49:08  \n",
       "1 2008-01-25 04:49:59  \n",
       "2 2008-01-25 04:50:26  \n",
       "3 2008-01-25 04:51:02  \n",
       "4 2008-01-25 04:51:36  "
      ]
     },
     "execution_count": 12,
     "metadata": {},
     "output_type": "execute_result"
    }
   ],
   "source": [
    "full_df_clean['date'] = pd.to_datetime(full_df_clean['created_utc'], unit = \"s\")\n",
    "full_df_clean.head()"
   ]
  },
  {
   "cell_type": "code",
   "execution_count": 13,
   "metadata": {},
   "outputs": [
    {
     "data": {
      "text/html": [
       "<div>\n",
       "<style scoped>\n",
       "    .dataframe tbody tr th:only-of-type {\n",
       "        vertical-align: middle;\n",
       "    }\n",
       "\n",
       "    .dataframe tbody tr th {\n",
       "        vertical-align: top;\n",
       "    }\n",
       "\n",
       "    .dataframe thead th {\n",
       "        text-align: right;\n",
       "    }\n",
       "</style>\n",
       "<table border=\"1\" class=\"dataframe\">\n",
       "  <thead>\n",
       "    <tr style=\"text-align: right;\">\n",
       "      <th></th>\n",
       "      <th>created_utc</th>\n",
       "      <th>title</th>\n",
       "      <th>date</th>\n",
       "    </tr>\n",
       "  </thead>\n",
       "  <tbody>\n",
       "    <tr>\n",
       "      <th>0</th>\n",
       "      <td>1.201237e+09</td>\n",
       "      <td>The Best Economics Blog Going</td>\n",
       "      <td>2008-01-25</td>\n",
       "    </tr>\n",
       "    <tr>\n",
       "      <th>1</th>\n",
       "      <td>1.201237e+09</td>\n",
       "      <td>Meta: Seed The Economics blog with direct link...</td>\n",
       "      <td>2008-01-25</td>\n",
       "    </tr>\n",
       "    <tr>\n",
       "      <th>2</th>\n",
       "      <td>1.201237e+09</td>\n",
       "      <td>Meta: Seed The Economics subreddit with direct...</td>\n",
       "      <td>2008-01-25</td>\n",
       "    </tr>\n",
       "    <tr>\n",
       "      <th>3</th>\n",
       "      <td>1.201237e+09</td>\n",
       "      <td>Calculated Risk</td>\n",
       "      <td>2008-01-25</td>\n",
       "    </tr>\n",
       "    <tr>\n",
       "      <th>4</th>\n",
       "      <td>1.201237e+09</td>\n",
       "      <td>Chris Blattman's Blog</td>\n",
       "      <td>2008-01-25</td>\n",
       "    </tr>\n",
       "  </tbody>\n",
       "</table>\n",
       "</div>"
      ],
      "text/plain": [
       "    created_utc                                              title        date\n",
       "0  1.201237e+09                      The Best Economics Blog Going  2008-01-25\n",
       "1  1.201237e+09  Meta: Seed The Economics blog with direct link...  2008-01-25\n",
       "2  1.201237e+09  Meta: Seed The Economics subreddit with direct...  2008-01-25\n",
       "3  1.201237e+09                                    Calculated Risk  2008-01-25\n",
       "4  1.201237e+09                              Chris Blattman's Blog  2008-01-25"
      ]
     },
     "execution_count": 13,
     "metadata": {},
     "output_type": "execute_result"
    }
   ],
   "source": [
    "full_df_clean['date'] = full_df_clean['date'].dt.date\n",
    "full_df_clean.head()"
   ]
  },
  {
   "cell_type": "code",
   "execution_count": 14,
   "metadata": {},
   "outputs": [
    {
     "data": {
      "text/html": [
       "<div>\n",
       "<style scoped>\n",
       "    .dataframe tbody tr th:only-of-type {\n",
       "        vertical-align: middle;\n",
       "    }\n",
       "\n",
       "    .dataframe tbody tr th {\n",
       "        vertical-align: top;\n",
       "    }\n",
       "\n",
       "    .dataframe thead th {\n",
       "        text-align: right;\n",
       "    }\n",
       "</style>\n",
       "<table border=\"1\" class=\"dataframe\">\n",
       "  <thead>\n",
       "    <tr style=\"text-align: right;\">\n",
       "      <th></th>\n",
       "      <th>date</th>\n",
       "      <th>title</th>\n",
       "    </tr>\n",
       "  </thead>\n",
       "  <tbody>\n",
       "    <tr>\n",
       "      <th>0</th>\n",
       "      <td>2008-01-25</td>\n",
       "      <td>The Best Economics Blog Going</td>\n",
       "    </tr>\n",
       "    <tr>\n",
       "      <th>1</th>\n",
       "      <td>2008-01-25</td>\n",
       "      <td>Meta: Seed The Economics blog with direct link...</td>\n",
       "    </tr>\n",
       "    <tr>\n",
       "      <th>2</th>\n",
       "      <td>2008-01-25</td>\n",
       "      <td>Meta: Seed The Economics subreddit with direct...</td>\n",
       "    </tr>\n",
       "    <tr>\n",
       "      <th>3</th>\n",
       "      <td>2008-01-25</td>\n",
       "      <td>Calculated Risk</td>\n",
       "    </tr>\n",
       "    <tr>\n",
       "      <th>4</th>\n",
       "      <td>2008-01-25</td>\n",
       "      <td>Chris Blattman's Blog</td>\n",
       "    </tr>\n",
       "  </tbody>\n",
       "</table>\n",
       "</div>"
      ],
      "text/plain": [
       "         date                                              title\n",
       "0  2008-01-25                      The Best Economics Blog Going\n",
       "1  2008-01-25  Meta: Seed The Economics blog with direct link...\n",
       "2  2008-01-25  Meta: Seed The Economics subreddit with direct...\n",
       "3  2008-01-25                                    Calculated Risk\n",
       "4  2008-01-25                              Chris Blattman's Blog"
      ]
     },
     "execution_count": 14,
     "metadata": {},
     "output_type": "execute_result"
    }
   ],
   "source": [
    "full_df_clean = full_df_clean[['date', 'title']]\n",
    "full_df_clean.head()"
   ]
  },
  {
   "cell_type": "code",
   "execution_count": 15,
   "metadata": {},
   "outputs": [],
   "source": [
    "import nltk"
   ]
  },
  {
   "cell_type": "code",
   "execution_count": 20,
   "metadata": {},
   "outputs": [
    {
     "name": "stderr",
     "output_type": "stream",
     "text": [
      "[nltk_data] Downloading package vader_lexicon to\n",
      "[nltk_data]     C:\\Users\\hp\\AppData\\Roaming\\nltk_data...\n"
     ]
    },
    {
     "data": {
      "text/plain": [
       "True"
      ]
     },
     "execution_count": 20,
     "metadata": {},
     "output_type": "execute_result"
    }
   ],
   "source": [
    "nltk.download('vader_lexicon')"
   ]
  },
  {
   "cell_type": "code",
   "execution_count": 21,
   "metadata": {},
   "outputs": [],
   "source": [
    "from nltk.sentiment.vader import SentimentIntensityAnalyzer"
   ]
  },
  {
   "cell_type": "code",
   "execution_count": 22,
   "metadata": {},
   "outputs": [],
   "source": [
    "analyzer = SentimentIntensityAnalyzer()"
   ]
  },
  {
   "cell_type": "code",
   "execution_count": 23,
   "metadata": {},
   "outputs": [],
   "source": [
    "scores = []\n",
    "for i in range(0,len(full_df_clean['title'])):\n",
    "    row_index = i\n",
    "    text_to_analyse = full_df_clean.loc[row_index,'title']\n",
    "    sentiment_scores = analyzer.polarity_scores(text_to_analyse)\n",
    "    compound_score = sentiment_scores['compound']\n",
    "    scores.append(compound_score)"
   ]
  },
  {
   "cell_type": "code",
   "execution_count": 24,
   "metadata": {},
   "outputs": [
    {
     "data": {
      "text/plain": [
       "263650"
      ]
     },
     "execution_count": 24,
     "metadata": {},
     "output_type": "execute_result"
    }
   ],
   "source": [
    "len(scores)"
   ]
  },
  {
   "cell_type": "code",
   "execution_count": 25,
   "metadata": {},
   "outputs": [
    {
     "data": {
      "text/html": [
       "<div>\n",
       "<style scoped>\n",
       "    .dataframe tbody tr th:only-of-type {\n",
       "        vertical-align: middle;\n",
       "    }\n",
       "\n",
       "    .dataframe tbody tr th {\n",
       "        vertical-align: top;\n",
       "    }\n",
       "\n",
       "    .dataframe thead th {\n",
       "        text-align: right;\n",
       "    }\n",
       "</style>\n",
       "<table border=\"1\" class=\"dataframe\">\n",
       "  <thead>\n",
       "    <tr style=\"text-align: right;\">\n",
       "      <th></th>\n",
       "      <th>date</th>\n",
       "      <th>title</th>\n",
       "      <th>scores</th>\n",
       "    </tr>\n",
       "  </thead>\n",
       "  <tbody>\n",
       "    <tr>\n",
       "      <th>0</th>\n",
       "      <td>2008-01-25</td>\n",
       "      <td>The Best Economics Blog Going</td>\n",
       "      <td>0.6369</td>\n",
       "    </tr>\n",
       "    <tr>\n",
       "      <th>1</th>\n",
       "      <td>2008-01-25</td>\n",
       "      <td>Meta: Seed The Economics blog with direct link...</td>\n",
       "      <td>0.4588</td>\n",
       "    </tr>\n",
       "    <tr>\n",
       "      <th>2</th>\n",
       "      <td>2008-01-25</td>\n",
       "      <td>Meta: Seed The Economics subreddit with direct...</td>\n",
       "      <td>0.4588</td>\n",
       "    </tr>\n",
       "    <tr>\n",
       "      <th>3</th>\n",
       "      <td>2008-01-25</td>\n",
       "      <td>Calculated Risk</td>\n",
       "      <td>-0.2732</td>\n",
       "    </tr>\n",
       "    <tr>\n",
       "      <th>4</th>\n",
       "      <td>2008-01-25</td>\n",
       "      <td>Chris Blattman's Blog</td>\n",
       "      <td>0.0000</td>\n",
       "    </tr>\n",
       "  </tbody>\n",
       "</table>\n",
       "</div>"
      ],
      "text/plain": [
       "         date                                              title  scores\n",
       "0  2008-01-25                      The Best Economics Blog Going  0.6369\n",
       "1  2008-01-25  Meta: Seed The Economics blog with direct link...  0.4588\n",
       "2  2008-01-25  Meta: Seed The Economics subreddit with direct...  0.4588\n",
       "3  2008-01-25                                    Calculated Risk -0.2732\n",
       "4  2008-01-25                              Chris Blattman's Blog  0.0000"
      ]
     },
     "execution_count": 25,
     "metadata": {},
     "output_type": "execute_result"
    }
   ],
   "source": [
    "full_df_clean['scores'] = scores\n",
    "full_df_clean.head()"
   ]
  },
  {
   "cell_type": "code",
   "execution_count": 26,
   "metadata": {},
   "outputs": [
    {
     "name": "stdout",
     "output_type": "stream",
     "text": [
      "<class 'pandas.core.frame.DataFrame'>\n",
      "Int64Index: 263650 entries, 0 to 263649\n",
      "Data columns (total 3 columns):\n",
      " #   Column  Non-Null Count   Dtype  \n",
      "---  ------  --------------   -----  \n",
      " 0   date    263650 non-null  object \n",
      " 1   title   263650 non-null  object \n",
      " 2   scores  263650 non-null  float64\n",
      "dtypes: float64(1), object(2)\n",
      "memory usage: 18.0+ MB\n"
     ]
    }
   ],
   "source": [
    "full_df_clean.info()"
   ]
  },
  {
   "cell_type": "code",
   "execution_count": 27,
   "metadata": {},
   "outputs": [],
   "source": [
    "full_df_clean['date'] = pd.to_datetime(full_df_clean['date'])"
   ]
  },
  {
   "cell_type": "code",
   "execution_count": 28,
   "metadata": {},
   "outputs": [
    {
     "name": "stdout",
     "output_type": "stream",
     "text": [
      "<class 'pandas.core.frame.DataFrame'>\n",
      "Int64Index: 263650 entries, 0 to 263649\n",
      "Data columns (total 3 columns):\n",
      " #   Column  Non-Null Count   Dtype         \n",
      "---  ------  --------------   -----         \n",
      " 0   date    263650 non-null  datetime64[ns]\n",
      " 1   title   263650 non-null  object        \n",
      " 2   scores  263650 non-null  float64       \n",
      "dtypes: datetime64[ns](1), float64(1), object(1)\n",
      "memory usage: 18.0+ MB\n"
     ]
    }
   ],
   "source": [
    "full_df_clean.info()"
   ]
  },
  {
   "cell_type": "code",
   "execution_count": 29,
   "metadata": {},
   "outputs": [
    {
     "data": {
      "text/html": [
       "<div>\n",
       "<style scoped>\n",
       "    .dataframe tbody tr th:only-of-type {\n",
       "        vertical-align: middle;\n",
       "    }\n",
       "\n",
       "    .dataframe tbody tr th {\n",
       "        vertical-align: top;\n",
       "    }\n",
       "\n",
       "    .dataframe thead th {\n",
       "        text-align: right;\n",
       "    }\n",
       "</style>\n",
       "<table border=\"1\" class=\"dataframe\">\n",
       "  <thead>\n",
       "    <tr style=\"text-align: right;\">\n",
       "      <th></th>\n",
       "      <th>date</th>\n",
       "      <th>title</th>\n",
       "      <th>scores</th>\n",
       "    </tr>\n",
       "  </thead>\n",
       "  <tbody>\n",
       "    <tr>\n",
       "      <th>0</th>\n",
       "      <td>2008-01-25</td>\n",
       "      <td>The Best Economics Blog Going</td>\n",
       "      <td>0.6369</td>\n",
       "    </tr>\n",
       "    <tr>\n",
       "      <th>1</th>\n",
       "      <td>2008-01-25</td>\n",
       "      <td>Meta: Seed The Economics blog with direct link...</td>\n",
       "      <td>0.4588</td>\n",
       "    </tr>\n",
       "    <tr>\n",
       "      <th>2</th>\n",
       "      <td>2008-01-25</td>\n",
       "      <td>Meta: Seed The Economics subreddit with direct...</td>\n",
       "      <td>0.4588</td>\n",
       "    </tr>\n",
       "    <tr>\n",
       "      <th>3</th>\n",
       "      <td>2008-01-25</td>\n",
       "      <td>Calculated Risk</td>\n",
       "      <td>-0.2732</td>\n",
       "    </tr>\n",
       "    <tr>\n",
       "      <th>4</th>\n",
       "      <td>2008-01-25</td>\n",
       "      <td>Chris Blattman's Blog</td>\n",
       "      <td>0.0000</td>\n",
       "    </tr>\n",
       "  </tbody>\n",
       "</table>\n",
       "</div>"
      ],
      "text/plain": [
       "        date                                              title  scores\n",
       "0 2008-01-25                      The Best Economics Blog Going  0.6369\n",
       "1 2008-01-25  Meta: Seed The Economics blog with direct link...  0.4588\n",
       "2 2008-01-25  Meta: Seed The Economics subreddit with direct...  0.4588\n",
       "3 2008-01-25                                    Calculated Risk -0.2732\n",
       "4 2008-01-25                              Chris Blattman's Blog  0.0000"
      ]
     },
     "execution_count": 29,
     "metadata": {},
     "output_type": "execute_result"
    }
   ],
   "source": [
    "full_df_clean.head()"
   ]
  },
  {
   "cell_type": "code",
   "execution_count": 30,
   "metadata": {},
   "outputs": [],
   "source": [
    "sentiment_df = full_df_clean.groupby('date')['scores'].mean().reset_index()"
   ]
  },
  {
   "cell_type": "code",
   "execution_count": 31,
   "metadata": {},
   "outputs": [
    {
     "data": {
      "text/html": [
       "<div>\n",
       "<style scoped>\n",
       "    .dataframe tbody tr th:only-of-type {\n",
       "        vertical-align: middle;\n",
       "    }\n",
       "\n",
       "    .dataframe tbody tr th {\n",
       "        vertical-align: top;\n",
       "    }\n",
       "\n",
       "    .dataframe thead th {\n",
       "        text-align: right;\n",
       "    }\n",
       "</style>\n",
       "<table border=\"1\" class=\"dataframe\">\n",
       "  <thead>\n",
       "    <tr style=\"text-align: right;\">\n",
       "      <th></th>\n",
       "      <th>date</th>\n",
       "      <th>scores</th>\n",
       "    </tr>\n",
       "  </thead>\n",
       "  <tbody>\n",
       "    <tr>\n",
       "      <th>0</th>\n",
       "      <td>2008-01-25</td>\n",
       "      <td>0.084243</td>\n",
       "    </tr>\n",
       "    <tr>\n",
       "      <th>1</th>\n",
       "      <td>2008-01-26</td>\n",
       "      <td>0.003900</td>\n",
       "    </tr>\n",
       "    <tr>\n",
       "      <th>2</th>\n",
       "      <td>2008-01-27</td>\n",
       "      <td>0.075342</td>\n",
       "    </tr>\n",
       "    <tr>\n",
       "      <th>3</th>\n",
       "      <td>2008-01-28</td>\n",
       "      <td>-0.027604</td>\n",
       "    </tr>\n",
       "    <tr>\n",
       "      <th>4</th>\n",
       "      <td>2008-01-29</td>\n",
       "      <td>0.030093</td>\n",
       "    </tr>\n",
       "  </tbody>\n",
       "</table>\n",
       "</div>"
      ],
      "text/plain": [
       "        date    scores\n",
       "0 2008-01-25  0.084243\n",
       "1 2008-01-26  0.003900\n",
       "2 2008-01-27  0.075342\n",
       "3 2008-01-28 -0.027604\n",
       "4 2008-01-29  0.030093"
      ]
     },
     "execution_count": 31,
     "metadata": {},
     "output_type": "execute_result"
    }
   ],
   "source": [
    "sentiment_df.head()"
   ]
  },
  {
   "cell_type": "code",
   "execution_count": 32,
   "metadata": {},
   "outputs": [
    {
     "data": {
      "text/html": [
       "<div>\n",
       "<style scoped>\n",
       "    .dataframe tbody tr th:only-of-type {\n",
       "        vertical-align: middle;\n",
       "    }\n",
       "\n",
       "    .dataframe tbody tr th {\n",
       "        vertical-align: top;\n",
       "    }\n",
       "\n",
       "    .dataframe thead th {\n",
       "        text-align: right;\n",
       "    }\n",
       "</style>\n",
       "<table border=\"1\" class=\"dataframe\">\n",
       "  <thead>\n",
       "    <tr style=\"text-align: right;\">\n",
       "      <th></th>\n",
       "      <th>date</th>\n",
       "      <th>scores</th>\n",
       "    </tr>\n",
       "  </thead>\n",
       "  <tbody>\n",
       "    <tr>\n",
       "      <th>4751</th>\n",
       "      <td>2022-12-27</td>\n",
       "      <td>0.083791</td>\n",
       "    </tr>\n",
       "    <tr>\n",
       "      <th>4752</th>\n",
       "      <td>2022-12-28</td>\n",
       "      <td>-0.019761</td>\n",
       "    </tr>\n",
       "    <tr>\n",
       "      <th>4753</th>\n",
       "      <td>2022-12-29</td>\n",
       "      <td>0.011074</td>\n",
       "    </tr>\n",
       "    <tr>\n",
       "      <th>4754</th>\n",
       "      <td>2022-12-30</td>\n",
       "      <td>0.020986</td>\n",
       "    </tr>\n",
       "    <tr>\n",
       "      <th>4755</th>\n",
       "      <td>2022-12-31</td>\n",
       "      <td>-0.193041</td>\n",
       "    </tr>\n",
       "  </tbody>\n",
       "</table>\n",
       "</div>"
      ],
      "text/plain": [
       "           date    scores\n",
       "4751 2022-12-27  0.083791\n",
       "4752 2022-12-28 -0.019761\n",
       "4753 2022-12-29  0.011074\n",
       "4754 2022-12-30  0.020986\n",
       "4755 2022-12-31 -0.193041"
      ]
     },
     "execution_count": 32,
     "metadata": {},
     "output_type": "execute_result"
    }
   ],
   "source": [
    "sentiment_df.tail()"
   ]
  },
  {
   "cell_type": "code",
   "execution_count": 33,
   "metadata": {},
   "outputs": [],
   "source": [
    "for i in range(0,len(sentiment_df['scores'])):\n",
    "    if sentiment_df.loc[i,'scores'] >= 0.05:\n",
    "        sentiment_df.loc[i,'sentiment'] = 'Positive'\n",
    "    elif sentiment_df.loc[i,'scores'] <= -0.05:\n",
    "        sentiment_df.loc[i,'sentiment'] = 'Negative'\n",
    "    else:\n",
    "        sentiment_df.loc[i,'sentiment'] = 'Neutral'"
   ]
  },
  {
   "cell_type": "code",
   "execution_count": 34,
   "metadata": {},
   "outputs": [
    {
     "data": {
      "text/html": [
       "<div>\n",
       "<style scoped>\n",
       "    .dataframe tbody tr th:only-of-type {\n",
       "        vertical-align: middle;\n",
       "    }\n",
       "\n",
       "    .dataframe tbody tr th {\n",
       "        vertical-align: top;\n",
       "    }\n",
       "\n",
       "    .dataframe thead th {\n",
       "        text-align: right;\n",
       "    }\n",
       "</style>\n",
       "<table border=\"1\" class=\"dataframe\">\n",
       "  <thead>\n",
       "    <tr style=\"text-align: right;\">\n",
       "      <th></th>\n",
       "      <th>date</th>\n",
       "      <th>scores</th>\n",
       "      <th>sentiment</th>\n",
       "    </tr>\n",
       "  </thead>\n",
       "  <tbody>\n",
       "    <tr>\n",
       "      <th>0</th>\n",
       "      <td>2008-01-25</td>\n",
       "      <td>0.084243</td>\n",
       "      <td>Positive</td>\n",
       "    </tr>\n",
       "    <tr>\n",
       "      <th>1</th>\n",
       "      <td>2008-01-26</td>\n",
       "      <td>0.003900</td>\n",
       "      <td>Neutral</td>\n",
       "    </tr>\n",
       "    <tr>\n",
       "      <th>2</th>\n",
       "      <td>2008-01-27</td>\n",
       "      <td>0.075342</td>\n",
       "      <td>Positive</td>\n",
       "    </tr>\n",
       "    <tr>\n",
       "      <th>3</th>\n",
       "      <td>2008-01-28</td>\n",
       "      <td>-0.027604</td>\n",
       "      <td>Neutral</td>\n",
       "    </tr>\n",
       "    <tr>\n",
       "      <th>4</th>\n",
       "      <td>2008-01-29</td>\n",
       "      <td>0.030093</td>\n",
       "      <td>Neutral</td>\n",
       "    </tr>\n",
       "  </tbody>\n",
       "</table>\n",
       "</div>"
      ],
      "text/plain": [
       "        date    scores sentiment\n",
       "0 2008-01-25  0.084243  Positive\n",
       "1 2008-01-26  0.003900   Neutral\n",
       "2 2008-01-27  0.075342  Positive\n",
       "3 2008-01-28 -0.027604   Neutral\n",
       "4 2008-01-29  0.030093   Neutral"
      ]
     },
     "execution_count": 34,
     "metadata": {},
     "output_type": "execute_result"
    }
   ],
   "source": [
    "sentiment_df.head()"
   ]
  },
  {
   "cell_type": "code",
   "execution_count": 35,
   "metadata": {},
   "outputs": [
    {
     "data": {
      "text/html": [
       "<div>\n",
       "<style scoped>\n",
       "    .dataframe tbody tr th:only-of-type {\n",
       "        vertical-align: middle;\n",
       "    }\n",
       "\n",
       "    .dataframe tbody tr th {\n",
       "        vertical-align: top;\n",
       "    }\n",
       "\n",
       "    .dataframe thead th {\n",
       "        text-align: right;\n",
       "    }\n",
       "</style>\n",
       "<table border=\"1\" class=\"dataframe\">\n",
       "  <thead>\n",
       "    <tr style=\"text-align: right;\">\n",
       "      <th></th>\n",
       "      <th>Dates</th>\n",
       "      <th>PX_LAST</th>\n",
       "    </tr>\n",
       "  </thead>\n",
       "  <tbody>\n",
       "    <tr>\n",
       "      <th>0</th>\n",
       "      <td>2008-01-25</td>\n",
       "      <td>1330.61</td>\n",
       "    </tr>\n",
       "    <tr>\n",
       "      <th>1</th>\n",
       "      <td>2008-01-28</td>\n",
       "      <td>1353.97</td>\n",
       "    </tr>\n",
       "    <tr>\n",
       "      <th>2</th>\n",
       "      <td>2008-01-29</td>\n",
       "      <td>1362.30</td>\n",
       "    </tr>\n",
       "    <tr>\n",
       "      <th>3</th>\n",
       "      <td>2008-01-30</td>\n",
       "      <td>1355.81</td>\n",
       "    </tr>\n",
       "    <tr>\n",
       "      <th>4</th>\n",
       "      <td>2008-01-31</td>\n",
       "      <td>1378.55</td>\n",
       "    </tr>\n",
       "  </tbody>\n",
       "</table>\n",
       "</div>"
      ],
      "text/plain": [
       "       Dates  PX_LAST\n",
       "0 2008-01-25  1330.61\n",
       "1 2008-01-28  1353.97\n",
       "2 2008-01-29  1362.30\n",
       "3 2008-01-30  1355.81\n",
       "4 2008-01-31  1378.55"
      ]
     },
     "execution_count": 35,
     "metadata": {},
     "output_type": "execute_result"
    }
   ],
   "source": [
    "sp_500 = pd.read_excel(\"SP_500_prices.xlsx\")\n",
    "sp_500.head()"
   ]
  },
  {
   "cell_type": "code",
   "execution_count": 36,
   "metadata": {},
   "outputs": [
    {
     "data": {
      "text/html": [
       "<div>\n",
       "<style scoped>\n",
       "    .dataframe tbody tr th:only-of-type {\n",
       "        vertical-align: middle;\n",
       "    }\n",
       "\n",
       "    .dataframe tbody tr th {\n",
       "        vertical-align: top;\n",
       "    }\n",
       "\n",
       "    .dataframe thead th {\n",
       "        text-align: right;\n",
       "    }\n",
       "</style>\n",
       "<table border=\"1\" class=\"dataframe\">\n",
       "  <thead>\n",
       "    <tr style=\"text-align: right;\">\n",
       "      <th></th>\n",
       "      <th>Dates</th>\n",
       "      <th>PX_LAST</th>\n",
       "      <th>date</th>\n",
       "      <th>scores</th>\n",
       "      <th>sentiment</th>\n",
       "    </tr>\n",
       "  </thead>\n",
       "  <tbody>\n",
       "    <tr>\n",
       "      <th>0</th>\n",
       "      <td>2008-01-25</td>\n",
       "      <td>1330.61</td>\n",
       "      <td>2008-01-25</td>\n",
       "      <td>0.084243</td>\n",
       "      <td>Positive</td>\n",
       "    </tr>\n",
       "    <tr>\n",
       "      <th>1</th>\n",
       "      <td>2008-01-28</td>\n",
       "      <td>1353.97</td>\n",
       "      <td>2008-01-28</td>\n",
       "      <td>-0.027604</td>\n",
       "      <td>Neutral</td>\n",
       "    </tr>\n",
       "    <tr>\n",
       "      <th>2</th>\n",
       "      <td>2008-01-29</td>\n",
       "      <td>1362.30</td>\n",
       "      <td>2008-01-29</td>\n",
       "      <td>0.030093</td>\n",
       "      <td>Neutral</td>\n",
       "    </tr>\n",
       "    <tr>\n",
       "      <th>3</th>\n",
       "      <td>2008-01-30</td>\n",
       "      <td>1355.81</td>\n",
       "      <td>2008-01-30</td>\n",
       "      <td>-0.115100</td>\n",
       "      <td>Negative</td>\n",
       "    </tr>\n",
       "    <tr>\n",
       "      <th>4</th>\n",
       "      <td>2008-01-31</td>\n",
       "      <td>1378.55</td>\n",
       "      <td>2008-01-31</td>\n",
       "      <td>-0.014772</td>\n",
       "      <td>Neutral</td>\n",
       "    </tr>\n",
       "  </tbody>\n",
       "</table>\n",
       "</div>"
      ],
      "text/plain": [
       "       Dates  PX_LAST       date    scores sentiment\n",
       "0 2008-01-25  1330.61 2008-01-25  0.084243  Positive\n",
       "1 2008-01-28  1353.97 2008-01-28 -0.027604   Neutral\n",
       "2 2008-01-29  1362.30 2008-01-29  0.030093   Neutral\n",
       "3 2008-01-30  1355.81 2008-01-30 -0.115100  Negative\n",
       "4 2008-01-31  1378.55 2008-01-31 -0.014772   Neutral"
      ]
     },
     "execution_count": 36,
     "metadata": {},
     "output_type": "execute_result"
    }
   ],
   "source": [
    "sp_sentiment = pd.merge(sp_500, sentiment_df, left_on = \"Dates\", right_on = \"date\", how = \"left\")\n",
    "sp_sentiment.head()"
   ]
  },
  {
   "cell_type": "code",
   "execution_count": 37,
   "metadata": {},
   "outputs": [],
   "source": [
    "for i in range(0,len(sp_sentiment.scores) - 1):\n",
    "    if sp_sentiment.loc[i+1,'PX_LAST'] > sp_sentiment.loc[i,'PX_LAST']:\n",
    "        sp_sentiment.loc[i+1,'Direction'] = 'Up'\n",
    "    else:\n",
    "        sp_sentiment.loc[i+1,'Direction'] = 'Down'"
   ]
  },
  {
   "cell_type": "code",
   "execution_count": 38,
   "metadata": {},
   "outputs": [
    {
     "data": {
      "text/html": [
       "<div>\n",
       "<style scoped>\n",
       "    .dataframe tbody tr th:only-of-type {\n",
       "        vertical-align: middle;\n",
       "    }\n",
       "\n",
       "    .dataframe tbody tr th {\n",
       "        vertical-align: top;\n",
       "    }\n",
       "\n",
       "    .dataframe thead th {\n",
       "        text-align: right;\n",
       "    }\n",
       "</style>\n",
       "<table border=\"1\" class=\"dataframe\">\n",
       "  <thead>\n",
       "    <tr style=\"text-align: right;\">\n",
       "      <th></th>\n",
       "      <th>Dates</th>\n",
       "      <th>PX_LAST</th>\n",
       "      <th>date</th>\n",
       "      <th>scores</th>\n",
       "      <th>sentiment</th>\n",
       "      <th>Direction</th>\n",
       "    </tr>\n",
       "  </thead>\n",
       "  <tbody>\n",
       "    <tr>\n",
       "      <th>0</th>\n",
       "      <td>2008-01-25</td>\n",
       "      <td>1330.61</td>\n",
       "      <td>2008-01-25</td>\n",
       "      <td>0.084243</td>\n",
       "      <td>Positive</td>\n",
       "      <td>NaN</td>\n",
       "    </tr>\n",
       "    <tr>\n",
       "      <th>1</th>\n",
       "      <td>2008-01-28</td>\n",
       "      <td>1353.97</td>\n",
       "      <td>2008-01-28</td>\n",
       "      <td>-0.027604</td>\n",
       "      <td>Neutral</td>\n",
       "      <td>Up</td>\n",
       "    </tr>\n",
       "    <tr>\n",
       "      <th>2</th>\n",
       "      <td>2008-01-29</td>\n",
       "      <td>1362.30</td>\n",
       "      <td>2008-01-29</td>\n",
       "      <td>0.030093</td>\n",
       "      <td>Neutral</td>\n",
       "      <td>Up</td>\n",
       "    </tr>\n",
       "    <tr>\n",
       "      <th>3</th>\n",
       "      <td>2008-01-30</td>\n",
       "      <td>1355.81</td>\n",
       "      <td>2008-01-30</td>\n",
       "      <td>-0.115100</td>\n",
       "      <td>Negative</td>\n",
       "      <td>Down</td>\n",
       "    </tr>\n",
       "    <tr>\n",
       "      <th>4</th>\n",
       "      <td>2008-01-31</td>\n",
       "      <td>1378.55</td>\n",
       "      <td>2008-01-31</td>\n",
       "      <td>-0.014772</td>\n",
       "      <td>Neutral</td>\n",
       "      <td>Up</td>\n",
       "    </tr>\n",
       "  </tbody>\n",
       "</table>\n",
       "</div>"
      ],
      "text/plain": [
       "       Dates  PX_LAST       date    scores sentiment Direction\n",
       "0 2008-01-25  1330.61 2008-01-25  0.084243  Positive       NaN\n",
       "1 2008-01-28  1353.97 2008-01-28 -0.027604   Neutral        Up\n",
       "2 2008-01-29  1362.30 2008-01-29  0.030093   Neutral        Up\n",
       "3 2008-01-30  1355.81 2008-01-30 -0.115100  Negative      Down\n",
       "4 2008-01-31  1378.55 2008-01-31 -0.014772   Neutral        Up"
      ]
     },
     "execution_count": 38,
     "metadata": {},
     "output_type": "execute_result"
    }
   ],
   "source": [
    "sp_sentiment.head()"
   ]
  },
  {
   "cell_type": "code",
   "execution_count": 39,
   "metadata": {},
   "outputs": [
    {
     "data": {
      "text/html": [
       "<div>\n",
       "<style scoped>\n",
       "    .dataframe tbody tr th:only-of-type {\n",
       "        vertical-align: middle;\n",
       "    }\n",
       "\n",
       "    .dataframe tbody tr th {\n",
       "        vertical-align: top;\n",
       "    }\n",
       "\n",
       "    .dataframe thead th {\n",
       "        text-align: right;\n",
       "    }\n",
       "</style>\n",
       "<table border=\"1\" class=\"dataframe\">\n",
       "  <thead>\n",
       "    <tr style=\"text-align: right;\">\n",
       "      <th></th>\n",
       "      <th>Dates</th>\n",
       "      <th>PX_LAST</th>\n",
       "      <th>date</th>\n",
       "      <th>scores</th>\n",
       "      <th>sentiment</th>\n",
       "      <th>Direction</th>\n",
       "    </tr>\n",
       "  </thead>\n",
       "  <tbody>\n",
       "    <tr>\n",
       "      <th>3756</th>\n",
       "      <td>2022-12-23</td>\n",
       "      <td>3844.82</td>\n",
       "      <td>2022-12-23</td>\n",
       "      <td>-0.131208</td>\n",
       "      <td>Negative</td>\n",
       "      <td>Up</td>\n",
       "    </tr>\n",
       "    <tr>\n",
       "      <th>3757</th>\n",
       "      <td>2022-12-27</td>\n",
       "      <td>3829.25</td>\n",
       "      <td>2022-12-27</td>\n",
       "      <td>0.083791</td>\n",
       "      <td>Positive</td>\n",
       "      <td>Down</td>\n",
       "    </tr>\n",
       "    <tr>\n",
       "      <th>3758</th>\n",
       "      <td>2022-12-28</td>\n",
       "      <td>3783.22</td>\n",
       "      <td>2022-12-28</td>\n",
       "      <td>-0.019761</td>\n",
       "      <td>Neutral</td>\n",
       "      <td>Down</td>\n",
       "    </tr>\n",
       "    <tr>\n",
       "      <th>3759</th>\n",
       "      <td>2022-12-29</td>\n",
       "      <td>3849.28</td>\n",
       "      <td>2022-12-29</td>\n",
       "      <td>0.011074</td>\n",
       "      <td>Neutral</td>\n",
       "      <td>Up</td>\n",
       "    </tr>\n",
       "    <tr>\n",
       "      <th>3760</th>\n",
       "      <td>2022-12-30</td>\n",
       "      <td>3839.50</td>\n",
       "      <td>2022-12-30</td>\n",
       "      <td>0.020986</td>\n",
       "      <td>Neutral</td>\n",
       "      <td>Down</td>\n",
       "    </tr>\n",
       "  </tbody>\n",
       "</table>\n",
       "</div>"
      ],
      "text/plain": [
       "          Dates  PX_LAST       date    scores sentiment Direction\n",
       "3756 2022-12-23  3844.82 2022-12-23 -0.131208  Negative        Up\n",
       "3757 2022-12-27  3829.25 2022-12-27  0.083791  Positive      Down\n",
       "3758 2022-12-28  3783.22 2022-12-28 -0.019761   Neutral      Down\n",
       "3759 2022-12-29  3849.28 2022-12-29  0.011074   Neutral        Up\n",
       "3760 2022-12-30  3839.50 2022-12-30  0.020986   Neutral      Down"
      ]
     },
     "execution_count": 39,
     "metadata": {},
     "output_type": "execute_result"
    }
   ],
   "source": [
    "sp_sentiment.tail()"
   ]
  },
  {
   "cell_type": "code",
   "execution_count": 40,
   "metadata": {},
   "outputs": [],
   "source": [
    "sp_sentiment['sentiment_lead'] = sp_sentiment['sentiment'].shift(periods=1, fill_value=None)"
   ]
  },
  {
   "cell_type": "code",
   "execution_count": 41,
   "metadata": {},
   "outputs": [
    {
     "data": {
      "text/html": [
       "<div>\n",
       "<style scoped>\n",
       "    .dataframe tbody tr th:only-of-type {\n",
       "        vertical-align: middle;\n",
       "    }\n",
       "\n",
       "    .dataframe tbody tr th {\n",
       "        vertical-align: top;\n",
       "    }\n",
       "\n",
       "    .dataframe thead th {\n",
       "        text-align: right;\n",
       "    }\n",
       "</style>\n",
       "<table border=\"1\" class=\"dataframe\">\n",
       "  <thead>\n",
       "    <tr style=\"text-align: right;\">\n",
       "      <th></th>\n",
       "      <th>Dates</th>\n",
       "      <th>PX_LAST</th>\n",
       "      <th>date</th>\n",
       "      <th>scores</th>\n",
       "      <th>sentiment</th>\n",
       "      <th>Direction</th>\n",
       "      <th>sentiment_lead</th>\n",
       "    </tr>\n",
       "  </thead>\n",
       "  <tbody>\n",
       "    <tr>\n",
       "      <th>0</th>\n",
       "      <td>2008-01-25</td>\n",
       "      <td>1330.61</td>\n",
       "      <td>2008-01-25</td>\n",
       "      <td>0.084243</td>\n",
       "      <td>Positive</td>\n",
       "      <td>NaN</td>\n",
       "      <td>NaN</td>\n",
       "    </tr>\n",
       "    <tr>\n",
       "      <th>1</th>\n",
       "      <td>2008-01-28</td>\n",
       "      <td>1353.97</td>\n",
       "      <td>2008-01-28</td>\n",
       "      <td>-0.027604</td>\n",
       "      <td>Neutral</td>\n",
       "      <td>Up</td>\n",
       "      <td>Positive</td>\n",
       "    </tr>\n",
       "    <tr>\n",
       "      <th>2</th>\n",
       "      <td>2008-01-29</td>\n",
       "      <td>1362.30</td>\n",
       "      <td>2008-01-29</td>\n",
       "      <td>0.030093</td>\n",
       "      <td>Neutral</td>\n",
       "      <td>Up</td>\n",
       "      <td>Neutral</td>\n",
       "    </tr>\n",
       "    <tr>\n",
       "      <th>3</th>\n",
       "      <td>2008-01-30</td>\n",
       "      <td>1355.81</td>\n",
       "      <td>2008-01-30</td>\n",
       "      <td>-0.115100</td>\n",
       "      <td>Negative</td>\n",
       "      <td>Down</td>\n",
       "      <td>Neutral</td>\n",
       "    </tr>\n",
       "    <tr>\n",
       "      <th>4</th>\n",
       "      <td>2008-01-31</td>\n",
       "      <td>1378.55</td>\n",
       "      <td>2008-01-31</td>\n",
       "      <td>-0.014772</td>\n",
       "      <td>Neutral</td>\n",
       "      <td>Up</td>\n",
       "      <td>Negative</td>\n",
       "    </tr>\n",
       "  </tbody>\n",
       "</table>\n",
       "</div>"
      ],
      "text/plain": [
       "       Dates  PX_LAST       date    scores sentiment Direction sentiment_lead\n",
       "0 2008-01-25  1330.61 2008-01-25  0.084243  Positive       NaN            NaN\n",
       "1 2008-01-28  1353.97 2008-01-28 -0.027604   Neutral        Up       Positive\n",
       "2 2008-01-29  1362.30 2008-01-29  0.030093   Neutral        Up        Neutral\n",
       "3 2008-01-30  1355.81 2008-01-30 -0.115100  Negative      Down        Neutral\n",
       "4 2008-01-31  1378.55 2008-01-31 -0.014772   Neutral        Up       Negative"
      ]
     },
     "execution_count": 41,
     "metadata": {},
     "output_type": "execute_result"
    }
   ],
   "source": [
    "sp_sentiment.head()"
   ]
  },
  {
   "cell_type": "code",
   "execution_count": 42,
   "metadata": {},
   "outputs": [
    {
     "data": {
      "text/html": [
       "<div>\n",
       "<style scoped>\n",
       "    .dataframe tbody tr th:only-of-type {\n",
       "        vertical-align: middle;\n",
       "    }\n",
       "\n",
       "    .dataframe tbody tr th {\n",
       "        vertical-align: top;\n",
       "    }\n",
       "\n",
       "    .dataframe thead th {\n",
       "        text-align: right;\n",
       "    }\n",
       "</style>\n",
       "<table border=\"1\" class=\"dataframe\">\n",
       "  <thead>\n",
       "    <tr style=\"text-align: right;\">\n",
       "      <th></th>\n",
       "      <th>Dates</th>\n",
       "      <th>PX_LAST</th>\n",
       "      <th>date</th>\n",
       "      <th>scores</th>\n",
       "      <th>sentiment</th>\n",
       "      <th>Direction</th>\n",
       "      <th>sentiment_lead</th>\n",
       "    </tr>\n",
       "  </thead>\n",
       "  <tbody>\n",
       "    <tr>\n",
       "      <th>1</th>\n",
       "      <td>2008-01-28</td>\n",
       "      <td>1353.97</td>\n",
       "      <td>2008-01-28</td>\n",
       "      <td>-0.027604</td>\n",
       "      <td>Neutral</td>\n",
       "      <td>Up</td>\n",
       "      <td>Positive</td>\n",
       "    </tr>\n",
       "    <tr>\n",
       "      <th>2</th>\n",
       "      <td>2008-01-29</td>\n",
       "      <td>1362.30</td>\n",
       "      <td>2008-01-29</td>\n",
       "      <td>0.030093</td>\n",
       "      <td>Neutral</td>\n",
       "      <td>Up</td>\n",
       "      <td>Neutral</td>\n",
       "    </tr>\n",
       "    <tr>\n",
       "      <th>3</th>\n",
       "      <td>2008-01-30</td>\n",
       "      <td>1355.81</td>\n",
       "      <td>2008-01-30</td>\n",
       "      <td>-0.115100</td>\n",
       "      <td>Negative</td>\n",
       "      <td>Down</td>\n",
       "      <td>Neutral</td>\n",
       "    </tr>\n",
       "    <tr>\n",
       "      <th>4</th>\n",
       "      <td>2008-01-31</td>\n",
       "      <td>1378.55</td>\n",
       "      <td>2008-01-31</td>\n",
       "      <td>-0.014772</td>\n",
       "      <td>Neutral</td>\n",
       "      <td>Up</td>\n",
       "      <td>Negative</td>\n",
       "    </tr>\n",
       "    <tr>\n",
       "      <th>5</th>\n",
       "      <td>2008-02-01</td>\n",
       "      <td>1395.42</td>\n",
       "      <td>2008-02-01</td>\n",
       "      <td>-0.237369</td>\n",
       "      <td>Negative</td>\n",
       "      <td>Up</td>\n",
       "      <td>Neutral</td>\n",
       "    </tr>\n",
       "  </tbody>\n",
       "</table>\n",
       "</div>"
      ],
      "text/plain": [
       "       Dates  PX_LAST       date    scores sentiment Direction sentiment_lead\n",
       "1 2008-01-28  1353.97 2008-01-28 -0.027604   Neutral        Up       Positive\n",
       "2 2008-01-29  1362.30 2008-01-29  0.030093   Neutral        Up        Neutral\n",
       "3 2008-01-30  1355.81 2008-01-30 -0.115100  Negative      Down        Neutral\n",
       "4 2008-01-31  1378.55 2008-01-31 -0.014772   Neutral        Up       Negative\n",
       "5 2008-02-01  1395.42 2008-02-01 -0.237369  Negative        Up        Neutral"
      ]
     },
     "execution_count": 42,
     "metadata": {},
     "output_type": "execute_result"
    }
   ],
   "source": [
    "sp_sent_df_clean = sp_sentiment.dropna()\n",
    "sp_sent_df_clean.head()"
   ]
  },
  {
   "cell_type": "code",
   "execution_count": 43,
   "metadata": {},
   "outputs": [
    {
     "data": {
      "text/html": [
       "<div>\n",
       "<style scoped>\n",
       "    .dataframe tbody tr th:only-of-type {\n",
       "        vertical-align: middle;\n",
       "    }\n",
       "\n",
       "    .dataframe tbody tr th {\n",
       "        vertical-align: top;\n",
       "    }\n",
       "\n",
       "    .dataframe thead th {\n",
       "        text-align: right;\n",
       "    }\n",
       "</style>\n",
       "<table border=\"1\" class=\"dataframe\">\n",
       "  <thead>\n",
       "    <tr style=\"text-align: right;\">\n",
       "      <th></th>\n",
       "      <th>Dates</th>\n",
       "      <th>PX_LAST</th>\n",
       "      <th>date</th>\n",
       "      <th>scores</th>\n",
       "      <th>sentiment</th>\n",
       "      <th>Direction</th>\n",
       "      <th>sentiment_lead</th>\n",
       "    </tr>\n",
       "  </thead>\n",
       "  <tbody>\n",
       "    <tr>\n",
       "      <th>1</th>\n",
       "      <td>2008-01-28</td>\n",
       "      <td>1353.97</td>\n",
       "      <td>2008-01-28</td>\n",
       "      <td>-0.027604</td>\n",
       "      <td>Neutral</td>\n",
       "      <td>Up</td>\n",
       "      <td>Positive</td>\n",
       "    </tr>\n",
       "    <tr>\n",
       "      <th>2</th>\n",
       "      <td>2008-01-29</td>\n",
       "      <td>1362.30</td>\n",
       "      <td>2008-01-29</td>\n",
       "      <td>0.030093</td>\n",
       "      <td>Neutral</td>\n",
       "      <td>Up</td>\n",
       "      <td>Neutral</td>\n",
       "    </tr>\n",
       "    <tr>\n",
       "      <th>3</th>\n",
       "      <td>2008-01-30</td>\n",
       "      <td>1355.81</td>\n",
       "      <td>2008-01-30</td>\n",
       "      <td>-0.115100</td>\n",
       "      <td>Negative</td>\n",
       "      <td>Down</td>\n",
       "      <td>Neutral</td>\n",
       "    </tr>\n",
       "    <tr>\n",
       "      <th>4</th>\n",
       "      <td>2008-01-31</td>\n",
       "      <td>1378.55</td>\n",
       "      <td>2008-01-31</td>\n",
       "      <td>-0.014772</td>\n",
       "      <td>Neutral</td>\n",
       "      <td>Up</td>\n",
       "      <td>Negative</td>\n",
       "    </tr>\n",
       "    <tr>\n",
       "      <th>5</th>\n",
       "      <td>2008-02-01</td>\n",
       "      <td>1395.42</td>\n",
       "      <td>2008-02-01</td>\n",
       "      <td>-0.237369</td>\n",
       "      <td>Negative</td>\n",
       "      <td>Up</td>\n",
       "      <td>Neutral</td>\n",
       "    </tr>\n",
       "  </tbody>\n",
       "</table>\n",
       "</div>"
      ],
      "text/plain": [
       "       Dates  PX_LAST       date    scores sentiment Direction sentiment_lead\n",
       "1 2008-01-28  1353.97 2008-01-28 -0.027604   Neutral        Up       Positive\n",
       "2 2008-01-29  1362.30 2008-01-29  0.030093   Neutral        Up        Neutral\n",
       "3 2008-01-30  1355.81 2008-01-30 -0.115100  Negative      Down        Neutral\n",
       "4 2008-01-31  1378.55 2008-01-31 -0.014772   Neutral        Up       Negative\n",
       "5 2008-02-01  1395.42 2008-02-01 -0.237369  Negative        Up        Neutral"
      ]
     },
     "execution_count": 43,
     "metadata": {},
     "output_type": "execute_result"
    }
   ],
   "source": [
    "sp_sent_df_clean.head()"
   ]
  },
  {
   "cell_type": "code",
   "execution_count": 44,
   "metadata": {},
   "outputs": [
    {
     "name": "stderr",
     "output_type": "stream",
     "text": [
      "<ipython-input-44-caa187d78fae>:1: SettingWithCopyWarning: \n",
      "A value is trying to be set on a copy of a slice from a DataFrame.\n",
      "Try using .loc[row_indexer,col_indexer] = value instead\n",
      "\n",
      "See the caveats in the documentation: https://pandas.pydata.org/pandas-docs/stable/user_guide/indexing.html#returning-a-view-versus-a-copy\n",
      "  sp_sent_df_clean['Direction_lag'] = sp_sent_df_clean['Direction'].shift(periods=-1, fill_value=None)\n"
     ]
    },
    {
     "data": {
      "text/html": [
       "<div>\n",
       "<style scoped>\n",
       "    .dataframe tbody tr th:only-of-type {\n",
       "        vertical-align: middle;\n",
       "    }\n",
       "\n",
       "    .dataframe tbody tr th {\n",
       "        vertical-align: top;\n",
       "    }\n",
       "\n",
       "    .dataframe thead th {\n",
       "        text-align: right;\n",
       "    }\n",
       "</style>\n",
       "<table border=\"1\" class=\"dataframe\">\n",
       "  <thead>\n",
       "    <tr style=\"text-align: right;\">\n",
       "      <th></th>\n",
       "      <th>Dates</th>\n",
       "      <th>PX_LAST</th>\n",
       "      <th>date</th>\n",
       "      <th>scores</th>\n",
       "      <th>sentiment</th>\n",
       "      <th>Direction</th>\n",
       "      <th>sentiment_lead</th>\n",
       "      <th>Direction_lag</th>\n",
       "    </tr>\n",
       "  </thead>\n",
       "  <tbody>\n",
       "    <tr>\n",
       "      <th>1</th>\n",
       "      <td>2008-01-28</td>\n",
       "      <td>1353.97</td>\n",
       "      <td>2008-01-28</td>\n",
       "      <td>-0.027604</td>\n",
       "      <td>Neutral</td>\n",
       "      <td>Up</td>\n",
       "      <td>Positive</td>\n",
       "      <td>Up</td>\n",
       "    </tr>\n",
       "    <tr>\n",
       "      <th>2</th>\n",
       "      <td>2008-01-29</td>\n",
       "      <td>1362.30</td>\n",
       "      <td>2008-01-29</td>\n",
       "      <td>0.030093</td>\n",
       "      <td>Neutral</td>\n",
       "      <td>Up</td>\n",
       "      <td>Neutral</td>\n",
       "      <td>Down</td>\n",
       "    </tr>\n",
       "    <tr>\n",
       "      <th>3</th>\n",
       "      <td>2008-01-30</td>\n",
       "      <td>1355.81</td>\n",
       "      <td>2008-01-30</td>\n",
       "      <td>-0.115100</td>\n",
       "      <td>Negative</td>\n",
       "      <td>Down</td>\n",
       "      <td>Neutral</td>\n",
       "      <td>Up</td>\n",
       "    </tr>\n",
       "    <tr>\n",
       "      <th>4</th>\n",
       "      <td>2008-01-31</td>\n",
       "      <td>1378.55</td>\n",
       "      <td>2008-01-31</td>\n",
       "      <td>-0.014772</td>\n",
       "      <td>Neutral</td>\n",
       "      <td>Up</td>\n",
       "      <td>Negative</td>\n",
       "      <td>Up</td>\n",
       "    </tr>\n",
       "    <tr>\n",
       "      <th>5</th>\n",
       "      <td>2008-02-01</td>\n",
       "      <td>1395.42</td>\n",
       "      <td>2008-02-01</td>\n",
       "      <td>-0.237369</td>\n",
       "      <td>Negative</td>\n",
       "      <td>Up</td>\n",
       "      <td>Neutral</td>\n",
       "      <td>Down</td>\n",
       "    </tr>\n",
       "  </tbody>\n",
       "</table>\n",
       "</div>"
      ],
      "text/plain": [
       "       Dates  PX_LAST       date    scores sentiment Direction sentiment_lead  \\\n",
       "1 2008-01-28  1353.97 2008-01-28 -0.027604   Neutral        Up       Positive   \n",
       "2 2008-01-29  1362.30 2008-01-29  0.030093   Neutral        Up        Neutral   \n",
       "3 2008-01-30  1355.81 2008-01-30 -0.115100  Negative      Down        Neutral   \n",
       "4 2008-01-31  1378.55 2008-01-31 -0.014772   Neutral        Up       Negative   \n",
       "5 2008-02-01  1395.42 2008-02-01 -0.237369  Negative        Up        Neutral   \n",
       "\n",
       "  Direction_lag  \n",
       "1            Up  \n",
       "2          Down  \n",
       "3            Up  \n",
       "4            Up  \n",
       "5          Down  "
      ]
     },
     "execution_count": 44,
     "metadata": {},
     "output_type": "execute_result"
    }
   ],
   "source": [
    "sp_sent_df_clean['Direction_lag'] = sp_sent_df_clean['Direction'].shift(periods=-1, fill_value=None)\n",
    "sp_sent_df_clean.head()"
   ]
  },
  {
   "cell_type": "code",
   "execution_count": 45,
   "metadata": {},
   "outputs": [
    {
     "data": {
      "text/html": [
       "<div>\n",
       "<style scoped>\n",
       "    .dataframe tbody tr th:only-of-type {\n",
       "        vertical-align: middle;\n",
       "    }\n",
       "\n",
       "    .dataframe tbody tr th {\n",
       "        vertical-align: top;\n",
       "    }\n",
       "\n",
       "    .dataframe thead th {\n",
       "        text-align: right;\n",
       "    }\n",
       "</style>\n",
       "<table border=\"1\" class=\"dataframe\">\n",
       "  <thead>\n",
       "    <tr style=\"text-align: right;\">\n",
       "      <th></th>\n",
       "      <th>index</th>\n",
       "      <th>Dates</th>\n",
       "      <th>PX_LAST</th>\n",
       "      <th>date</th>\n",
       "      <th>scores</th>\n",
       "      <th>sentiment</th>\n",
       "      <th>Direction</th>\n",
       "      <th>sentiment_lead</th>\n",
       "      <th>Direction_lag</th>\n",
       "    </tr>\n",
       "  </thead>\n",
       "  <tbody>\n",
       "    <tr>\n",
       "      <th>0</th>\n",
       "      <td>1</td>\n",
       "      <td>2008-01-28</td>\n",
       "      <td>1353.97</td>\n",
       "      <td>2008-01-28</td>\n",
       "      <td>-0.027604</td>\n",
       "      <td>Neutral</td>\n",
       "      <td>Up</td>\n",
       "      <td>Positive</td>\n",
       "      <td>Up</td>\n",
       "    </tr>\n",
       "    <tr>\n",
       "      <th>1</th>\n",
       "      <td>2</td>\n",
       "      <td>2008-01-29</td>\n",
       "      <td>1362.30</td>\n",
       "      <td>2008-01-29</td>\n",
       "      <td>0.030093</td>\n",
       "      <td>Neutral</td>\n",
       "      <td>Up</td>\n",
       "      <td>Neutral</td>\n",
       "      <td>Down</td>\n",
       "    </tr>\n",
       "    <tr>\n",
       "      <th>2</th>\n",
       "      <td>3</td>\n",
       "      <td>2008-01-30</td>\n",
       "      <td>1355.81</td>\n",
       "      <td>2008-01-30</td>\n",
       "      <td>-0.115100</td>\n",
       "      <td>Negative</td>\n",
       "      <td>Down</td>\n",
       "      <td>Neutral</td>\n",
       "      <td>Up</td>\n",
       "    </tr>\n",
       "    <tr>\n",
       "      <th>3</th>\n",
       "      <td>4</td>\n",
       "      <td>2008-01-31</td>\n",
       "      <td>1378.55</td>\n",
       "      <td>2008-01-31</td>\n",
       "      <td>-0.014772</td>\n",
       "      <td>Neutral</td>\n",
       "      <td>Up</td>\n",
       "      <td>Negative</td>\n",
       "      <td>Up</td>\n",
       "    </tr>\n",
       "    <tr>\n",
       "      <th>4</th>\n",
       "      <td>5</td>\n",
       "      <td>2008-02-01</td>\n",
       "      <td>1395.42</td>\n",
       "      <td>2008-02-01</td>\n",
       "      <td>-0.237369</td>\n",
       "      <td>Negative</td>\n",
       "      <td>Up</td>\n",
       "      <td>Neutral</td>\n",
       "      <td>Down</td>\n",
       "    </tr>\n",
       "  </tbody>\n",
       "</table>\n",
       "</div>"
      ],
      "text/plain": [
       "   index      Dates  PX_LAST       date    scores sentiment Direction  \\\n",
       "0      1 2008-01-28  1353.97 2008-01-28 -0.027604   Neutral        Up   \n",
       "1      2 2008-01-29  1362.30 2008-01-29  0.030093   Neutral        Up   \n",
       "2      3 2008-01-30  1355.81 2008-01-30 -0.115100  Negative      Down   \n",
       "3      4 2008-01-31  1378.55 2008-01-31 -0.014772   Neutral        Up   \n",
       "4      5 2008-02-01  1395.42 2008-02-01 -0.237369  Negative        Up   \n",
       "\n",
       "  sentiment_lead Direction_lag  \n",
       "0       Positive            Up  \n",
       "1        Neutral          Down  \n",
       "2        Neutral            Up  \n",
       "3       Negative            Up  \n",
       "4        Neutral          Down  "
      ]
     },
     "execution_count": 45,
     "metadata": {},
     "output_type": "execute_result"
    }
   ],
   "source": [
    "sp_sent_df_clean = sp_sent_df_clean.reset_index()\n",
    "sp_sent_df_clean.head()"
   ]
  },
  {
   "cell_type": "code",
   "execution_count": 46,
   "metadata": {},
   "outputs": [],
   "source": [
    "sentiment_lag = []\n",
    "\n",
    "for i in range(0,len(sp_sent_df_clean.scores)):\n",
    "    if sp_sent_df_clean.loc[i,'sentiment'] == 'Negative':\n",
    "        sentiment_lag.append(0)\n",
    "    elif sp_sent_df_clean.loc[i,'sentiment'] == 'Neutral':\n",
    "        sentiment_lag.append(1)\n",
    "    elif sp_sent_df_clean.loc[i,'sentiment'] == 'Positive':\n",
    "        sentiment_lag.append(2)"
   ]
  },
  {
   "cell_type": "code",
   "execution_count": 47,
   "metadata": {},
   "outputs": [],
   "source": [
    "sentiment_lead = []\n",
    "\n",
    "for i in range(0,len(sp_sent_df_clean.scores)):\n",
    "    if sp_sent_df_clean.loc[i,'sentiment_lead'] == 'Negative':\n",
    "        sentiment_lead.append(0)\n",
    "    elif sp_sent_df_clean.loc[i,'sentiment_lead'] == 'Neutral':\n",
    "        sentiment_lead.append(1)\n",
    "    elif sp_sent_df_clean.loc[i,'sentiment_lead'] == 'Positive':\n",
    "        sentiment_lead.append(2)"
   ]
  },
  {
   "cell_type": "code",
   "execution_count": 48,
   "metadata": {},
   "outputs": [],
   "source": [
    "direction = []\n",
    "\n",
    "for i in range(0,len(sp_sent_df_clean.scores)):\n",
    "    if sp_sent_df_clean.loc[i,'Direction'] == 'Up':\n",
    "        direction.append(1)\n",
    "    else:\n",
    "        direction.append(0)"
   ]
  },
  {
   "cell_type": "code",
   "execution_count": 49,
   "metadata": {},
   "outputs": [],
   "source": [
    "direction_lag = []\n",
    "\n",
    "for i in range(0,len(sp_sent_df_clean.scores)):\n",
    "    if sp_sent_df_clean.loc[i,'Direction_lag'] == 'Up':\n",
    "        direction_lag.append(1)\n",
    "    else:\n",
    "        direction_lag.append(0)"
   ]
  },
  {
   "cell_type": "code",
   "execution_count": 50,
   "metadata": {},
   "outputs": [
    {
     "data": {
      "text/html": [
       "<div>\n",
       "<style scoped>\n",
       "    .dataframe tbody tr th:only-of-type {\n",
       "        vertical-align: middle;\n",
       "    }\n",
       "\n",
       "    .dataframe tbody tr th {\n",
       "        vertical-align: top;\n",
       "    }\n",
       "\n",
       "    .dataframe thead th {\n",
       "        text-align: right;\n",
       "    }\n",
       "</style>\n",
       "<table border=\"1\" class=\"dataframe\">\n",
       "  <thead>\n",
       "    <tr style=\"text-align: right;\">\n",
       "      <th></th>\n",
       "      <th>date</th>\n",
       "      <th>sentiment_lag</th>\n",
       "      <th>sentiment_lead</th>\n",
       "      <th>direction_lag</th>\n",
       "      <th>direction</th>\n",
       "    </tr>\n",
       "  </thead>\n",
       "  <tbody>\n",
       "    <tr>\n",
       "      <th>0</th>\n",
       "      <td>2008-01-28</td>\n",
       "      <td>1</td>\n",
       "      <td>2</td>\n",
       "      <td>1</td>\n",
       "      <td>1</td>\n",
       "    </tr>\n",
       "    <tr>\n",
       "      <th>1</th>\n",
       "      <td>2008-01-29</td>\n",
       "      <td>1</td>\n",
       "      <td>1</td>\n",
       "      <td>0</td>\n",
       "      <td>1</td>\n",
       "    </tr>\n",
       "    <tr>\n",
       "      <th>2</th>\n",
       "      <td>2008-01-30</td>\n",
       "      <td>0</td>\n",
       "      <td>1</td>\n",
       "      <td>1</td>\n",
       "      <td>0</td>\n",
       "    </tr>\n",
       "    <tr>\n",
       "      <th>3</th>\n",
       "      <td>2008-01-31</td>\n",
       "      <td>1</td>\n",
       "      <td>0</td>\n",
       "      <td>1</td>\n",
       "      <td>1</td>\n",
       "    </tr>\n",
       "    <tr>\n",
       "      <th>4</th>\n",
       "      <td>2008-02-01</td>\n",
       "      <td>0</td>\n",
       "      <td>1</td>\n",
       "      <td>0</td>\n",
       "      <td>1</td>\n",
       "    </tr>\n",
       "  </tbody>\n",
       "</table>\n",
       "</div>"
      ],
      "text/plain": [
       "        date  sentiment_lag  sentiment_lead  direction_lag  direction\n",
       "0 2008-01-28              1               2              1          1\n",
       "1 2008-01-29              1               1              0          1\n",
       "2 2008-01-30              0               1              1          0\n",
       "3 2008-01-31              1               0              1          1\n",
       "4 2008-02-01              0               1              0          1"
      ]
     },
     "execution_count": 50,
     "metadata": {},
     "output_type": "execute_result"
    }
   ],
   "source": [
    "data = {'date': sp_sent_df_clean.Dates, 'sentiment_lag': sentiment_lag, 'sentiment_lead': sentiment_lead, \n",
    "        'direction_lag': direction_lag, 'direction': direction}\n",
    "df = pd.DataFrame(data)\n",
    "df.head()"
   ]
  },
  {
   "cell_type": "code",
   "execution_count": 65,
   "metadata": {},
   "outputs": [],
   "source": [
    "import tensorflow as tf\n",
    "from tensorflow import keras\n",
    "from keras.models import Sequential\n",
    "from keras.layers import Dense\n",
    "from sklearn.model_selection import train_test_split\n",
    "from sklearn.preprocessing import StandardScaler"
   ]
  },
  {
   "cell_type": "code",
   "execution_count": 66,
   "metadata": {},
   "outputs": [],
   "source": [
    "X = np.array(df[['sentiment_lag', 'sentiment_lead', 'direction_lag']])\n",
    "y = np.array(df.direction)"
   ]
  },
  {
   "cell_type": "code",
   "execution_count": 67,
   "metadata": {},
   "outputs": [],
   "source": [
    "X_train, X_test, y_train, y_test = train_test_split(X, y, test_size=0.3, random_state=42)"
   ]
  },
  {
   "cell_type": "code",
   "execution_count": 68,
   "metadata": {},
   "outputs": [],
   "source": [
    "scaler = StandardScaler()\n",
    "\n",
    "X_train_scaled = scaler.fit_transform(X_train)\n",
    "X_test_scaled = scaler.transform(X_test)"
   ]
  },
  {
   "cell_type": "markdown",
   "metadata": {},
   "source": [
    "### ANN"
   ]
  },
  {
   "cell_type": "code",
   "execution_count": 76,
   "metadata": {},
   "outputs": [],
   "source": [
    "#import tensorflow as tf\n",
    "#from tensorflow import keras\n",
    "from sklearn.model_selection import GridSearchCV\n",
    "from sklearn.metrics import accuracy_score"
   ]
  },
  {
   "cell_type": "code",
   "execution_count": 82,
   "metadata": {},
   "outputs": [],
   "source": [
    "def create_model(optimizer='adam', hidden_units=12,activation='relu'):\n",
    "    model = Sequential()\n",
    "    model.add(Dense(hidden_units, activation=activation, input_dim=3))\n",
    "    model.add(Dense(1, activation='sigmoid'))  # Output layer for binary classification\n",
    "\n",
    "    model.compile(loss='binary_crossentropy', optimizer=optimizer, metrics=['accuracy'])\n",
    "    return model"
   ]
  },
  {
   "cell_type": "code",
   "execution_count": 91,
   "metadata": {},
   "outputs": [
    {
     "name": "stderr",
     "output_type": "stream",
     "text": [
      "<ipython-input-91-8dc1a02b4106>:1: DeprecationWarning: KerasClassifier is deprecated, use Sci-Keras (https://github.com/adriangb/scikeras) instead. See https://www.adriangb.com/scikeras/stable/migration.html for help migrating.\n",
      "  model = keras.wrappers.scikit_learn.KerasClassifier(build_fn=create_model, verbose=0)\n"
     ]
    }
   ],
   "source": [
    "model = keras.wrappers.scikit_learn.KerasClassifier(build_fn=create_model, verbose=0)"
   ]
  },
  {
   "cell_type": "code",
   "execution_count": 84,
   "metadata": {},
   "outputs": [],
   "source": [
    "param_grid = {\n",
    "    'batch_size': [10, 20],\n",
    "    'epochs': [10,20],\n",
    "    'hidden_units': [8, 12, 24],\n",
    "    'activation': ['relu', 'sigmoid'],\n",
    "    'optimizer': ['adam', 'sgd', 'rmsprop']\n",
    "}"
   ]
  },
  {
   "cell_type": "code",
   "execution_count": 85,
   "metadata": {},
   "outputs": [],
   "source": [
    "grid = GridSearchCV(estimator=model, param_grid=param_grid, cv=3, n_jobs=-1, verbose=2)"
   ]
  },
  {
   "cell_type": "code",
   "execution_count": 86,
   "metadata": {},
   "outputs": [
    {
     "name": "stdout",
     "output_type": "stream",
     "text": [
      "Fitting 3 folds for each of 72 candidates, totalling 216 fits\n"
     ]
    },
    {
     "name": "stderr",
     "output_type": "stream",
     "text": [
      "[Parallel(n_jobs=-1)]: Using backend LokyBackend with 4 concurrent workers.\n",
      "[Parallel(n_jobs=-1)]: Done  33 tasks      | elapsed:  2.3min\n",
      "[Parallel(n_jobs=-1)]: Done 154 tasks      | elapsed:  9.6min\n",
      "[Parallel(n_jobs=-1)]: Done 216 out of 216 | elapsed: 12.6min finished\n"
     ]
    }
   ],
   "source": [
    "# Perform the grid search\n",
    "grid_result = grid.fit(X_train_scaled, y_train)"
   ]
  },
  {
   "cell_type": "code",
   "execution_count": 87,
   "metadata": {},
   "outputs": [
    {
     "name": "stdout",
     "output_type": "stream",
     "text": [
      "Best Hyperparameters: {'activation': 'sigmoid', 'batch_size': 20, 'epochs': 10, 'hidden_units': 24, 'optimizer': 'sgd'}\n"
     ]
    }
   ],
   "source": [
    "# Get the best hyperparameters\n",
    "best_params = grid_result.best_params_\n",
    "print(f'Best Hyperparameters: {best_params}')"
   ]
  },
  {
   "cell_type": "code",
   "execution_count": 88,
   "metadata": {},
   "outputs": [
    {
     "name": "stdout",
     "output_type": "stream",
     "text": [
      "31/31 [==============================] - 1s 4ms/step\n",
      "Accuracy on Test Set: 53.66%\n"
     ]
    }
   ],
   "source": [
    "best_model = grid_result.best_estimator_\n",
    "y_pred = best_model.predict(X_test_scaled)\n",
    "accuracy = accuracy_score(y_test, y_pred)\n",
    "print(f'Accuracy on Test Set: {accuracy * 100:.2f}%')"
   ]
  },
  {
   "cell_type": "code",
   "execution_count": 97,
   "metadata": {},
   "outputs": [],
   "source": [
    "model = Sequential()\n",
    "model.add(Dense(24, input_dim=3, activation='sigmoid'))\n",
    "model.add(Dense(1, activation='sigmoid')) "
   ]
  },
  {
   "cell_type": "code",
   "execution_count": 98,
   "metadata": {},
   "outputs": [],
   "source": [
    "model.compile(loss='binary_crossentropy', optimizer='sgd', metrics = ['accuracy'])"
   ]
  },
  {
   "cell_type": "code",
   "execution_count": 101,
   "metadata": {},
   "outputs": [
    {
     "name": "stdout",
     "output_type": "stream",
     "text": [
      "Epoch 1/10\n",
      "115/115 [==============================] - 1s 5ms/step - loss: 0.6881 - accuracy: 0.5469\n",
      "Epoch 2/10\n",
      "115/115 [==============================] - 1s 5ms/step - loss: 0.6879 - accuracy: 0.5469\n",
      "Epoch 3/10\n",
      "115/115 [==============================] - 1s 4ms/step - loss: 0.6880 - accuracy: 0.5469\n",
      "Epoch 4/10\n",
      "115/115 [==============================] - 1s 4ms/step - loss: 0.6880 - accuracy: 0.5469\n",
      "Epoch 5/10\n",
      "115/115 [==============================] - 1s 5ms/step - loss: 0.6880 - accuracy: 0.5469\n",
      "Epoch 6/10\n",
      "115/115 [==============================] - 1s 4ms/step - loss: 0.6881 - accuracy: 0.5469\n",
      "Epoch 7/10\n",
      "115/115 [==============================] - 1s 4ms/step - loss: 0.6879 - accuracy: 0.5469\n",
      "Epoch 8/10\n",
      "115/115 [==============================] - 1s 5ms/step - loss: 0.6880 - accuracy: 0.5451\n",
      "Epoch 9/10\n",
      "115/115 [==============================] - 1s 5ms/step - loss: 0.6879 - accuracy: 0.5469\n",
      "Epoch 10/10\n",
      "115/115 [==============================] - 1s 5ms/step - loss: 0.6879 - accuracy: 0.5469\n"
     ]
    },
    {
     "data": {
      "text/plain": [
       "<keras.callbacks.History at 0x1ea54509cd0>"
      ]
     },
     "execution_count": 101,
     "metadata": {},
     "output_type": "execute_result"
    }
   ],
   "source": [
    "model.fit(X_train_scaled, y_train, epochs=10, batch_size=20) "
   ]
  },
  {
   "cell_type": "code",
   "execution_count": 102,
   "metadata": {},
   "outputs": [
    {
     "name": "stdout",
     "output_type": "stream",
     "text": [
      "72/72 [==============================] - 1s 4ms/step - loss: 0.6877 - accuracy: 0.5469\n",
      "Accuracy: 54.69\n"
     ]
    }
   ],
   "source": [
    "_, accuracy = model.evaluate(X_train_scaled, y_train)\n",
    "print('Accuracy: %.2f' % (accuracy*100)) "
   ]
  },
  {
   "cell_type": "markdown",
   "metadata": {},
   "source": [
    "### RNN"
   ]
  },
  {
   "cell_type": "code",
   "execution_count": 114,
   "metadata": {},
   "outputs": [],
   "source": [
    "from sklearn.metrics import make_scorer\n",
    "from keras.layers import SimpleRNN\n",
    "from keras.utils import np_utils"
   ]
  },
  {
   "cell_type": "code",
   "execution_count": 179,
   "metadata": {},
   "outputs": [],
   "source": [
    "X = np.array(df[['sentiment_lag', 'sentiment_lead', 'direction_lag']])\n",
    "y = np.array(df.direction)"
   ]
  },
  {
   "cell_type": "code",
   "execution_count": 182,
   "metadata": {},
   "outputs": [],
   "source": [
    "X_train, X_test, y_train, y_test = train_test_split(X, y, test_size=0.3, random_state=42)"
   ]
  },
  {
   "cell_type": "code",
   "execution_count": 183,
   "metadata": {},
   "outputs": [],
   "source": [
    "scaler = StandardScaler()\n",
    "\n",
    "X_train_scaled = scaler.fit_transform(X_train)\n",
    "X_test_scaled = scaler.transform(X_test)"
   ]
  },
  {
   "cell_type": "code",
   "execution_count": 184,
   "metadata": {},
   "outputs": [
    {
     "data": {
      "text/plain": [
       "array([[[ 0.22358311,  0.23353389,  0.92800932]],\n",
       "\n",
       "       [[-1.37852961, -1.36019589,  0.92800932]],\n",
       "\n",
       "       [[ 1.82569582,  1.82726366,  0.92800932]],\n",
       "\n",
       "       ...,\n",
       "\n",
       "       [[-1.37852961, -1.36019589,  0.92800932]],\n",
       "\n",
       "       [[-1.37852961, -1.36019589,  0.92800932]],\n",
       "\n",
       "       [[ 1.82569582,  1.82726366, -1.07757538]]])"
      ]
     },
     "execution_count": 184,
     "metadata": {},
     "output_type": "execute_result"
    }
   ],
   "source": [
    "X_r_train = X_train_scaled.reshape(-1,1,3)\n",
    "X_r_train"
   ]
  },
  {
   "cell_type": "code",
   "execution_count": 185,
   "metadata": {},
   "outputs": [
    {
     "data": {
      "text/plain": [
       "array([[[ 1.82569582,  1.82726366,  0.92800932]],\n",
       "\n",
       "       [[ 0.22358311,  1.82726366, -1.07757538]],\n",
       "\n",
       "       [[ 1.82569582,  0.23353389,  0.92800932]],\n",
       "\n",
       "       ...,\n",
       "\n",
       "       [[ 0.22358311,  0.23353389,  0.92800932]],\n",
       "\n",
       "       [[ 0.22358311,  1.82726366,  0.92800932]],\n",
       "\n",
       "       [[ 0.22358311,  1.82726366,  0.92800932]]])"
      ]
     },
     "execution_count": 185,
     "metadata": {},
     "output_type": "execute_result"
    }
   ],
   "source": [
    "X_r_test = X_test_scaled.reshape(-1,1,3)\n",
    "X_r_test"
   ]
  },
  {
   "cell_type": "code",
   "execution_count": 186,
   "metadata": {},
   "outputs": [],
   "source": [
    "def create_rnn_model(units=50, optimizer = 'adam'):\n",
    "    model = Sequential()\n",
    "    model.add(SimpleRNN(units, input_shape=(X_r_train.shape[1], X_r_train.shape[2])))\n",
    "    model.add(Dense(1, activation='sigmoid'))\n",
    "    model.compile(loss='binary_crossentropy', optimizer = optimizer, metrics=['accuracy'])\n",
    "    return model"
   ]
  },
  {
   "cell_type": "code",
   "execution_count": 187,
   "metadata": {},
   "outputs": [
    {
     "name": "stderr",
     "output_type": "stream",
     "text": [
      "<ipython-input-187-3a4eae250d27>:1: DeprecationWarning: KerasClassifier is deprecated, use Sci-Keras (https://github.com/adriangb/scikeras) instead. See https://www.adriangb.com/scikeras/stable/migration.html for help migrating.\n",
      "  rnn_model = keras.wrappers.scikit_learn.KerasClassifier(build_fn=create_rnn_model, verbose=0)\n"
     ]
    }
   ],
   "source": [
    "rnn_model = keras.wrappers.scikit_learn.KerasClassifier(build_fn=create_rnn_model, verbose=0)"
   ]
  },
  {
   "cell_type": "code",
   "execution_count": 188,
   "metadata": {},
   "outputs": [],
   "source": [
    "param_grid = {\n",
    "    'units': [50,100],\n",
    "    'epochs': [10,20],\n",
    "    'batch_size': [10, 20],\n",
    "    'optimizer': ['adam', 'sgd', 'rmsprop']\n",
    "}"
   ]
  },
  {
   "cell_type": "code",
   "execution_count": 189,
   "metadata": {},
   "outputs": [],
   "source": [
    "grid_search = GridSearchCV(estimator=rnn_model, param_grid=param_grid, cv=3, n_jobs=1, verbose=2)"
   ]
  },
  {
   "cell_type": "code",
   "execution_count": null,
   "metadata": {
    "scrolled": true
   },
   "outputs": [
    {
     "name": "stdout",
     "output_type": "stream",
     "text": [
      "Fitting 3 folds for each of 24 candidates, totalling 72 fits\n",
      "[CV] batch_size=10, epochs=10, optimizer=adam, units=50 ..............\n"
     ]
    },
    {
     "name": "stderr",
     "output_type": "stream",
     "text": [
      "[Parallel(n_jobs=1)]: Using backend SequentialBackend with 1 concurrent workers.\n"
     ]
    },
    {
     "name": "stdout",
     "output_type": "stream",
     "text": [
      "[CV]  batch_size=10, epochs=10, optimizer=adam, units=50, total=  11.1s\n",
      "[CV] batch_size=10, epochs=10, optimizer=adam, units=50 ..............\n"
     ]
    },
    {
     "name": "stderr",
     "output_type": "stream",
     "text": [
      "[Parallel(n_jobs=1)]: Done   1 out of   1 | elapsed:   11.0s remaining:    0.0s\n"
     ]
    },
    {
     "name": "stdout",
     "output_type": "stream",
     "text": [
      "[CV]  batch_size=10, epochs=10, optimizer=adam, units=50, total=  10.7s\n",
      "[CV] batch_size=10, epochs=10, optimizer=adam, units=50 ..............\n",
      "[CV]  batch_size=10, epochs=10, optimizer=adam, units=50, total=  10.2s\n",
      "[CV] batch_size=10, epochs=10, optimizer=adam, units=100 .............\n",
      "[CV]  batch_size=10, epochs=10, optimizer=adam, units=100, total=  10.3s\n",
      "[CV] batch_size=10, epochs=10, optimizer=adam, units=100 .............\n",
      "[CV]  batch_size=10, epochs=10, optimizer=adam, units=100, total=   9.8s\n",
      "[CV] batch_size=10, epochs=10, optimizer=adam, units=100 .............\n",
      "[CV]  batch_size=10, epochs=10, optimizer=adam, units=100, total=  10.9s\n",
      "[CV] batch_size=10, epochs=10, optimizer=sgd, units=50 ...............\n",
      "[CV]  batch_size=10, epochs=10, optimizer=sgd, units=50, total=   9.6s\n",
      "[CV] batch_size=10, epochs=10, optimizer=sgd, units=50 ...............\n",
      "[CV]  batch_size=10, epochs=10, optimizer=sgd, units=50, total=   8.9s\n",
      "[CV] batch_size=10, epochs=10, optimizer=sgd, units=50 ...............\n",
      "[CV]  batch_size=10, epochs=10, optimizer=sgd, units=50, total=   9.4s\n",
      "[CV] batch_size=10, epochs=10, optimizer=sgd, units=100 ..............\n",
      "[CV]  batch_size=10, epochs=10, optimizer=sgd, units=100, total=   9.9s\n",
      "[CV] batch_size=10, epochs=10, optimizer=sgd, units=100 ..............\n",
      "[CV]  batch_size=10, epochs=10, optimizer=sgd, units=100, total=   9.5s\n",
      "[CV] batch_size=10, epochs=10, optimizer=sgd, units=100 ..............\n",
      "[CV]  batch_size=10, epochs=10, optimizer=sgd, units=100, total=   9.6s\n",
      "[CV] batch_size=10, epochs=10, optimizer=rmsprop, units=50 ...........\n",
      "[CV]  batch_size=10, epochs=10, optimizer=rmsprop, units=50, total=   9.0s\n",
      "[CV] batch_size=10, epochs=10, optimizer=rmsprop, units=50 ...........\n",
      "[CV]  batch_size=10, epochs=10, optimizer=rmsprop, units=50, total=   9.5s\n",
      "[CV] batch_size=10, epochs=10, optimizer=rmsprop, units=50 ...........\n",
      "[CV]  batch_size=10, epochs=10, optimizer=rmsprop, units=50, total=   9.0s\n",
      "[CV] batch_size=10, epochs=10, optimizer=rmsprop, units=100 ..........\n",
      "[CV]  batch_size=10, epochs=10, optimizer=rmsprop, units=100, total=   9.8s\n",
      "[CV] batch_size=10, epochs=10, optimizer=rmsprop, units=100 ..........\n",
      "[CV]  batch_size=10, epochs=10, optimizer=rmsprop, units=100, total=   9.7s\n",
      "[CV] batch_size=10, epochs=10, optimizer=rmsprop, units=100 ..........\n",
      "[CV]  batch_size=10, epochs=10, optimizer=rmsprop, units=100, total=   9.3s\n",
      "[CV] batch_size=10, epochs=20, optimizer=adam, units=50 ..............\n",
      "[CV]  batch_size=10, epochs=20, optimizer=adam, units=50, total=  16.2s\n",
      "[CV] batch_size=10, epochs=20, optimizer=adam, units=50 ..............\n",
      "[CV]  batch_size=10, epochs=20, optimizer=adam, units=50, total=  17.6s\n",
      "[CV] batch_size=10, epochs=20, optimizer=adam, units=50 ..............\n",
      "[CV]  batch_size=10, epochs=20, optimizer=adam, units=50, total=  17.2s\n",
      "[CV] batch_size=10, epochs=20, optimizer=adam, units=100 .............\n",
      "[CV]  batch_size=10, epochs=20, optimizer=adam, units=100, total=  16.3s\n",
      "[CV] batch_size=10, epochs=20, optimizer=adam, units=100 .............\n",
      "[CV]  batch_size=10, epochs=20, optimizer=adam, units=100, total=  16.2s\n",
      "[CV] batch_size=10, epochs=20, optimizer=adam, units=100 .............\n",
      "[CV]  batch_size=10, epochs=20, optimizer=adam, units=100, total=  16.1s\n",
      "[CV] batch_size=10, epochs=20, optimizer=sgd, units=50 ...............\n",
      "[CV]  batch_size=10, epochs=20, optimizer=sgd, units=50, total=  14.4s\n",
      "[CV] batch_size=10, epochs=20, optimizer=sgd, units=50 ...............\n",
      "[CV]  batch_size=10, epochs=20, optimizer=sgd, units=50, total=  14.3s\n",
      "[CV] batch_size=10, epochs=20, optimizer=sgd, units=50 ...............\n",
      "[CV]  batch_size=10, epochs=20, optimizer=sgd, units=50, total=  14.4s\n",
      "[CV] batch_size=10, epochs=20, optimizer=sgd, units=100 ..............\n",
      "[CV]  batch_size=10, epochs=20, optimizer=sgd, units=100, total=  15.6s\n",
      "[CV] batch_size=10, epochs=20, optimizer=sgd, units=100 ..............\n",
      "[CV]  batch_size=10, epochs=20, optimizer=sgd, units=100, total=  14.8s\n",
      "[CV] batch_size=10, epochs=20, optimizer=sgd, units=100 ..............\n",
      "[CV]  batch_size=10, epochs=20, optimizer=sgd, units=100, total=  15.0s\n",
      "[CV] batch_size=10, epochs=20, optimizer=rmsprop, units=50 ...........\n",
      "[CV]  batch_size=10, epochs=20, optimizer=rmsprop, units=50, total=  14.7s\n",
      "[CV] batch_size=10, epochs=20, optimizer=rmsprop, units=50 ...........\n",
      "[CV]  batch_size=10, epochs=20, optimizer=rmsprop, units=50, total=  14.7s\n",
      "[CV] batch_size=10, epochs=20, optimizer=rmsprop, units=50 ...........\n",
      "[CV]  batch_size=10, epochs=20, optimizer=rmsprop, units=50, total=  14.8s\n",
      "[CV] batch_size=10, epochs=20, optimizer=rmsprop, units=100 ..........\n",
      "[CV]  batch_size=10, epochs=20, optimizer=rmsprop, units=100, total=  15.3s\n",
      "[CV] batch_size=10, epochs=20, optimizer=rmsprop, units=100 ..........\n",
      "[CV]  batch_size=10, epochs=20, optimizer=rmsprop, units=100, total=  15.3s\n",
      "[CV] batch_size=10, epochs=20, optimizer=rmsprop, units=100 ..........\n",
      "[CV]  batch_size=10, epochs=20, optimizer=rmsprop, units=100, total=  15.3s\n",
      "[CV] batch_size=20, epochs=10, optimizer=adam, units=50 ..............\n",
      "[CV]  batch_size=20, epochs=10, optimizer=adam, units=50, total=   8.1s\n",
      "[CV] batch_size=20, epochs=10, optimizer=adam, units=50 ..............\n",
      "[CV]  batch_size=20, epochs=10, optimizer=adam, units=50, total=   7.1s\n",
      "[CV] batch_size=20, epochs=10, optimizer=adam, units=50 ..............\n",
      "[CV]  batch_size=20, epochs=10, optimizer=adam, units=50, total=   7.3s\n",
      "[CV] batch_size=20, epochs=10, optimizer=adam, units=100 .............\n",
      "[CV]  batch_size=20, epochs=10, optimizer=adam, units=100, total=   7.0s\n",
      "[CV] batch_size=20, epochs=10, optimizer=adam, units=100 .............\n",
      "[CV]  batch_size=20, epochs=10, optimizer=adam, units=100, total=   8.3s\n",
      "[CV] batch_size=20, epochs=10, optimizer=adam, units=100 .............\n",
      "[CV]  batch_size=20, epochs=10, optimizer=adam, units=100, total=   7.1s\n",
      "[CV] batch_size=20, epochs=10, optimizer=sgd, units=50 ...............\n",
      "[CV]  batch_size=20, epochs=10, optimizer=sgd, units=50, total=   6.7s\n",
      "[CV] batch_size=20, epochs=10, optimizer=sgd, units=50 ...............\n",
      "[CV]  batch_size=20, epochs=10, optimizer=sgd, units=50, total=   6.1s\n",
      "[CV] batch_size=20, epochs=10, optimizer=sgd, units=50 ...............\n",
      "[CV]  batch_size=20, epochs=10, optimizer=sgd, units=50, total=   6.7s\n",
      "[CV] batch_size=20, epochs=10, optimizer=sgd, units=100 ..............\n",
      "[CV]  batch_size=20, epochs=10, optimizer=sgd, units=100, total=   7.5s\n",
      "[CV] batch_size=20, epochs=10, optimizer=sgd, units=100 ..............\n",
      "[CV]  batch_size=20, epochs=10, optimizer=sgd, units=100, total=   6.8s\n",
      "[CV] batch_size=20, epochs=10, optimizer=sgd, units=100 ..............\n",
      "[CV]  batch_size=20, epochs=10, optimizer=sgd, units=100, total=   6.6s\n",
      "[CV] batch_size=20, epochs=10, optimizer=rmsprop, units=50 ...........\n",
      "[CV]  batch_size=20, epochs=10, optimizer=rmsprop, units=50, total=   6.3s\n",
      "[CV] batch_size=20, epochs=10, optimizer=rmsprop, units=50 ...........\n",
      "[CV]  batch_size=20, epochs=10, optimizer=rmsprop, units=50, total=   6.8s\n",
      "[CV] batch_size=20, epochs=10, optimizer=rmsprop, units=50 ...........\n",
      "[CV]  batch_size=20, epochs=10, optimizer=rmsprop, units=50, total=   6.4s\n",
      "[CV] batch_size=20, epochs=10, optimizer=rmsprop, units=100 ..........\n",
      "[CV]  batch_size=20, epochs=10, optimizer=rmsprop, units=100, total=   6.9s\n",
      "[CV] batch_size=20, epochs=10, optimizer=rmsprop, units=100 ..........\n",
      "[CV]  batch_size=20, epochs=10, optimizer=rmsprop, units=100, total=   6.6s\n",
      "[CV] batch_size=20, epochs=10, optimizer=rmsprop, units=100 ..........\n",
      "[CV]  batch_size=20, epochs=10, optimizer=rmsprop, units=100, total=   6.6s\n",
      "[CV] batch_size=20, epochs=20, optimizer=adam, units=50 ..............\n",
      "[CV]  batch_size=20, epochs=20, optimizer=adam, units=50, total=  11.3s\n",
      "[CV] batch_size=20, epochs=20, optimizer=adam, units=50 ..............\n",
      "[CV]  batch_size=20, epochs=20, optimizer=adam, units=50, total=  10.5s\n",
      "[CV] batch_size=20, epochs=20, optimizer=adam, units=50 ..............\n",
      "[CV]  batch_size=20, epochs=20, optimizer=adam, units=50, total=   9.5s\n",
      "[CV] batch_size=20, epochs=20, optimizer=adam, units=100 .............\n",
      "[CV]  batch_size=20, epochs=20, optimizer=adam, units=100, total=  11.4s\n",
      "[CV] batch_size=20, epochs=20, optimizer=adam, units=100 .............\n"
     ]
    },
    {
     "name": "stdout",
     "output_type": "stream",
     "text": [
      "[CV]  batch_size=20, epochs=20, optimizer=adam, units=100, total=  11.9s\n",
      "[CV] batch_size=20, epochs=20, optimizer=adam, units=100 .............\n",
      "[CV]  batch_size=20, epochs=20, optimizer=adam, units=100, total=  10.3s\n",
      "[CV] batch_size=20, epochs=20, optimizer=sgd, units=50 ...............\n",
      "[CV]  batch_size=20, epochs=20, optimizer=sgd, units=50, total=   9.3s\n",
      "[CV] batch_size=20, epochs=20, optimizer=sgd, units=50 ...............\n",
      "[CV]  batch_size=20, epochs=20, optimizer=sgd, units=50, total=   9.3s\n",
      "[CV] batch_size=20, epochs=20, optimizer=sgd, units=50 ...............\n",
      "[CV]  batch_size=20, epochs=20, optimizer=sgd, units=50, total=   8.8s\n",
      "[CV] batch_size=20, epochs=20, optimizer=sgd, units=100 ..............\n",
      "[CV]  batch_size=20, epochs=20, optimizer=sgd, units=100, total=  11.6s\n",
      "[CV] batch_size=20, epochs=20, optimizer=sgd, units=100 ..............\n",
      "[CV]  batch_size=20, epochs=20, optimizer=sgd, units=100, total=  11.6s\n",
      "[CV] batch_size=20, epochs=20, optimizer=sgd, units=100 ..............\n",
      "[CV]  batch_size=20, epochs=20, optimizer=sgd, units=100, total=  10.5s\n",
      "[CV] batch_size=20, epochs=20, optimizer=rmsprop, units=50 ...........\n",
      "[CV]  batch_size=20, epochs=20, optimizer=rmsprop, units=50, total=  10.5s\n",
      "[CV] batch_size=20, epochs=20, optimizer=rmsprop, units=50 ...........\n",
      "[CV]  batch_size=20, epochs=20, optimizer=rmsprop, units=50, total=  10.1s\n",
      "[CV] batch_size=20, epochs=20, optimizer=rmsprop, units=50 ...........\n",
      "[CV]  batch_size=20, epochs=20, optimizer=rmsprop, units=50, total=   9.2s\n",
      "[CV] batch_size=20, epochs=20, optimizer=rmsprop, units=100 ..........\n"
     ]
    }
   ],
   "source": [
    "# Perform the grid search\n",
    "grid_result_rnn = grid_search.fit(X_r_train, y_train)"
   ]
  },
  {
   "cell_type": "code",
   "execution_count": 155,
   "metadata": {},
   "outputs": [
    {
     "ename": "NameError",
     "evalue": "name 'grid_result_rnn' is not defined",
     "output_type": "error",
     "traceback": [
      "\u001b[1;31m---------------------------------------------------------------------------\u001b[0m",
      "\u001b[1;31mNameError\u001b[0m                                 Traceback (most recent call last)",
      "\u001b[1;32m<ipython-input-155-0634ed9b48c8>\u001b[0m in \u001b[0;36m<module>\u001b[1;34m\u001b[0m\n\u001b[0;32m      1\u001b[0m \u001b[1;31m# Get the best hyperparameters\u001b[0m\u001b[1;33m\u001b[0m\u001b[1;33m\u001b[0m\u001b[1;33m\u001b[0m\u001b[0m\n\u001b[1;32m----> 2\u001b[1;33m \u001b[0mbest_params\u001b[0m \u001b[1;33m=\u001b[0m \u001b[0mgrid_result_rnn\u001b[0m\u001b[1;33m.\u001b[0m\u001b[0mbest_params_\u001b[0m\u001b[1;33m\u001b[0m\u001b[1;33m\u001b[0m\u001b[0m\n\u001b[0m\u001b[0;32m      3\u001b[0m \u001b[0mprint\u001b[0m\u001b[1;33m(\u001b[0m\u001b[1;34mf'Best Hyperparameters: {best_params}'\u001b[0m\u001b[1;33m)\u001b[0m\u001b[1;33m\u001b[0m\u001b[1;33m\u001b[0m\u001b[0m\n",
      "\u001b[1;31mNameError\u001b[0m: name 'grid_result_rnn' is not defined"
     ]
    }
   ],
   "source": [
    "# Get the best hyperparameters\n",
    "best_params = grid_result_rnn.best_params_\n",
    "print(f'Best Hyperparameters: {best_params}')"
   ]
  },
  {
   "cell_type": "code",
   "execution_count": null,
   "metadata": {},
   "outputs": [],
   "source": []
  }
 ],
 "metadata": {
  "kernelspec": {
   "display_name": "Python 3",
   "language": "python",
   "name": "python3"
  },
  "language_info": {
   "codemirror_mode": {
    "name": "ipython",
    "version": 3
   },
   "file_extension": ".py",
   "mimetype": "text/x-python",
   "name": "python",
   "nbconvert_exporter": "python",
   "pygments_lexer": "ipython3",
   "version": "3.8.5"
  }
 },
 "nbformat": 4,
 "nbformat_minor": 5
}
