{
 "cells": [
  {
   "cell_type": "code",
   "execution_count": 1,
   "id": "03434756",
   "metadata": {},
   "outputs": [],
   "source": [
    "import pandas as pd\n",
    "import numpy as np"
   ]
  },
  {
   "cell_type": "code",
   "execution_count": 6,
   "id": "909244c1",
   "metadata": {},
   "outputs": [
    {
     "data": {
      "text/plain": [
       "263650"
      ]
     },
     "execution_count": 6,
     "metadata": {},
     "output_type": "execute_result"
    }
   ],
   "source": [
    "date_1 = pd.read_csv(\"date_1.csv\")\n",
    "date_2 = pd.read_csv(\"date_2.csv\")\n",
    "date_3 = pd.read_csv(\"date_3.csv\")\n",
    "date_4 = pd.read_csv(\"date_4.csv\")\n",
    "date_5 = pd.read_csv(\"date_5.csv\")\n",
    "\n",
    "full_date_df = pd.concat([date_1,date_2,date_3,date_4,date_5])\n",
    "\n",
    "len(full_date_df)"
   ]
  },
  {
   "cell_type": "code",
   "execution_count": 24,
   "id": "2af1fcea",
   "metadata": {},
   "outputs": [
    {
     "data": {
      "text/html": [
       "<div>\n",
       "<style scoped>\n",
       "    .dataframe tbody tr th:only-of-type {\n",
       "        vertical-align: middle;\n",
       "    }\n",
       "\n",
       "    .dataframe tbody tr th {\n",
       "        vertical-align: top;\n",
       "    }\n",
       "\n",
       "    .dataframe thead th {\n",
       "        text-align: right;\n",
       "    }\n",
       "</style>\n",
       "<table border=\"1\" class=\"dataframe\">\n",
       "  <thead>\n",
       "    <tr style=\"text-align: right;\">\n",
       "      <th></th>\n",
       "      <th>created_utc</th>\n",
       "    </tr>\n",
       "  </thead>\n",
       "  <tbody>\n",
       "    <tr>\n",
       "      <th>0</th>\n",
       "      <td>1201236548</td>\n",
       "    </tr>\n",
       "    <tr>\n",
       "      <th>1</th>\n",
       "      <td>1201236599</td>\n",
       "    </tr>\n",
       "    <tr>\n",
       "      <th>2</th>\n",
       "      <td>1201236626</td>\n",
       "    </tr>\n",
       "    <tr>\n",
       "      <th>3</th>\n",
       "      <td>1201236662</td>\n",
       "    </tr>\n",
       "    <tr>\n",
       "      <th>4</th>\n",
       "      <td>1201236696</td>\n",
       "    </tr>\n",
       "  </tbody>\n",
       "</table>\n",
       "</div>"
      ],
      "text/plain": [
       "   created_utc\n",
       "0   1201236548\n",
       "1   1201236599\n",
       "2   1201236626\n",
       "3   1201236662\n",
       "4   1201236696"
      ]
     },
     "execution_count": 24,
     "metadata": {},
     "output_type": "execute_result"
    }
   ],
   "source": [
    "full_date_df.head()"
   ]
  },
  {
   "cell_type": "code",
   "execution_count": 21,
   "id": "26583b6c",
   "metadata": {},
   "outputs": [
    {
     "data": {
      "text/plain": [
       "314924"
      ]
     },
     "execution_count": 21,
     "metadata": {},
     "output_type": "execute_result"
    }
   ],
   "source": [
    "title_1 = pd.read_csv(\"title_1.csv\")\n",
    "title_2 = pd.read_csv(\"title_2.csv\")\n",
    "title_3 = pd.read_csv(\"title_3.csv\")\n",
    "title_4 = pd.read_csv(\"title_4.csv\")\n",
    "title_5 = pd.read_csv(\"title_5.csv\")\n",
    "\n",
    "full_title_df = pd.concat([title_1,title_2,title_3,title_4,title_5])\n",
    "\n",
    "len(full_title_df)"
   ]
  },
  {
   "cell_type": "code",
   "execution_count": 25,
   "id": "5d92d079",
   "metadata": {},
   "outputs": [
    {
     "data": {
      "text/html": [
       "<div>\n",
       "<style scoped>\n",
       "    .dataframe tbody tr th:only-of-type {\n",
       "        vertical-align: middle;\n",
       "    }\n",
       "\n",
       "    .dataframe tbody tr th {\n",
       "        vertical-align: top;\n",
       "    }\n",
       "\n",
       "    .dataframe thead th {\n",
       "        text-align: right;\n",
       "    }\n",
       "</style>\n",
       "<table border=\"1\" class=\"dataframe\">\n",
       "  <thead>\n",
       "    <tr style=\"text-align: right;\">\n",
       "      <th></th>\n",
       "      <th>title</th>\n",
       "    </tr>\n",
       "  </thead>\n",
       "  <tbody>\n",
       "    <tr>\n",
       "      <th>0</th>\n",
       "      <td>The Best Economics Blog Going</td>\n",
       "    </tr>\n",
       "    <tr>\n",
       "      <th>1</th>\n",
       "      <td>Meta: Seed The Economics blog with direct link...</td>\n",
       "    </tr>\n",
       "    <tr>\n",
       "      <th>2</th>\n",
       "      <td>Meta: Seed The Economics subreddit with direct...</td>\n",
       "    </tr>\n",
       "    <tr>\n",
       "      <th>3</th>\n",
       "      <td>Calculated Risk</td>\n",
       "    </tr>\n",
       "    <tr>\n",
       "      <th>4</th>\n",
       "      <td>Chris Blattman's Blog</td>\n",
       "    </tr>\n",
       "  </tbody>\n",
       "</table>\n",
       "</div>"
      ],
      "text/plain": [
       "                                               title\n",
       "0                      The Best Economics Blog Going\n",
       "1  Meta: Seed The Economics blog with direct link...\n",
       "2  Meta: Seed The Economics subreddit with direct...\n",
       "3                                    Calculated Risk\n",
       "4                              Chris Blattman's Blog"
      ]
     },
     "execution_count": 25,
     "metadata": {},
     "output_type": "execute_result"
    }
   ],
   "source": [
    "full_title_df.head()"
   ]
  },
  {
   "cell_type": "code",
   "execution_count": 34,
   "id": "179b905a",
   "metadata": {},
   "outputs": [],
   "source": [
    "full_df = pd.concat([full_date_df.reset_index(), full_title_df.reset_index()], axis=1)"
   ]
  },
  {
   "cell_type": "code",
   "execution_count": 40,
   "id": "b96e374c",
   "metadata": {},
   "outputs": [],
   "source": [
    "full_df_clean = full_df.dropna()"
   ]
  },
  {
   "cell_type": "code",
   "execution_count": 41,
   "id": "189f1b8b",
   "metadata": {},
   "outputs": [
    {
     "name": "stdout",
     "output_type": "stream",
     "text": [
      "(263650, 4)\n"
     ]
    }
   ],
   "source": [
    "print(full_df_clean.shape)"
   ]
  },
  {
   "cell_type": "code",
   "execution_count": 42,
   "id": "4e5f506e",
   "metadata": {},
   "outputs": [
    {
     "data": {
      "text/html": [
       "<div>\n",
       "<style scoped>\n",
       "    .dataframe tbody tr th:only-of-type {\n",
       "        vertical-align: middle;\n",
       "    }\n",
       "\n",
       "    .dataframe tbody tr th {\n",
       "        vertical-align: top;\n",
       "    }\n",
       "\n",
       "    .dataframe thead th {\n",
       "        text-align: right;\n",
       "    }\n",
       "</style>\n",
       "<table border=\"1\" class=\"dataframe\">\n",
       "  <thead>\n",
       "    <tr style=\"text-align: right;\">\n",
       "      <th></th>\n",
       "      <th>index</th>\n",
       "      <th>created_utc</th>\n",
       "      <th>index</th>\n",
       "      <th>title</th>\n",
       "    </tr>\n",
       "  </thead>\n",
       "  <tbody>\n",
       "    <tr>\n",
       "      <th>0</th>\n",
       "      <td>0.0</td>\n",
       "      <td>1.201237e+09</td>\n",
       "      <td>0</td>\n",
       "      <td>The Best Economics Blog Going</td>\n",
       "    </tr>\n",
       "    <tr>\n",
       "      <th>1</th>\n",
       "      <td>1.0</td>\n",
       "      <td>1.201237e+09</td>\n",
       "      <td>1</td>\n",
       "      <td>Meta: Seed The Economics blog with direct link...</td>\n",
       "    </tr>\n",
       "    <tr>\n",
       "      <th>2</th>\n",
       "      <td>2.0</td>\n",
       "      <td>1.201237e+09</td>\n",
       "      <td>2</td>\n",
       "      <td>Meta: Seed The Economics subreddit with direct...</td>\n",
       "    </tr>\n",
       "    <tr>\n",
       "      <th>3</th>\n",
       "      <td>3.0</td>\n",
       "      <td>1.201237e+09</td>\n",
       "      <td>3</td>\n",
       "      <td>Calculated Risk</td>\n",
       "    </tr>\n",
       "    <tr>\n",
       "      <th>4</th>\n",
       "      <td>4.0</td>\n",
       "      <td>1.201237e+09</td>\n",
       "      <td>4</td>\n",
       "      <td>Chris Blattman's Blog</td>\n",
       "    </tr>\n",
       "  </tbody>\n",
       "</table>\n",
       "</div>"
      ],
      "text/plain": [
       "   index   created_utc  index  \\\n",
       "0    0.0  1.201237e+09      0   \n",
       "1    1.0  1.201237e+09      1   \n",
       "2    2.0  1.201237e+09      2   \n",
       "3    3.0  1.201237e+09      3   \n",
       "4    4.0  1.201237e+09      4   \n",
       "\n",
       "                                               title  \n",
       "0                      The Best Economics Blog Going  \n",
       "1  Meta: Seed The Economics blog with direct link...  \n",
       "2  Meta: Seed The Economics subreddit with direct...  \n",
       "3                                    Calculated Risk  \n",
       "4                              Chris Blattman's Blog  "
      ]
     },
     "execution_count": 42,
     "metadata": {},
     "output_type": "execute_result"
    }
   ],
   "source": [
    "full_df_clean.head()"
   ]
  },
  {
   "cell_type": "code",
   "execution_count": 43,
   "id": "33f2fd3a",
   "metadata": {},
   "outputs": [],
   "source": [
    "full_df_clean = full_df_clean[['created_utc','title']]"
   ]
  },
  {
   "cell_type": "code",
   "execution_count": 45,
   "id": "548bacc6",
   "metadata": {},
   "outputs": [],
   "source": [
    "import datetime"
   ]
  },
  {
   "cell_type": "code",
   "execution_count": 46,
   "id": "53bc8c11",
   "metadata": {},
   "outputs": [
    {
     "data": {
      "text/html": [
       "<div>\n",
       "<style scoped>\n",
       "    .dataframe tbody tr th:only-of-type {\n",
       "        vertical-align: middle;\n",
       "    }\n",
       "\n",
       "    .dataframe tbody tr th {\n",
       "        vertical-align: top;\n",
       "    }\n",
       "\n",
       "    .dataframe thead th {\n",
       "        text-align: right;\n",
       "    }\n",
       "</style>\n",
       "<table border=\"1\" class=\"dataframe\">\n",
       "  <thead>\n",
       "    <tr style=\"text-align: right;\">\n",
       "      <th></th>\n",
       "      <th>created_utc</th>\n",
       "      <th>title</th>\n",
       "      <th>date</th>\n",
       "    </tr>\n",
       "  </thead>\n",
       "  <tbody>\n",
       "    <tr>\n",
       "      <th>0</th>\n",
       "      <td>1.201237e+09</td>\n",
       "      <td>The Best Economics Blog Going</td>\n",
       "      <td>2008-01-25 04:49:08</td>\n",
       "    </tr>\n",
       "    <tr>\n",
       "      <th>1</th>\n",
       "      <td>1.201237e+09</td>\n",
       "      <td>Meta: Seed The Economics blog with direct link...</td>\n",
       "      <td>2008-01-25 04:49:59</td>\n",
       "    </tr>\n",
       "    <tr>\n",
       "      <th>2</th>\n",
       "      <td>1.201237e+09</td>\n",
       "      <td>Meta: Seed The Economics subreddit with direct...</td>\n",
       "      <td>2008-01-25 04:50:26</td>\n",
       "    </tr>\n",
       "    <tr>\n",
       "      <th>3</th>\n",
       "      <td>1.201237e+09</td>\n",
       "      <td>Calculated Risk</td>\n",
       "      <td>2008-01-25 04:51:02</td>\n",
       "    </tr>\n",
       "    <tr>\n",
       "      <th>4</th>\n",
       "      <td>1.201237e+09</td>\n",
       "      <td>Chris Blattman's Blog</td>\n",
       "      <td>2008-01-25 04:51:36</td>\n",
       "    </tr>\n",
       "  </tbody>\n",
       "</table>\n",
       "</div>"
      ],
      "text/plain": [
       "    created_utc                                              title  \\\n",
       "0  1.201237e+09                      The Best Economics Blog Going   \n",
       "1  1.201237e+09  Meta: Seed The Economics blog with direct link...   \n",
       "2  1.201237e+09  Meta: Seed The Economics subreddit with direct...   \n",
       "3  1.201237e+09                                    Calculated Risk   \n",
       "4  1.201237e+09                              Chris Blattman's Blog   \n",
       "\n",
       "                 date  \n",
       "0 2008-01-25 04:49:08  \n",
       "1 2008-01-25 04:49:59  \n",
       "2 2008-01-25 04:50:26  \n",
       "3 2008-01-25 04:51:02  \n",
       "4 2008-01-25 04:51:36  "
      ]
     },
     "execution_count": 46,
     "metadata": {},
     "output_type": "execute_result"
    }
   ],
   "source": [
    "full_df_clean['date'] = pd.to_datetime(full_df_clean['created_utc'], unit = \"s\")\n",
    "full_df_clean.head()"
   ]
  },
  {
   "cell_type": "code",
   "execution_count": 47,
   "id": "4bb70b84",
   "metadata": {},
   "outputs": [
    {
     "data": {
      "text/html": [
       "<div>\n",
       "<style scoped>\n",
       "    .dataframe tbody tr th:only-of-type {\n",
       "        vertical-align: middle;\n",
       "    }\n",
       "\n",
       "    .dataframe tbody tr th {\n",
       "        vertical-align: top;\n",
       "    }\n",
       "\n",
       "    .dataframe thead th {\n",
       "        text-align: right;\n",
       "    }\n",
       "</style>\n",
       "<table border=\"1\" class=\"dataframe\">\n",
       "  <thead>\n",
       "    <tr style=\"text-align: right;\">\n",
       "      <th></th>\n",
       "      <th>created_utc</th>\n",
       "      <th>title</th>\n",
       "      <th>date</th>\n",
       "    </tr>\n",
       "  </thead>\n",
       "  <tbody>\n",
       "    <tr>\n",
       "      <th>0</th>\n",
       "      <td>1.201237e+09</td>\n",
       "      <td>The Best Economics Blog Going</td>\n",
       "      <td>2008-01-25</td>\n",
       "    </tr>\n",
       "    <tr>\n",
       "      <th>1</th>\n",
       "      <td>1.201237e+09</td>\n",
       "      <td>Meta: Seed The Economics blog with direct link...</td>\n",
       "      <td>2008-01-25</td>\n",
       "    </tr>\n",
       "    <tr>\n",
       "      <th>2</th>\n",
       "      <td>1.201237e+09</td>\n",
       "      <td>Meta: Seed The Economics subreddit with direct...</td>\n",
       "      <td>2008-01-25</td>\n",
       "    </tr>\n",
       "    <tr>\n",
       "      <th>3</th>\n",
       "      <td>1.201237e+09</td>\n",
       "      <td>Calculated Risk</td>\n",
       "      <td>2008-01-25</td>\n",
       "    </tr>\n",
       "    <tr>\n",
       "      <th>4</th>\n",
       "      <td>1.201237e+09</td>\n",
       "      <td>Chris Blattman's Blog</td>\n",
       "      <td>2008-01-25</td>\n",
       "    </tr>\n",
       "  </tbody>\n",
       "</table>\n",
       "</div>"
      ],
      "text/plain": [
       "    created_utc                                              title        date\n",
       "0  1.201237e+09                      The Best Economics Blog Going  2008-01-25\n",
       "1  1.201237e+09  Meta: Seed The Economics blog with direct link...  2008-01-25\n",
       "2  1.201237e+09  Meta: Seed The Economics subreddit with direct...  2008-01-25\n",
       "3  1.201237e+09                                    Calculated Risk  2008-01-25\n",
       "4  1.201237e+09                              Chris Blattman's Blog  2008-01-25"
      ]
     },
     "execution_count": 47,
     "metadata": {},
     "output_type": "execute_result"
    }
   ],
   "source": [
    "full_df_clean['date'] = full_df_clean['date'].dt.date\n",
    "full_df_clean.head()"
   ]
  },
  {
   "cell_type": "code",
   "execution_count": 48,
   "id": "47a42ed5",
   "metadata": {},
   "outputs": [
    {
     "data": {
      "text/html": [
       "<div>\n",
       "<style scoped>\n",
       "    .dataframe tbody tr th:only-of-type {\n",
       "        vertical-align: middle;\n",
       "    }\n",
       "\n",
       "    .dataframe tbody tr th {\n",
       "        vertical-align: top;\n",
       "    }\n",
       "\n",
       "    .dataframe thead th {\n",
       "        text-align: right;\n",
       "    }\n",
       "</style>\n",
       "<table border=\"1\" class=\"dataframe\">\n",
       "  <thead>\n",
       "    <tr style=\"text-align: right;\">\n",
       "      <th></th>\n",
       "      <th>date</th>\n",
       "      <th>title</th>\n",
       "    </tr>\n",
       "  </thead>\n",
       "  <tbody>\n",
       "    <tr>\n",
       "      <th>0</th>\n",
       "      <td>2008-01-25</td>\n",
       "      <td>The Best Economics Blog Going</td>\n",
       "    </tr>\n",
       "    <tr>\n",
       "      <th>1</th>\n",
       "      <td>2008-01-25</td>\n",
       "      <td>Meta: Seed The Economics blog with direct link...</td>\n",
       "    </tr>\n",
       "    <tr>\n",
       "      <th>2</th>\n",
       "      <td>2008-01-25</td>\n",
       "      <td>Meta: Seed The Economics subreddit with direct...</td>\n",
       "    </tr>\n",
       "    <tr>\n",
       "      <th>3</th>\n",
       "      <td>2008-01-25</td>\n",
       "      <td>Calculated Risk</td>\n",
       "    </tr>\n",
       "    <tr>\n",
       "      <th>4</th>\n",
       "      <td>2008-01-25</td>\n",
       "      <td>Chris Blattman's Blog</td>\n",
       "    </tr>\n",
       "  </tbody>\n",
       "</table>\n",
       "</div>"
      ],
      "text/plain": [
       "         date                                              title\n",
       "0  2008-01-25                      The Best Economics Blog Going\n",
       "1  2008-01-25  Meta: Seed The Economics blog with direct link...\n",
       "2  2008-01-25  Meta: Seed The Economics subreddit with direct...\n",
       "3  2008-01-25                                    Calculated Risk\n",
       "4  2008-01-25                              Chris Blattman's Blog"
      ]
     },
     "execution_count": 48,
     "metadata": {},
     "output_type": "execute_result"
    }
   ],
   "source": [
    "full_df_clean = full_df_clean[['date', 'title']]\n",
    "full_df_clean.head()"
   ]
  },
  {
   "cell_type": "code",
   "execution_count": 49,
   "id": "ef72b33d",
   "metadata": {},
   "outputs": [],
   "source": [
    "import nltk"
   ]
  },
  {
   "cell_type": "code",
   "execution_count": 50,
   "id": "5ba41300",
   "metadata": {},
   "outputs": [
    {
     "name": "stderr",
     "output_type": "stream",
     "text": [
      "[nltk_data] Downloading package vader_lexicon to\n",
      "[nltk_data]     /Users/michele/nltk_data...\n"
     ]
    },
    {
     "data": {
      "text/plain": [
       "True"
      ]
     },
     "execution_count": 50,
     "metadata": {},
     "output_type": "execute_result"
    }
   ],
   "source": [
    "nltk.download('vader_lexicon')"
   ]
  },
  {
   "cell_type": "code",
   "execution_count": 51,
   "id": "13a25563",
   "metadata": {},
   "outputs": [],
   "source": [
    "from nltk.sentiment.vader import SentimentIntensityAnalyzer"
   ]
  },
  {
   "cell_type": "code",
   "execution_count": 58,
   "id": "21c3b9b9",
   "metadata": {},
   "outputs": [],
   "source": [
    "# Index of the row you want to analyze (e.g., row 1)\n",
    "row_index = 1\n",
    "\n",
    "# Get the text from the specific row\n",
    "text_to_analyze = full_df_clean.loc[row_index, 'title']\n",
    "\n",
    "# Calculate sentiment scores for the text\n",
    "sentiment_scores = analyzer.polarity_scores(text_to_analyze)\n",
    "\n",
    "# Interpret the sentiment scores\n",
    "compound_score = sentiment_scores['compound']"
   ]
  },
  {
   "cell_type": "code",
   "execution_count": 66,
   "id": "a98d129c",
   "metadata": {},
   "outputs": [],
   "source": [
    "scores = []\n",
    "for i in range(0,len(full_df_clean['title'])):\n",
    "    row_index = i\n",
    "    text_to_analyse = full_df_clean.loc[row_index,'title']\n",
    "    sentiment_scores = analyzer.polarity_scores(text_to_analyse)\n",
    "    compound_score = sentiment_scores['compound']\n",
    "    scores.append(compound_score)"
   ]
  },
  {
   "cell_type": "code",
   "execution_count": 67,
   "id": "369b705a",
   "metadata": {},
   "outputs": [
    {
     "data": {
      "text/plain": [
       "263650"
      ]
     },
     "execution_count": 67,
     "metadata": {},
     "output_type": "execute_result"
    }
   ],
   "source": [
    "len(scores)"
   ]
  },
  {
   "cell_type": "code",
   "execution_count": 79,
   "id": "3de5c16c",
   "metadata": {},
   "outputs": [
    {
     "data": {
      "text/html": [
       "<div>\n",
       "<style scoped>\n",
       "    .dataframe tbody tr th:only-of-type {\n",
       "        vertical-align: middle;\n",
       "    }\n",
       "\n",
       "    .dataframe tbody tr th {\n",
       "        vertical-align: top;\n",
       "    }\n",
       "\n",
       "    .dataframe thead th {\n",
       "        text-align: right;\n",
       "    }\n",
       "</style>\n",
       "<table border=\"1\" class=\"dataframe\">\n",
       "  <thead>\n",
       "    <tr style=\"text-align: right;\">\n",
       "      <th></th>\n",
       "      <th>date</th>\n",
       "      <th>title</th>\n",
       "      <th>sentiment</th>\n",
       "      <th>scores</th>\n",
       "    </tr>\n",
       "  </thead>\n",
       "  <tbody>\n",
       "    <tr>\n",
       "      <th>0</th>\n",
       "      <td>2008-01-25</td>\n",
       "      <td>The Best Economics Blog Going</td>\n",
       "      <td>0.6369</td>\n",
       "      <td>0.6369</td>\n",
       "    </tr>\n",
       "    <tr>\n",
       "      <th>1</th>\n",
       "      <td>2008-01-25</td>\n",
       "      <td>Meta: Seed The Economics blog with direct link...</td>\n",
       "      <td>0.4588</td>\n",
       "      <td>0.4588</td>\n",
       "    </tr>\n",
       "    <tr>\n",
       "      <th>2</th>\n",
       "      <td>2008-01-25</td>\n",
       "      <td>Meta: Seed The Economics subreddit with direct...</td>\n",
       "      <td>0.4588</td>\n",
       "      <td>0.4588</td>\n",
       "    </tr>\n",
       "    <tr>\n",
       "      <th>3</th>\n",
       "      <td>2008-01-25</td>\n",
       "      <td>Calculated Risk</td>\n",
       "      <td>-0.2732</td>\n",
       "      <td>-0.2732</td>\n",
       "    </tr>\n",
       "    <tr>\n",
       "      <th>4</th>\n",
       "      <td>2008-01-25</td>\n",
       "      <td>Chris Blattman's Blog</td>\n",
       "      <td>0.0000</td>\n",
       "      <td>0.0000</td>\n",
       "    </tr>\n",
       "  </tbody>\n",
       "</table>\n",
       "</div>"
      ],
      "text/plain": [
       "        date                                              title  sentiment  \\\n",
       "0 2008-01-25                      The Best Economics Blog Going     0.6369   \n",
       "1 2008-01-25  Meta: Seed The Economics blog with direct link...     0.4588   \n",
       "2 2008-01-25  Meta: Seed The Economics subreddit with direct...     0.4588   \n",
       "3 2008-01-25                                    Calculated Risk    -0.2732   \n",
       "4 2008-01-25                              Chris Blattman's Blog     0.0000   \n",
       "\n",
       "   scores  \n",
       "0  0.6369  \n",
       "1  0.4588  \n",
       "2  0.4588  \n",
       "3 -0.2732  \n",
       "4  0.0000  "
      ]
     },
     "execution_count": 79,
     "metadata": {},
     "output_type": "execute_result"
    }
   ],
   "source": [
    "full_df_clean['scores'] = scores\n",
    "full_df_clean.head()"
   ]
  },
  {
   "cell_type": "code",
   "execution_count": 80,
   "id": "9bac915d",
   "metadata": {},
   "outputs": [
    {
     "name": "stdout",
     "output_type": "stream",
     "text": [
      "<class 'pandas.core.frame.DataFrame'>\n",
      "Int64Index: 263650 entries, 0 to 263649\n",
      "Data columns (total 4 columns):\n",
      " #   Column     Non-Null Count   Dtype         \n",
      "---  ------     --------------   -----         \n",
      " 0   date       263650 non-null  datetime64[ns]\n",
      " 1   title      263650 non-null  object        \n",
      " 2   sentiment  263650 non-null  float64       \n",
      " 3   scores     263650 non-null  float64       \n",
      "dtypes: datetime64[ns](1), float64(2), object(1)\n",
      "memory usage: 18.1+ MB\n"
     ]
    }
   ],
   "source": [
    "full_df_clean.info()"
   ]
  },
  {
   "cell_type": "code",
   "execution_count": 81,
   "id": "746057d6",
   "metadata": {},
   "outputs": [],
   "source": [
    "full_df_clean['date'] = pd.to_datetime(full_df_clean['date'])"
   ]
  },
  {
   "cell_type": "code",
   "execution_count": 82,
   "id": "58c8fd6d",
   "metadata": {},
   "outputs": [
    {
     "name": "stdout",
     "output_type": "stream",
     "text": [
      "<class 'pandas.core.frame.DataFrame'>\n",
      "Int64Index: 263650 entries, 0 to 263649\n",
      "Data columns (total 4 columns):\n",
      " #   Column     Non-Null Count   Dtype         \n",
      "---  ------     --------------   -----         \n",
      " 0   date       263650 non-null  datetime64[ns]\n",
      " 1   title      263650 non-null  object        \n",
      " 2   sentiment  263650 non-null  float64       \n",
      " 3   scores     263650 non-null  float64       \n",
      "dtypes: datetime64[ns](1), float64(2), object(1)\n",
      "memory usage: 18.1+ MB\n"
     ]
    }
   ],
   "source": [
    "full_df_clean.info()"
   ]
  },
  {
   "cell_type": "code",
   "execution_count": 83,
   "id": "ef7f33fd",
   "metadata": {},
   "outputs": [
    {
     "data": {
      "text/html": [
       "<div>\n",
       "<style scoped>\n",
       "    .dataframe tbody tr th:only-of-type {\n",
       "        vertical-align: middle;\n",
       "    }\n",
       "\n",
       "    .dataframe tbody tr th {\n",
       "        vertical-align: top;\n",
       "    }\n",
       "\n",
       "    .dataframe thead th {\n",
       "        text-align: right;\n",
       "    }\n",
       "</style>\n",
       "<table border=\"1\" class=\"dataframe\">\n",
       "  <thead>\n",
       "    <tr style=\"text-align: right;\">\n",
       "      <th></th>\n",
       "      <th>date</th>\n",
       "      <th>title</th>\n",
       "      <th>sentiment</th>\n",
       "      <th>scores</th>\n",
       "    </tr>\n",
       "  </thead>\n",
       "  <tbody>\n",
       "    <tr>\n",
       "      <th>0</th>\n",
       "      <td>2008-01-25</td>\n",
       "      <td>The Best Economics Blog Going</td>\n",
       "      <td>0.6369</td>\n",
       "      <td>0.6369</td>\n",
       "    </tr>\n",
       "    <tr>\n",
       "      <th>1</th>\n",
       "      <td>2008-01-25</td>\n",
       "      <td>Meta: Seed The Economics blog with direct link...</td>\n",
       "      <td>0.4588</td>\n",
       "      <td>0.4588</td>\n",
       "    </tr>\n",
       "    <tr>\n",
       "      <th>2</th>\n",
       "      <td>2008-01-25</td>\n",
       "      <td>Meta: Seed The Economics subreddit with direct...</td>\n",
       "      <td>0.4588</td>\n",
       "      <td>0.4588</td>\n",
       "    </tr>\n",
       "    <tr>\n",
       "      <th>3</th>\n",
       "      <td>2008-01-25</td>\n",
       "      <td>Calculated Risk</td>\n",
       "      <td>-0.2732</td>\n",
       "      <td>-0.2732</td>\n",
       "    </tr>\n",
       "    <tr>\n",
       "      <th>4</th>\n",
       "      <td>2008-01-25</td>\n",
       "      <td>Chris Blattman's Blog</td>\n",
       "      <td>0.0000</td>\n",
       "      <td>0.0000</td>\n",
       "    </tr>\n",
       "  </tbody>\n",
       "</table>\n",
       "</div>"
      ],
      "text/plain": [
       "        date                                              title  sentiment  \\\n",
       "0 2008-01-25                      The Best Economics Blog Going     0.6369   \n",
       "1 2008-01-25  Meta: Seed The Economics blog with direct link...     0.4588   \n",
       "2 2008-01-25  Meta: Seed The Economics subreddit with direct...     0.4588   \n",
       "3 2008-01-25                                    Calculated Risk    -0.2732   \n",
       "4 2008-01-25                              Chris Blattman's Blog     0.0000   \n",
       "\n",
       "   scores  \n",
       "0  0.6369  \n",
       "1  0.4588  \n",
       "2  0.4588  \n",
       "3 -0.2732  \n",
       "4  0.0000  "
      ]
     },
     "execution_count": 83,
     "metadata": {},
     "output_type": "execute_result"
    }
   ],
   "source": [
    "full_df_clean.head()"
   ]
  },
  {
   "cell_type": "code",
   "execution_count": 87,
   "id": "0e79bcb2",
   "metadata": {},
   "outputs": [],
   "source": [
    "sentiment_df = full_df_clean.groupby('date')['scores'].mean().reset_index()"
   ]
  },
  {
   "cell_type": "code",
   "execution_count": 88,
   "id": "578b1760",
   "metadata": {},
   "outputs": [
    {
     "data": {
      "text/html": [
       "<div>\n",
       "<style scoped>\n",
       "    .dataframe tbody tr th:only-of-type {\n",
       "        vertical-align: middle;\n",
       "    }\n",
       "\n",
       "    .dataframe tbody tr th {\n",
       "        vertical-align: top;\n",
       "    }\n",
       "\n",
       "    .dataframe thead th {\n",
       "        text-align: right;\n",
       "    }\n",
       "</style>\n",
       "<table border=\"1\" class=\"dataframe\">\n",
       "  <thead>\n",
       "    <tr style=\"text-align: right;\">\n",
       "      <th></th>\n",
       "      <th>date</th>\n",
       "      <th>scores</th>\n",
       "    </tr>\n",
       "  </thead>\n",
       "  <tbody>\n",
       "    <tr>\n",
       "      <th>0</th>\n",
       "      <td>2008-01-25</td>\n",
       "      <td>0.084243</td>\n",
       "    </tr>\n",
       "    <tr>\n",
       "      <th>1</th>\n",
       "      <td>2008-01-26</td>\n",
       "      <td>0.003900</td>\n",
       "    </tr>\n",
       "    <tr>\n",
       "      <th>2</th>\n",
       "      <td>2008-01-27</td>\n",
       "      <td>0.075342</td>\n",
       "    </tr>\n",
       "    <tr>\n",
       "      <th>3</th>\n",
       "      <td>2008-01-28</td>\n",
       "      <td>-0.027604</td>\n",
       "    </tr>\n",
       "    <tr>\n",
       "      <th>4</th>\n",
       "      <td>2008-01-29</td>\n",
       "      <td>0.030093</td>\n",
       "    </tr>\n",
       "  </tbody>\n",
       "</table>\n",
       "</div>"
      ],
      "text/plain": [
       "        date    scores\n",
       "0 2008-01-25  0.084243\n",
       "1 2008-01-26  0.003900\n",
       "2 2008-01-27  0.075342\n",
       "3 2008-01-28 -0.027604\n",
       "4 2008-01-29  0.030093"
      ]
     },
     "execution_count": 88,
     "metadata": {},
     "output_type": "execute_result"
    }
   ],
   "source": [
    "sentiment_df.head()"
   ]
  },
  {
   "cell_type": "code",
   "execution_count": 89,
   "id": "56011b91",
   "metadata": {},
   "outputs": [
    {
     "data": {
      "text/html": [
       "<div>\n",
       "<style scoped>\n",
       "    .dataframe tbody tr th:only-of-type {\n",
       "        vertical-align: middle;\n",
       "    }\n",
       "\n",
       "    .dataframe tbody tr th {\n",
       "        vertical-align: top;\n",
       "    }\n",
       "\n",
       "    .dataframe thead th {\n",
       "        text-align: right;\n",
       "    }\n",
       "</style>\n",
       "<table border=\"1\" class=\"dataframe\">\n",
       "  <thead>\n",
       "    <tr style=\"text-align: right;\">\n",
       "      <th></th>\n",
       "      <th>date</th>\n",
       "      <th>scores</th>\n",
       "    </tr>\n",
       "  </thead>\n",
       "  <tbody>\n",
       "    <tr>\n",
       "      <th>4751</th>\n",
       "      <td>2022-12-27</td>\n",
       "      <td>0.083791</td>\n",
       "    </tr>\n",
       "    <tr>\n",
       "      <th>4752</th>\n",
       "      <td>2022-12-28</td>\n",
       "      <td>-0.019761</td>\n",
       "    </tr>\n",
       "    <tr>\n",
       "      <th>4753</th>\n",
       "      <td>2022-12-29</td>\n",
       "      <td>0.011074</td>\n",
       "    </tr>\n",
       "    <tr>\n",
       "      <th>4754</th>\n",
       "      <td>2022-12-30</td>\n",
       "      <td>0.020986</td>\n",
       "    </tr>\n",
       "    <tr>\n",
       "      <th>4755</th>\n",
       "      <td>2022-12-31</td>\n",
       "      <td>-0.193041</td>\n",
       "    </tr>\n",
       "  </tbody>\n",
       "</table>\n",
       "</div>"
      ],
      "text/plain": [
       "           date    scores\n",
       "4751 2022-12-27  0.083791\n",
       "4752 2022-12-28 -0.019761\n",
       "4753 2022-12-29  0.011074\n",
       "4754 2022-12-30  0.020986\n",
       "4755 2022-12-31 -0.193041"
      ]
     },
     "execution_count": 89,
     "metadata": {},
     "output_type": "execute_result"
    }
   ],
   "source": [
    "sentiment_df.tail()"
   ]
  },
  {
   "cell_type": "code",
   "execution_count": 94,
   "id": "957d19d6",
   "metadata": {},
   "outputs": [],
   "source": [
    "for i in range(0,len(sentiment_df['scores'])):\n",
    "    if sentiment_df.loc[i,'scores'] >= 0.05:\n",
    "        sentiment_df.loc[i,'sentiment'] = 'Positive'\n",
    "    elif sentiment_df.loc[i,'scores'] <= -0.05:\n",
    "        sentiment_df.loc[i,'sentiment'] = 'Negative'\n",
    "    else:\n",
    "        sentiment_df.loc[i,'sentiment'] = 'Neutral'"
   ]
  },
  {
   "cell_type": "code",
   "execution_count": 95,
   "id": "049e2be2",
   "metadata": {},
   "outputs": [
    {
     "data": {
      "text/html": [
       "<div>\n",
       "<style scoped>\n",
       "    .dataframe tbody tr th:only-of-type {\n",
       "        vertical-align: middle;\n",
       "    }\n",
       "\n",
       "    .dataframe tbody tr th {\n",
       "        vertical-align: top;\n",
       "    }\n",
       "\n",
       "    .dataframe thead th {\n",
       "        text-align: right;\n",
       "    }\n",
       "</style>\n",
       "<table border=\"1\" class=\"dataframe\">\n",
       "  <thead>\n",
       "    <tr style=\"text-align: right;\">\n",
       "      <th></th>\n",
       "      <th>date</th>\n",
       "      <th>scores</th>\n",
       "      <th>sentiment</th>\n",
       "    </tr>\n",
       "  </thead>\n",
       "  <tbody>\n",
       "    <tr>\n",
       "      <th>0</th>\n",
       "      <td>2008-01-25</td>\n",
       "      <td>0.084243</td>\n",
       "      <td>Positive</td>\n",
       "    </tr>\n",
       "    <tr>\n",
       "      <th>1</th>\n",
       "      <td>2008-01-26</td>\n",
       "      <td>0.003900</td>\n",
       "      <td>Neutral</td>\n",
       "    </tr>\n",
       "    <tr>\n",
       "      <th>2</th>\n",
       "      <td>2008-01-27</td>\n",
       "      <td>0.075342</td>\n",
       "      <td>Positive</td>\n",
       "    </tr>\n",
       "    <tr>\n",
       "      <th>3</th>\n",
       "      <td>2008-01-28</td>\n",
       "      <td>-0.027604</td>\n",
       "      <td>Neutral</td>\n",
       "    </tr>\n",
       "    <tr>\n",
       "      <th>4</th>\n",
       "      <td>2008-01-29</td>\n",
       "      <td>0.030093</td>\n",
       "      <td>Neutral</td>\n",
       "    </tr>\n",
       "  </tbody>\n",
       "</table>\n",
       "</div>"
      ],
      "text/plain": [
       "        date    scores sentiment\n",
       "0 2008-01-25  0.084243  Positive\n",
       "1 2008-01-26  0.003900   Neutral\n",
       "2 2008-01-27  0.075342  Positive\n",
       "3 2008-01-28 -0.027604   Neutral\n",
       "4 2008-01-29  0.030093   Neutral"
      ]
     },
     "execution_count": 95,
     "metadata": {},
     "output_type": "execute_result"
    }
   ],
   "source": [
    "sentiment_df.head()"
   ]
  },
  {
   "cell_type": "code",
   "execution_count": null,
   "id": "9080df92",
   "metadata": {},
   "outputs": [],
   "source": []
  }
 ],
 "metadata": {
  "kernelspec": {
   "display_name": "Python 3 (ipykernel)",
   "language": "python",
   "name": "python3"
  },
  "language_info": {
   "codemirror_mode": {
    "name": "ipython",
    "version": 3
   },
   "file_extension": ".py",
   "mimetype": "text/x-python",
   "name": "python",
   "nbconvert_exporter": "python",
   "pygments_lexer": "ipython3",
   "version": "3.9.13"
  }
 },
 "nbformat": 4,
 "nbformat_minor": 5
}
